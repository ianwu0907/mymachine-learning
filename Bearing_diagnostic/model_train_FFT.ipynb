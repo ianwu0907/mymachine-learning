{
 "cells": [
  {
   "cell_type": "code",
   "id": "6ae1e7f921fd05e4",
   "metadata": {
    "collapsed": true,
    "ExecuteTime": {
     "end_time": "2024-08-01T14:40:38.428425Z",
     "start_time": "2024-08-01T14:40:38.369793Z"
    }
   },
   "source": [
    "import os\n",
    "import matplotlib.pyplot as plt\n",
    "from collections import Counter\n",
    "import numpy as np\n",
    "import tensorflow as tf\n",
    "from joblib import dump, load"
   ],
   "outputs": [],
   "execution_count": 156
  },
  {
   "metadata": {},
   "cell_type": "markdown",
   "source": [
    "\n",
    "# 读取数据，构造训练集和测试集"
   ],
   "id": "ce667370f0f22f56"
  },
  {
   "metadata": {
    "ExecuteTime": {
     "end_time": "2024-08-01T14:40:40.362603Z",
     "start_time": "2024-08-01T14:40:40.348921Z"
    }
   },
   "cell_type": "code",
   "source": [
    "def load_data():\n",
    "    # 读取数据\n",
    "    x = np.load('train_data/train_data_FFT.npy')\n",
    "    y = np.load('train_data/label_FFT.npy')\n",
    "    num = len(Counter(y))\n",
    "    print(\"类别数量为：\", num)\n",
    "    return x, y, num\n"
   ],
   "id": "351d3fc7e3daec7a",
   "outputs": [],
   "execution_count": 157
  },
  {
   "metadata": {
    "ExecuteTime": {
     "end_time": "2024-08-01T14:40:42.338414Z",
     "start_time": "2024-08-01T14:40:42.309315Z"
    }
   },
   "cell_type": "code",
   "source": [
    "\n",
    "def create_train_data(x, y, ratio=0.8):\n",
    "    \"\"\"\n",
    "    x:数据\n",
    "    y:类别\n",
    "    ratio:生成训练集比率\n",
    "    \"\"\"\n",
    "    # 打乱顺序\n",
    "    # 读取data矩阵的第一维数（图片的个数）\n",
    "    num_example = x.shape[0]\n",
    "    # 产生一个num_example范围，步长为1的序列\n",
    "    arr = np.arange(num_example)\n",
    "    # 调用函数，打乱顺序\n",
    "    np.random.seed(50)\n",
    "    # !!!一定要设置随机种子，否则每次生成的数据集都是不一样的，训练结果会大幅降低\n",
    "    np.random.shuffle(arr)\n",
    "    # 按照打乱的顺序，重新排序\n",
    "    arr_data = x[arr]\n",
    "    arr_label = y[arr]\n",
    "    # 将数据集分为训练集80%、测试集20%\n",
    "    s = int(num_example * ratio)\n",
    "    x_train = arr_data[:s]\n",
    "    y_train = arr_label[:s]\n",
    "    x_val = arr_data[s:]\n",
    "    y_val = arr_label[s:]\n",
    "    print(\"训练集shape\", x_train.shape)\n",
    "    print(\"训练集类别：\", Counter(y_train))\n",
    "    print(\"测试集shape\", x_val.shape)\n",
    "    print(\"测试集类别：\", Counter(y_val))\n",
    "    return x_train, y_train, x_val, y_val\n"
   ],
   "id": "5ccd59021a5e3b72",
   "outputs": [],
   "execution_count": 158
  },
  {
   "metadata": {},
   "cell_type": "markdown",
   "source": "# 读取数据",
   "id": "f45b29349cf04854"
  },
  {
   "metadata": {
    "ExecuteTime": {
     "end_time": "2024-08-01T14:40:44.741356Z",
     "start_time": "2024-08-01T14:40:44.709282Z"
    }
   },
   "cell_type": "code",
   "source": [
    "data, label, label_count = load_data()\n",
    "# 生成训练集测试集,70%用作训练，30%用作测试\n",
    "train_data, train_label, val_data, val_label = create_train_data(data, label, 0.7)\n",
    "# # 从val_data和val_label中拿出最后1个元素作为测试组\n",
    "# test_data = val_data[-1:]\n",
    "# test_label = val_label[-1:]\n",
    "# \n",
    "# # 移除val_data和val_label中的最后1个元素\n",
    "# val_data = val_data[:-1]\n",
    "# val_label = val_label[:-1]\n",
    "print(\"*\" * 10)\n",
    "print(\"训练集数量：\", len(train_label))\n",
    "print(\"测试集数量：\", len(val_label))\n",
    "# print(\"测试组数量：\",len(test_label))"
   ],
   "id": "67f68f2110816791",
   "outputs": [
    {
     "name": "stdout",
     "output_type": "stream",
     "text": [
      "类别数量为： 10\n",
      "训练集shape (1260, 1, 3)\n",
      "训练集类别： Counter({8: 138, 0: 130, 4: 130, 2: 128, 9: 127, 6: 125, 7: 124, 1: 122, 5: 120, 3: 116})\n",
      "测试集shape (540, 1, 3)\n",
      "测试集类别： Counter({3: 64, 5: 60, 1: 58, 7: 56, 6: 55, 9: 53, 2: 52, 4: 50, 0: 50, 8: 42})\n",
      "**********\n",
      "训练集数量： 1260\n",
      "测试集数量： 540\n"
     ]
    }
   ],
   "execution_count": 159
  },
  {
   "metadata": {
    "ExecuteTime": {
     "end_time": "2024-08-01T11:08:38.819709Z",
     "start_time": "2024-08-01T11:08:38.804284Z"
    }
   },
   "cell_type": "code",
   "source": "print(train_data[10][0])",
   "id": "1c49ea2c0b2ba025",
   "outputs": [
    {
     "name": "stdout",
     "output_type": "stream",
     "text": [
      "[0.13952794 0.0793899  0.07657249]\n"
     ]
    }
   ],
   "execution_count": 136
  },
  {
   "metadata": {},
   "cell_type": "markdown",
   "source": [
    "\n",
    "# 数据集构建"
   ],
   "id": "784de51fe22888a4"
  },
  {
   "metadata": {
    "ExecuteTime": {
     "end_time": "2024-08-01T14:40:50.074321Z",
     "start_time": "2024-08-01T14:40:50.046624Z"
    }
   },
   "cell_type": "code",
   "source": [
    "# 使用机器学习算法需要对多维数据进行降维\n",
    "m_train = train_data.reshape(train_data.shape[0], train_data.shape[1] * train_data.shape[2])\n",
    "m_val = val_data.reshape(val_data.shape[0], val_data.shape[1] * val_data.shape[2])\n",
    "# m_test = test_data.reshape(test_data.shape[0],test_data.shape[1]*test_data.shape[2])\n",
    "# 设置训练迭代次数\n",
    "epoch = 20"
   ],
   "id": "39ab866ee79080d5",
   "outputs": [],
   "execution_count": 160
  },
  {
   "metadata": {},
   "cell_type": "markdown",
   "source": [
    "\n",
    "# 随机森林"
   ],
   "id": "3eb6b42317332698"
  },
  {
   "metadata": {
    "ExecuteTime": {
     "end_time": "2024-08-01T14:40:52.608508Z",
     "start_time": "2024-08-01T14:40:52.580095Z"
    }
   },
   "cell_type": "code",
   "source": [
    "\n",
    "from sklearn.ensemble import RandomForestClassifier\n",
    "from sklearn.metrics import roc_curve, roc_auc_score, classification_report, accuracy_score, log_loss\n",
    "from sklearn.model_selection import GridSearchCV, train_test_split\n",
    "from sklearn import model_selection\n",
    "from sklearn.preprocessing import OneHotEncoder\n",
    "from sklearn.preprocessing import normalize\n"
   ],
   "id": "6bdb4fd72f1a9154",
   "outputs": [],
   "execution_count": 161
  },
  {
   "metadata": {
    "ExecuteTime": {
     "end_time": "2024-08-01T14:41:25.801475Z",
     "start_time": "2024-08-01T14:41:23.603329Z"
    }
   },
   "cell_type": "code",
   "source": [
    "\n",
    "## 模型训练\n",
    "# 模型参数设置\n",
    "rfc = RandomForestClassifier(n_estimators=50, min_samples_split=5, min_samples_leaf=4, max_depth=7)\n",
    "\n",
    "# 模型准确率和损失值\n",
    "acc_list = []\n",
    "# loss_list = []\n",
    "train_acc_list = []\n",
    "print(\"开始训练\")\n",
    "for i in range(1, epoch + 1):\n",
    "    # 模型训练\n",
    "    rfc.fit(m_train, train_label)\n",
    "\n",
    "    # # 训练集\n",
    "    # y_train = rfc.predict(m_train)\n",
    "\n",
    "    # 测试集\n",
    "    y_pred = np.asarray(rfc.predict(m_val), dtype='int64')\n",
    "\n",
    "    # 计算准确率\n",
    "    acc = round(accuracy_score(val_label, y_pred), 3)\n",
    "\n",
    "    # 训练集\n",
    "    y_pred = np.asarray(rfc.predict(m_train), dtype='int64')\n",
    "    # 计算准确率\n",
    "    train_acc = round(accuracy_score(train_label, y_pred), 3)\n",
    " \n",
    "    # print('测试集准确率:', round(accuracy_score(val_label, y_pred),3))\n",
    "    acc_list.append(acc)\n",
    "    train_acc_list.append(train_acc)\n",
    "\n",
    "    # 计算损失值\n",
    "    # 使用one-hot编码计算损失值\n",
    "    # noe_hot = OneHotEncoder(sparse_output=False)\n",
    "    # \n",
    "    # y_pred_o = noe_hot.fit_transform(y_pred.reshape(1, -1))\n",
    "    # val_label_o = noe_hot.fit_transform(train_label.reshape(1, -1))\n",
    "\n",
    "    # loss = round(log_loss(val_label_o,y_pred_o),3)\n",
    "    # print(\"loss：\",loss)\n",
    "    # loss_list.append(loss)\n",
    "    print(\"完成第\", i, \"轮训练，测试集准确率：\", acc)"
   ],
   "id": "81f7470511fd5000",
   "outputs": [
    {
     "name": "stdout",
     "output_type": "stream",
     "text": [
      "开始训练\n",
      "完成第 1 轮训练，测试集准确率： 0.806\n",
      "完成第 2 轮训练，测试集准确率： 0.796\n",
      "完成第 3 轮训练，测试集准确率： 0.802\n",
      "完成第 4 轮训练，测试集准确率： 0.802\n",
      "完成第 5 轮训练，测试集准确率： 0.809\n",
      "完成第 6 轮训练，测试集准确率： 0.811\n",
      "完成第 7 轮训练，测试集准确率： 0.815\n",
      "完成第 8 轮训练，测试集准确率： 0.806\n",
      "完成第 9 轮训练，测试集准确率： 0.811\n",
      "完成第 10 轮训练，测试集准确率： 0.809\n",
      "完成第 11 轮训练，测试集准确率： 0.809\n",
      "完成第 12 轮训练，测试集准确率： 0.804\n",
      "完成第 13 轮训练，测试集准确率： 0.809\n",
      "完成第 14 轮训练，测试集准确率： 0.815\n",
      "完成第 15 轮训练，测试集准确率： 0.802\n",
      "完成第 16 轮训练，测试集准确率： 0.815\n",
      "完成第 17 轮训练，测试集准确率： 0.802\n",
      "完成第 18 轮训练，测试集准确率： 0.811\n",
      "完成第 19 轮训练，测试集准确率： 0.811\n",
      "完成第 20 轮训练，测试集准确率： 0.811\n"
     ]
    }
   ],
   "execution_count": 163
  },
  {
   "metadata": {},
   "cell_type": "markdown",
   "source": "## 测试集得分",
   "id": "9d3121758bd018ac"
  },
  {
   "metadata": {
    "ExecuteTime": {
     "end_time": "2024-08-01T11:06:48.247217Z",
     "start_time": "2024-08-01T11:06:48.215557Z"
    }
   },
   "cell_type": "code",
   "source": [
    "y_pred = np.asarray(rfc.predict(m_val), dtype='int64')\n",
    "print('------------------测试集上得分：------------------------')\n",
    "print('*' * 5)\n",
    "print('测试集准确率得分:', round(accuracy_score(val_label, y_pred), 3))\n",
    "print('*' * 5)\n",
    "print('准确率、召回率、f1-值测试报告如下:\\n', classification_report(val_label, y_pred))\n",
    "\n",
    "result=classification_report(val_label, y_pred,output_dict=True)\n",
    "rfc_info={}\n",
    "rfc_info['accuracy']=result['accuracy']\n",
    "rfc_info['precision']=result['macro avg']['precision']\n",
    "rfc_info['recall']=result['macro avg']['recall']\n",
    "rfc_info['f1-score']=result['macro avg']['f1-score']\n"
   ],
   "id": "c39498ae0ac4e9c5",
   "outputs": [
    {
     "name": "stdout",
     "output_type": "stream",
     "text": [
      "------------------测试集上得分：------------------------\n",
      "*****\n",
      "测试集准确率得分: 0.878\n",
      "*****\n",
      "准确率、召回率、f1-值测试报告如下:\n",
      "               precision    recall  f1-score   support\n",
      "\n",
      "           0       0.89      0.80      0.84        10\n",
      "           1       1.00      1.00      1.00         8\n",
      "           2       0.62      0.71      0.67         7\n",
      "           3       1.00      1.00      1.00        10\n",
      "           4       0.92      1.00      0.96        11\n",
      "           5       0.60      0.50      0.55         6\n",
      "           6       0.82      0.90      0.86        10\n",
      "           7       1.00      1.00      1.00         8\n",
      "           8       0.71      0.62      0.67         8\n",
      "           9       1.00      1.00      1.00        12\n",
      "\n",
      "    accuracy                           0.88        90\n",
      "   macro avg       0.86      0.85      0.85        90\n",
      "weighted avg       0.88      0.88      0.88        90\n",
      "\n"
     ]
    }
   ],
   "execution_count": 123
  },
  {
   "metadata": {},
   "cell_type": "markdown",
   "source": [
    "\n",
    "## 模型迭代准确率"
   ],
   "id": "5d59042758e6041a"
  },
  {
   "metadata": {
    "ExecuteTime": {
     "end_time": "2024-08-01T10:49:05.800189Z",
     "start_time": "2024-08-01T10:49:05.690601Z"
    }
   },
   "cell_type": "code",
   "source": [
    "# 设置Y轴范围\n",
    "plt.ylim(0, 1)\n",
    "# 训练准确率曲线\n",
    "show_data1 = train_acc_list\n",
    "# 测试准确率曲线\n",
    "show_data2 = acc_list\n",
    "x_data = list(range(1, len(show_data1) + 1))\n",
    "ln1, = plt.plot(x_data, show_data1, color='blue', linewidth=2.0, linestyle='--')\n",
    "ln2, = plt.plot(x_data, show_data2, color='red', linewidth=3.0, linestyle='-.')\n",
    "plt.legend(handles=[ln1, ln2], labels=['train_acc', 'val_acc'])\n",
    "plt.show()"
   ],
   "id": "3ae95868569bc621",
   "outputs": [
    {
     "data": {
      "text/plain": [
       "<Figure size 640x480 with 1 Axes>"
      ],
      "image/png": "[encoded data removed]"
     },
     "metadata": {},
     "output_type": "display_data"
    }
   ],
   "execution_count": 23
  },
  {
   "metadata": {},
   "cell_type": "markdown",
   "source": "## 保存模型",
   "id": "f6e24161fa71a7c5"
  },
  {
   "metadata": {
    "ExecuteTime": {
     "end_time": "2024-08-01T10:43:23.626596Z",
     "start_time": "2024-08-01T10:43:23.602777Z"
    }
   },
   "cell_type": "code",
   "source": [
    "\n",
    "# 保存模型\n",
    "dump(rfc, 'models_save/rfc_FFT.joblib')\n",
    "# # 加载\n",
    "# rfc = load('models_save/rfc.joblib')\n",
    "# print(rfc)"
   ],
   "id": "25e73f227e3cc88d",
   "outputs": [
    {
     "data": {
      "text/plain": [
       "['models_save/rfc_FFT.joblib']"
      ]
     },
     "execution_count": 11,
     "metadata": {},
     "output_type": "execute_result"
    }
   ],
   "execution_count": 11
  },
  {
   "metadata": {},
   "cell_type": "markdown",
   "source": "# SVM",
   "id": "d5136f685133cc7"
  },
  {
   "metadata": {
    "ExecuteTime": {
     "end_time": "2024-08-01T10:55:01.532345Z",
     "start_time": "2024-08-01T10:55:01.515956Z"
    }
   },
   "cell_type": "code",
   "source": "from sklearn import svm  # 引入SVM库",
   "id": "1b22aaf858289121",
   "outputs": [],
   "execution_count": 55
  },
  {
   "metadata": {},
   "cell_type": "markdown",
   "source": "# 读取数据",
   "id": "ab8c616e1520634e"
  },
  {
   "metadata": {
    "ExecuteTime": {
     "end_time": "2024-08-01T14:41:32.105359Z",
     "start_time": "2024-08-01T14:41:32.008396Z"
    }
   },
   "cell_type": "code",
   "source": [
    "data, label, label_count = load_data()\n",
    "# 生成训练集测试集,70%用作训练，30%用作测试\n",
    "train_data, train_label, val_data, val_label = create_train_data(data, label, 0.7)\n",
    "\n",
    "print(\"*\" * 10)\n",
    "print(\"训练集数量：\", len(train_label))\n",
    "print(\"测试集数量：\", len(val_label))\n",
    "# 使用机器学习算法需要对多维数据进行降维\n",
    "m_train = train_data.reshape(train_data.shape[0], train_data.shape[1] * train_data.shape[2])\n",
    "m_val = val_data.reshape(val_data.shape[0], val_data.shape[1] * val_data.shape[2])"
   ],
   "id": "dcedd266d9cbf494",
   "outputs": [
    {
     "name": "stdout",
     "output_type": "stream",
     "text": [
      "类别数量为： 10\n",
      "训练集shape (1260, 1, 3)\n",
      "训练集类别： Counter({8: 138, 0: 130, 4: 130, 2: 128, 9: 127, 6: 125, 7: 124, 1: 122, 5: 120, 3: 116})\n",
      "测试集shape (540, 1, 3)\n",
      "测试集类别： Counter({3: 64, 5: 60, 1: 58, 7: 56, 6: 55, 9: 53, 2: 52, 4: 50, 0: 50, 8: 42})\n",
      "**********\n",
      "训练集数量： 1260\n",
      "测试集数量： 540\n"
     ]
    }
   ],
   "execution_count": 164
  },
  {
   "metadata": {
    "ExecuteTime": {
     "end_time": "2024-08-01T14:41:35.195108Z",
     "start_time": "2024-08-01T14:41:35.070380Z"
    }
   },
   "cell_type": "code",
   "source": [
    "\n",
    "# 模型参数设置\n",
    "svm_model = svm.SVC(kernel='poly', gamma='scale', probability=True, coef0=3,degree=4,C=4)  # SVM模型的构建\n",
    "\n",
    "# 模型准确率列表\n",
    "acc_list = []\n",
    "train_acc_list = []\n",
    "print(\"开始训练\")\n",
    "# for i in range(1, epoch + 1):\n",
    "# 模型训练\n",
    "svm_model.fit(m_train, train_label)\n",
    "\n",
    "# 测试集\n",
    "y_pred = np.asarray(svm_model.predict(m_val), dtype='int64')\n",
    "\n",
    "# 计算准确率\n",
    "acc = round(accuracy_score(val_label, y_pred), 3)\n",
    "\n",
    "# 训练集\n",
    "# y_pred_train = np.asarray(svm_model.predict(m_train), dtype='int64')\n",
    "# train_acc = round(accuracy_score(train_label, y_pred_train), 3)\n",
    "\n",
    "acc_list.append(acc)\n",
    "# train_acc_list.append(train_acc)\n",
    "\n",
    "print(\"完成SVM训练，测试集准确率：\", acc)"
   ],
   "id": "f61094848c908169",
   "outputs": [
    {
     "name": "stdout",
     "output_type": "stream",
     "text": [
      "开始训练\n",
      "完成SVM训练，测试集准确率： 0.804\n"
     ]
    }
   ],
   "execution_count": 165
  },
  {
   "metadata": {
    "ExecuteTime": {
     "end_time": "2024-08-01T11:01:00.100468Z",
     "start_time": "2024-08-01T11:01:00.066753Z"
    }
   },
   "cell_type": "code",
   "source": [
    "y_pred_final = np.asarray(svm_model.predict(m_val), dtype='int64')\n",
    "print('------------------测试集上得分：------------------------')\n",
    "print('*' * 5)\n",
    "print('测试集准确率得分:', round(accuracy_score(val_label, y_pred_final), 3))\n",
    "print('*' * 5)\n",
    "print('准确率、召回率、f1-值测试报告如下:\\n', classification_report(val_label, y_pred_final,zero_division=0))\n",
    "\n",
    "result=classification_report(val_label, y_pred,output_dict=True,zero_division=0)\n",
    "svm_info={}\n",
    "svm_info['accuracy']=result['accuracy']\n",
    "svm_info['precision']=result['macro avg']['precision']\n",
    "svm_info['recall']=result['macro avg']['recall']\n",
    "svm_info['f1-score']=result['macro avg']['f1-score']\n"
   ],
   "id": "initial_id",
   "outputs": [
    {
     "name": "stdout",
     "output_type": "stream",
     "text": [
      "------------------测试集上得分：------------------------\n",
      "*****\n",
      "测试集准确率得分: 0.833\n",
      "*****\n",
      "准确率、召回率、f1-值测试报告如下:\n",
      "               precision    recall  f1-score   support\n",
      "\n",
      "           0       0.60      0.60      0.60        10\n",
      "           1       1.00      1.00      1.00         8\n",
      "           2       0.71      0.71      0.71         7\n",
      "           3       1.00      1.00      1.00        10\n",
      "           4       0.91      0.91      0.91        11\n",
      "           5       0.50      0.50      0.50         6\n",
      "           6       0.80      0.80      0.80        10\n",
      "           7       1.00      1.00      1.00         8\n",
      "           8       0.62      0.62      0.62         8\n",
      "           9       1.00      1.00      1.00        12\n",
      "\n",
      "    accuracy                           0.83        90\n",
      "   macro avg       0.81      0.81      0.81        90\n",
      "weighted avg       0.83      0.83      0.83        90\n",
      "\n"
     ]
    }
   ],
   "execution_count": 114
  },
  {
   "metadata": {},
   "cell_type": "markdown",
   "source": "# 保存模型",
   "id": "648b446e749b89df"
  },
  {
   "metadata": {
    "ExecuteTime": {
     "end_time": "2024-07-30T17:01:47.631777Z",
     "start_time": "2024-07-30T17:01:47.618604Z"
    }
   },
   "cell_type": "code",
   "source": [
    "dump(svm_model, 'models_save/svm_10class.joblib')\n",
    "# # 加载\n",
    "# svm = load('models_save/svm.joblib')\n",
    "# print(svm)"
   ],
   "id": "1363a0af7c46929",
   "outputs": [
    {
     "data": {
      "text/plain": [
       "['models_save/svm_10class.joblib']"
      ]
     },
     "execution_count": 227,
     "metadata": {},
     "output_type": "execute_result"
    }
   ],
   "execution_count": 227
  },
  {
   "metadata": {},
   "cell_type": "markdown",
   "source": "# Gaussian Naive Bayes",
   "id": "3197e4c5648d24b"
  },
  {
   "metadata": {
    "ExecuteTime": {
     "end_time": "2024-08-01T10:52:38.220996Z",
     "start_time": "2024-08-01T10:52:38.204399Z"
    }
   },
   "cell_type": "code",
   "source": "from sklearn.naive_bayes import GaussianNB",
   "id": "d40afb610c32752f",
   "outputs": [],
   "execution_count": 41
  },
  {
   "metadata": {},
   "cell_type": "markdown",
   "source": "# 读取数据",
   "id": "d29167c4f1af8ac1"
  },
  {
   "metadata": {
    "ExecuteTime": {
     "end_time": "2024-08-01T14:41:39.325664Z",
     "start_time": "2024-08-01T14:41:39.308925Z"
    }
   },
   "cell_type": "code",
   "source": [
    "data, label, label_count = load_data()\n",
    "# 生成训练集测试集，70%用作训练，30%用作测试\n",
    "train_data, train_label, val_data, val_label = create_train_data(data, label, 0.7)\n",
    "\n",
    "print(\"*\"*10)\n",
    "print(\"训练集数量：\", len(train_label))\n",
    "print(\"测试集数量：\", len(val_label))\n"
   ],
   "id": "7f8a10d5a8cdc979",
   "outputs": [
    {
     "name": "stdout",
     "output_type": "stream",
     "text": [
      "类别数量为： 10\n",
      "训练集shape (1260, 1, 3)\n",
      "训练集类别： Counter({8: 138, 0: 130, 4: 130, 2: 128, 9: 127, 6: 125, 7: 124, 1: 122, 5: 120, 3: 116})\n",
      "测试集shape (540, 1, 3)\n",
      "测试集类别： Counter({3: 64, 5: 60, 1: 58, 7: 56, 6: 55, 9: 53, 2: 52, 4: 50, 0: 50, 8: 42})\n",
      "**********\n",
      "训练集数量： 1260\n",
      "测试集数量： 540\n"
     ]
    }
   ],
   "execution_count": 166
  },
  {
   "metadata": {
    "ExecuteTime": {
     "end_time": "2024-08-01T14:41:42.470618Z",
     "start_time": "2024-08-01T14:41:42.377228Z"
    }
   },
   "cell_type": "code",
   "source": [
    "# 模型参数设置\n",
    "gnb_model = GaussianNB()  # Gaussian Naive Bayes 模型的构建\n",
    "\n",
    "# 模型准确率列表\n",
    "acc_list = []\n",
    "train_acc_list = []\n",
    "print(\"开始训练\")\n",
    "\n",
    "# 模型训练\n",
    "gnb_model.fit(m_train, train_label)\n",
    "\n",
    "# 测试集\n",
    "y_pred = np.asarray(gnb_model.predict(m_val), dtype='int64')\n",
    "\n",
    "# 计算准确率\n",
    "acc = round(accuracy_score(val_label, y_pred), 3)\n",
    "\n",
    "# 训练集\n",
    "# y_pred_train = np.asarray(gnb_model.predict(m_train), dtype='int64')\n",
    "# train_acc = round(accuracy_score(train_label, y_pred_train), 3)\n",
    "\n",
    "acc_list.append(acc)\n",
    "# train_acc_list.append(train_acc)\n",
    "\n",
    "print(\"完成训练，测试集准确率：\", acc)"
   ],
   "id": "b913d8d49911e8b9",
   "outputs": [
    {
     "name": "stdout",
     "output_type": "stream",
     "text": [
      "开始训练\n",
      "完成训练，测试集准确率： 0.739\n"
     ]
    }
   ],
   "execution_count": 167
  },
  {
   "metadata": {
    "ExecuteTime": {
     "end_time": "2024-08-01T11:02:26.095195Z",
     "start_time": "2024-08-01T11:02:26.065197Z"
    }
   },
   "cell_type": "code",
   "source": [
    "y_pred_final = np.asarray(gnb_model.predict(m_val), dtype='int64')\n",
    "print('------------------测试集上得分：------------------------')\n",
    "print('*' * 5)\n",
    "print('测试集准确率得分:', round(accuracy_score(val_label, y_pred_final), 3))\n",
    "print('*' * 5)\n",
    "print('准确率、召回率、f1-值测试报告如下:\\n', classification_report(val_label, y_pred_final,zero_division=0))\n",
    "\n",
    "result=classification_report(val_label, y_pred,output_dict=True,zero_division=0)\n",
    "gb_info={}\n",
    "gb_info['accuracy']=result['accuracy']\n",
    "gb_info['precision']=result['macro avg']['precision']\n",
    "gb_info['recall']=result['macro avg']['recall']\n",
    "gb_info['f1-score']=result['macro avg']['f1-score']"
   ],
   "id": "f00aad4fa0b74a60",
   "outputs": [
    {
     "name": "stdout",
     "output_type": "stream",
     "text": [
      "------------------测试集上得分：------------------------\n",
      "*****\n",
      "测试集准确率得分: 0.844\n",
      "*****\n",
      "准确率、召回率、f1-值测试报告如下:\n",
      "               precision    recall  f1-score   support\n",
      "\n",
      "           0       0.86      0.60      0.71        10\n",
      "           1       1.00      1.00      1.00         8\n",
      "           2       0.71      0.71      0.71         7\n",
      "           3       1.00      1.00      1.00        10\n",
      "           4       0.79      1.00      0.88        11\n",
      "           5       0.50      0.33      0.40         6\n",
      "           6       0.77      1.00      0.87        10\n",
      "           7       1.00      1.00      1.00         8\n",
      "           8       0.57      0.50      0.53         8\n",
      "           9       1.00      1.00      1.00        12\n",
      "\n",
      "    accuracy                           0.84        90\n",
      "   macro avg       0.82      0.81      0.81        90\n",
      "weighted avg       0.84      0.84      0.83        90\n",
      "\n"
     ]
    }
   ],
   "execution_count": 117
  },
  {
   "metadata": {},
   "cell_type": "markdown",
   "source": "# 保存模型",
   "id": "927c300879cb8d3b"
  },
  {
   "metadata": {
    "ExecuteTime": {
     "end_time": "2024-07-30T17:01:47.724679Z",
     "start_time": "2024-07-30T17:01:47.711361Z"
    }
   },
   "cell_type": "code",
   "source": "dump(gnb_model, 'models_save/gnb_10class_thisisbad.joblib')",
   "id": "b2bb85e6189ecb1",
   "outputs": [
    {
     "data": {
      "text/plain": [
       "['models_save/gnb_10class_thisisbad.joblib']"
      ]
     },
     "execution_count": 232,
     "metadata": {},
     "output_type": "execute_result"
    }
   ],
   "execution_count": 232
  },
  {
   "metadata": {},
   "cell_type": "markdown",
   "source": "# KNN",
   "id": "981ecac76efa1204"
  },
  {
   "metadata": {
    "ExecuteTime": {
     "end_time": "2024-08-01T10:52:52.241210Z",
     "start_time": "2024-08-01T10:52:52.221591Z"
    }
   },
   "cell_type": "code",
   "source": "from sklearn.neighbors import KNeighborsClassifier  ",
   "id": "f890b82debd6733e",
   "outputs": [],
   "execution_count": 46
  },
  {
   "metadata": {},
   "cell_type": "markdown",
   "source": "# 模型参数设置，选择KNN模型  ",
   "id": "1bf0247cbb4ce972"
  },
  {
   "metadata": {
    "ExecuteTime": {
     "end_time": "2024-08-01T14:41:47.579555Z",
     "start_time": "2024-08-01T14:41:47.500286Z"
    }
   },
   "cell_type": "code",
   "source": [
    "knn_model = KNeighborsClassifier(n_neighbors=5)  # 你可以根据需要调整邻居的数量  \n",
    "\n",
    "# 模型准确率列表  \n",
    "acc_list = []  \n",
    "train_acc_list = []  \n",
    "print(\"开始训练\")  \n",
    "# 模型拟合  \n",
    "knn_model.fit(m_train, train_label)  \n",
    "\n",
    "# 测试集  \n",
    "y_pred = knn_model.predict(m_val)  \n",
    "\n",
    "# 计算准确率  \n",
    "acc = round(accuracy_score(val_label, y_pred), 3)  \n",
    "\n",
    "# 训练集  \n",
    "# y_pred_train = knn_model.predict(m_train)  \n",
    "# train_acc = round(accuracy_score(train_label, y_pred_train), 3)  \n",
    "\n",
    "acc_list.append(acc)  \n",
    "# train_acc_list.append(train_acc)  \n",
    "\n",
    "print(\"完成训练，测试集准确率：\", acc)  \n",
    "print('------------------测试集上得分：------------------------')  \n",
    "print('*' * 5)  \n",
    "print('测试集准确率得分:', acc)  \n",
    "print('*' * 5)  \n",
    "print('准确率、召回率、f1-值测试报告如下:\\n', classification_report(val_label, y_pred,output_dict=False))  \n",
    "\n",
    "\n",
    "result=classification_report(val_label, y_pred,output_dict=True)\n",
    "knn_info={}\n",
    "knn_info['accuracy']=result['accuracy']\n",
    "knn_info['precision']=result['macro avg']['precision']\n",
    "knn_info['recall']=result['macro avg']['recall']\n",
    "knn_info['f1-score']=result['macro avg']['f1-score']\n"
   ],
   "id": "713569595d4d9032",
   "outputs": [
    {
     "name": "stdout",
     "output_type": "stream",
     "text": [
      "开始训练\n",
      "完成训练，测试集准确率： 0.806\n",
      "------------------测试集上得分：------------------------\n",
      "*****\n",
      "测试集准确率得分: 0.806\n",
      "*****\n",
      "准确率、召回率、f1-值测试报告如下:\n",
      "               precision    recall  f1-score   support\n",
      "\n",
      "           0       0.61      0.70      0.65        50\n",
      "           1       0.98      1.00      0.99        58\n",
      "           2       0.58      0.67      0.62        52\n",
      "           3       0.98      1.00      0.99        64\n",
      "           4       0.84      0.96      0.90        50\n",
      "           5       0.70      0.47      0.56        60\n",
      "           6       0.70      0.78      0.74        55\n",
      "           7       0.98      1.00      0.99        56\n",
      "           8       0.52      0.40      0.45        42\n",
      "           9       1.00      0.96      0.98        53\n",
      "\n",
      "    accuracy                           0.81       540\n",
      "   macro avg       0.79      0.79      0.79       540\n",
      "weighted avg       0.80      0.81      0.80       540\n",
      "\n"
     ]
    }
   ],
   "execution_count": 168
  },
  {
   "metadata": {
    "ExecuteTime": {
     "end_time": "2024-07-30T17:01:47.832948Z",
     "start_time": "2024-07-30T17:01:47.819562Z"
    }
   },
   "cell_type": "code",
   "source": [
    "# 保存模型\n",
    "dump(knn_model, 'models_save/knn_10class.joblib')"
   ],
   "id": "e8dc3f52b5a527c7",
   "outputs": [
    {
     "data": {
      "text/plain": [
       "['models_save/knn_10class.joblib']"
      ]
     },
     "execution_count": 235,
     "metadata": {},
     "output_type": "execute_result"
    }
   ],
   "execution_count": 235
  },
  {
   "metadata": {
    "ExecuteTime": {
     "end_time": "2024-08-01T14:41:52.868617Z",
     "start_time": "2024-08-01T14:41:52.505920Z"
    }
   },
   "cell_type": "code",
   "source": [
    "results = {'KNN':knn_info,'GaussianNB':gb_info,'SVM':svm_info,'RandomForest':rfc_info,}\n",
    "\n",
    "model_names = list(results.keys())  \n",
    "accuracy = [results[model]['accuracy'] for model in model_names]  \n",
    "precision = [results[model]['precision'] for model in model_names]  \n",
    "recall = [results[model]['recall'] for model in model_names]  \n",
    "f1_score = [results[model]['f1-score'] for model in model_names]  \n",
    "\n",
    "# 设置 X 轴位置  \n",
    "x = np.arange(len(model_names))  \n",
    "\n",
    "# 设置宽度  \n",
    "width = 0.2  \n",
    "\n",
    "# 创建图形和轴  \n",
    "plt.figure(figsize=(10, 6))  \n",
    "\n",
    "# 绘制折线图  \n",
    "plt.plot(model_names, accuracy, marker='o', label='Accuracy', linestyle='dotted', color='blue')  \n",
    "plt.plot(model_names, precision, marker='o', label='Precision', linestyle=':', color='orange')  \n",
    "plt.plot(model_names, recall, marker='o', label='Recall', linestyle='-.', color='green')  \n",
    "plt.plot(model_names, f1_score, marker='o', label='F1 Score', linestyle='-', color='red')  \n",
    "\n",
    "# 添加标题和标签  \n",
    "plt.title('Model Performance Comparison')  \n",
    "plt.xlabel('Models')  \n",
    "plt.ylabel('Scores')  \n",
    "plt.ylim(0, 1)  \n",
    "\n",
    "# 图例  \n",
    "plt.legend()  \n",
    "\n",
    "# 显示数值标签  \n",
    "for i, (acc, prec, rec, f1) in enumerate(zip(accuracy, precision, recall, f1_score)):  \n",
    "    plt.text(i, acc + 0.02, f'{acc:.2f}', ha='center')  \n",
    "    plt.text(i, prec + 0.02, f'{prec:.2f}', ha='center')  \n",
    "    plt.text(i, rec + 0.02, f'{rec:.2f}', ha='center')  \n",
    "    plt.text(i, f1 + 0.02, f'{f1:.2f}', ha='center')  \n",
    "\n",
    "# 显示图形  \n",
    "plt.tight_layout()  \n",
    "plt.grid()  \n",
    "plt.show() "
   ],
   "id": "c7e743398f46503f",
   "outputs": [
    {
     "data": {
      "text/plain": [
       "<Figure size 1000x600 with 1 Axes>"
      ],
      "image/png": "[encoded data removed]"
     },
     "metadata": {},
     "output_type": "display_data"
    }
   ],
   "execution_count": 169
  }
 ],
 "metadata": {
  "kernelspec": {
   "display_name": "Python 3",
   "language": "python",
   "name": "python3"
  },
  "language_info": {
   "codemirror_mode": {
    "name": "ipython",
    "version": 2
   },
   "file_extension": ".py",
   "mimetype": "text/x-python",
   "name": "python",
   "nbconvert_exporter": "python",
   "pygments_lexer": "ipython2",
   "version": "2.7.6"
  }
 },
 "nbformat": 4,
 "nbformat_minor": 5
}
