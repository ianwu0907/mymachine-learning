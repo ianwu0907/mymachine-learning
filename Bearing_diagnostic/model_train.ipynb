{
 "cells": [
  {
   "cell_type": "code",
   "id": "6ae1e7f921fd05e4",
   "metadata": {
    "collapsed": true,
    "ExecuteTime": {
     "end_time": "2024-07-29T15:44:26.085887Z",
     "start_time": "2024-07-29T15:44:20.609805Z"
    }
   },
   "source": [
    "import os\n",
    "import matplotlib.pyplot as plt\n",
    "from collections import Counter\n",
    "import numpy as np\n",
    "import tensorflow as tf\n",
    "from joblib import dump, load"
   ],
   "outputs": [],
   "execution_count": 1
  },
  {
   "metadata": {},
   "cell_type": "markdown",
   "source": [
    "\n",
    "# 读取数据，构造训练集和测试集"
   ],
   "id": "ce667370f0f22f56"
  },
  {
   "metadata": {
    "ExecuteTime": {
     "end_time": "2024-07-29T15:44:26.100905Z",
     "start_time": "2024-07-29T15:44:26.087900Z"
    }
   },
   "cell_type": "code",
   "source": [
    "def load_data():\n",
    "    # 读取数据\n",
    "    x = np.load('train_data/train_data.npy')\n",
    "    y = np.load('train_data/label.npy')\n",
    "    num = len(Counter(y))\n",
    "    print(\"类别数量为：\", num)\n",
    "    return x, y, num\n"
   ],
   "id": "351d3fc7e3daec7a",
   "outputs": [],
   "execution_count": 2
  },
  {
   "metadata": {
    "ExecuteTime": {
     "end_time": "2024-07-29T15:44:26.116750Z",
     "start_time": "2024-07-29T15:44:26.101910Z"
    }
   },
   "cell_type": "code",
   "source": [
    "\n",
    "def create_train_data(x, y, ratio=0.8):\n",
    "    \"\"\"\n",
    "    x:数据\n",
    "    y:类别\n",
    "    ratio:生成训练集比率\n",
    "    \"\"\"\n",
    "    # 打乱顺序\n",
    "    # 读取data矩阵的第一维数（图片的个数）\n",
    "    num_example = x.shape[0]\n",
    "    # 产生一个num_example范围，步长为1的序列\n",
    "    arr = np.arange(num_example)\n",
    "    # 调用函数，打乱顺序\n",
    "    np.random.seed(99)\n",
    "    np.random.shuffle(arr)\n",
    "    # 按照打乱的顺序，重新排序\n",
    "    arr_data = x[arr]\n",
    "    arr_label = y[arr]\n",
    "    # 将数据集分为训练集80%、测试集20%\n",
    "    s = int(num_example * ratio)\n",
    "    x_train = arr_data[:s]\n",
    "    y_train = arr_label[:s]\n",
    "    x_val = arr_data[s:]\n",
    "    y_val = arr_label[s:]\n",
    "    print(\"训练集shape\", x_train.shape)\n",
    "    print(\"训练集类别：\", Counter(y_train))\n",
    "    print(\"测试集shape\", x_val.shape)\n",
    "    print(\"测试集类别：\", Counter(y_val))\n",
    "    return x_train, y_train, x_val, y_val\n"
   ],
   "id": "5ccd59021a5e3b72",
   "outputs": [],
   "execution_count": 3
  },
  {
   "metadata": {},
   "cell_type": "markdown",
   "source": "# 读取数据",
   "id": "f45b29349cf04854"
  },
  {
   "metadata": {
    "ExecuteTime": {
     "end_time": "2024-07-29T15:44:26.210960Z",
     "start_time": "2024-07-29T15:44:26.118751Z"
    }
   },
   "cell_type": "code",
   "source": [
    "data, label, label_count = load_data()\n",
    "# 生成训练集测试集,70%用作训练，30%用作测试\n",
    "train_data, train_label, val_data, val_label = create_train_data(data, label, 0.7)\n",
    "# # 从val_data和val_label中拿出最后1个元素作为测试组\n",
    "# test_data = val_data[-1:]\n",
    "# test_label = val_label[-1:]\n",
    "# \n",
    "# # 移除val_data和val_label中的最后1个元素\n",
    "# val_data = val_data[:-1]\n",
    "# val_label = val_label[:-1]\n",
    "print(\"*\" * 10)\n",
    "print(\"训练集数量：\", len(train_label))\n",
    "print(\"测试集数量：\", len(val_label))\n",
    "# print(\"测试组数量：\",len(test_label))"
   ],
   "id": "67f68f2110816791",
   "outputs": [
    {
     "name": "stdout",
     "output_type": "stream",
     "text": [
      "类别数量为： 4\n",
      "训练集shape (3919, 1000, 2)\n",
      "训练集类别： Counter({0: 989, 2: 987, 3: 979, 1: 964})\n",
      "测试集shape (1681, 1000, 2)\n",
      "测试集类别： Counter({1: 436, 3: 421, 2: 413, 0: 411})\n",
      "**********\n",
      "训练集数量： 3919\n",
      "测试集数量： 1681\n"
     ]
    }
   ],
   "execution_count": 4
  },
  {
   "metadata": {},
   "cell_type": "markdown",
   "source": [
    "\n",
    "# 数据集构建"
   ],
   "id": "784de51fe22888a4"
  },
  {
   "metadata": {
    "ExecuteTime": {
     "end_time": "2024-07-29T15:44:26.226101Z",
     "start_time": "2024-07-29T15:44:26.213960Z"
    }
   },
   "cell_type": "code",
   "source": [
    "# 使用机器学习算法需要对多维数据进行降维\n",
    "m_train = train_data.reshape(train_data.shape[0], train_data.shape[1] * train_data.shape[2])\n",
    "m_val = val_data.reshape(val_data.shape[0], val_data.shape[1] * val_data.shape[2])\n",
    "# m_test = test_data.reshape(test_data.shape[0],test_data.shape[1]*test_data.shape[2])\n",
    "# 设置训练迭代次数\n",
    "epoch = 20"
   ],
   "id": "39ab866ee79080d5",
   "outputs": [],
   "execution_count": 5
  },
  {
   "metadata": {},
   "cell_type": "markdown",
   "source": [
    "\n",
    "# 随机森林"
   ],
   "id": "3eb6b42317332698"
  },
  {
   "metadata": {
    "ExecuteTime": {
     "end_time": "2024-07-29T15:44:27.009499Z",
     "start_time": "2024-07-29T15:44:26.228104Z"
    }
   },
   "cell_type": "code",
   "source": [
    "\n",
    "from sklearn.ensemble import RandomForestClassifier\n",
    "from sklearn.metrics import roc_curve, roc_auc_score, classification_report, accuracy_score, log_loss\n",
    "from sklearn.model_selection import GridSearchCV, train_test_split\n",
    "from sklearn import model_selection\n",
    "from sklearn.preprocessing import OneHotEncoder\n",
    "from sklearn.preprocessing import normalize"
   ],
   "id": "6bdb4fd72f1a9154",
   "outputs": [],
   "execution_count": 6
  },
  {
   "metadata": {
    "ExecuteTime": {
     "end_time": "2024-07-29T15:45:24.097399Z",
     "start_time": "2024-07-29T15:44:27.011845Z"
    }
   },
   "cell_type": "code",
   "source": [
    "\n",
    "## 模型训练\n",
    "# 模型参数设置\n",
    "rfc = RandomForestClassifier(n_estimators=50, min_samples_split=5, min_samples_leaf=4, max_depth=5)\n",
    "\n",
    "# 模型准确率和损失值\n",
    "acc_list = []\n",
    "# loss_list = []\n",
    "train_acc_list = []\n",
    "print(\"开始训练\")\n",
    "for i in range(1, epoch + 1):\n",
    "    # 模型训练\n",
    "    rfc.fit(m_train, train_label)\n",
    "\n",
    "    # # 训练集\n",
    "    # y_train = rfc.predict(m_train)\n",
    "\n",
    "    # 测试集\n",
    "    y_pred = np.asarray(rfc.predict(m_val), dtype='int64')\n",
    "\n",
    "    # 计算准确率\n",
    "    acc = round(accuracy_score(val_label, y_pred), 3)\n",
    "\n",
    "    # 训练集\n",
    "    y_pred = np.asarray(rfc.predict(m_train), dtype='int64')\n",
    "    # 计算准确率\n",
    "    train_acc = round(accuracy_score(train_label, y_pred), 3)\n",
    " \n",
    "    # print('测试集准确率:', round(accuracy_score(val_label, y_pred),3))\n",
    "    acc_list.append(acc)\n",
    "    train_acc_list.append(train_acc)\n",
    "\n",
    "    # 计算损失值\n",
    "    # 使用one-hot编码计算损失值\n",
    "    # noe_hot = OneHotEncoder(sparse_output=False)\n",
    "    # \n",
    "    # y_pred_o = noe_hot.fit_transform(y_pred.reshape(1, -1))\n",
    "    # val_label_o = noe_hot.fit_transform(train_label.reshape(1, -1))\n",
    "\n",
    "    # loss = round(log_loss(val_label_o,y_pred_o),3)\n",
    "    # print(\"loss：\",loss)\n",
    "    # loss_list.append(loss)\n",
    "    print(\"完成第\", i, \"轮训练，测试集准确率：\", acc)"
   ],
   "id": "81f7470511fd5000",
   "outputs": [
    {
     "name": "stdout",
     "output_type": "stream",
     "text": [
      "开始训练\n",
      "完成第 1 轮训练，测试集准确率： 0.741\n",
      "完成第 2 轮训练，测试集准确率： 0.739\n",
      "完成第 3 轮训练，测试集准确率： 0.72\n",
      "完成第 4 轮训练，测试集准确率： 0.736\n",
      "完成第 5 轮训练，测试集准确率： 0.746\n",
      "完成第 6 轮训练，测试集准确率： 0.729\n",
      "完成第 7 轮训练，测试集准确率： 0.723\n",
      "完成第 8 轮训练，测试集准确率： 0.742\n",
      "完成第 9 轮训练，测试集准确率： 0.745\n",
      "完成第 10 轮训练，测试集准确率： 0.736\n",
      "完成第 11 轮训练，测试集准确率： 0.714\n",
      "完成第 12 轮训练，测试集准确率： 0.725\n",
      "完成第 13 轮训练，测试集准确率： 0.735\n",
      "完成第 14 轮训练，测试集准确率： 0.732\n",
      "完成第 15 轮训练，测试集准确率： 0.726\n",
      "完成第 16 轮训练，测试集准确率： 0.75\n",
      "完成第 17 轮训练，测试集准确率： 0.723\n",
      "完成第 18 轮训练，测试集准确率： 0.736\n",
      "完成第 19 轮训练，测试集准确率： 0.72\n",
      "完成第 20 轮训练，测试集准确率： 0.719\n"
     ]
    }
   ],
   "execution_count": 7
  },
  {
   "metadata": {},
   "cell_type": "markdown",
   "source": "## 测试集得分",
   "id": "9d3121758bd018ac"
  },
  {
   "metadata": {
    "ExecuteTime": {
     "end_time": "2024-07-29T15:45:24.144018Z",
     "start_time": "2024-07-29T15:45:24.099415Z"
    }
   },
   "cell_type": "code",
   "source": [
    "y_pred = np.asarray(rfc.predict(m_val), dtype='int64')\n",
    "print('------------------测试集上得分：------------------------')\n",
    "print('*' * 5)\n",
    "print('测试集准确率得分:', round(accuracy_score(val_label, y_pred), 3))\n",
    "print('*' * 5)\n",
    "print('准确率、召回率、f1-值测试报告如下:\\n', classification_report(val_label, y_pred))\n",
    "\n",
    "result=classification_report(val_label, y_pred,output_dict=True)\n",
    "rfc_info={}\n",
    "rfc_info['accuracy']=result['accuracy']\n",
    "rfc_info['precision']=result['macro avg']['precision']\n",
    "rfc_info['recall']=result['macro avg']['recall']\n",
    "rfc_info['f1-score']=result['macro avg']['f1-score']\n"
   ],
   "id": "c39498ae0ac4e9c5",
   "outputs": [
    {
     "name": "stdout",
     "output_type": "stream",
     "text": [
      "------------------测试集上得分：------------------------\n",
      "*****\n",
      "测试集准确率得分: 0.719\n",
      "*****\n",
      "准确率、召回率、f1-值测试报告如下:\n",
      "               precision    recall  f1-score   support\n",
      "\n",
      "           0       0.82      1.00      0.90       411\n",
      "           1       0.71      0.76      0.73       436\n",
      "           2       0.52      0.36      0.43       413\n",
      "           3       0.75      0.75      0.75       421\n",
      "\n",
      "    accuracy                           0.72      1681\n",
      "   macro avg       0.70      0.72      0.70      1681\n",
      "weighted avg       0.70      0.72      0.70      1681\n",
      "\n"
     ]
    }
   ],
   "execution_count": 8
  },
  {
   "metadata": {},
   "cell_type": "markdown",
   "source": [
    "\n",
    "## 模型迭代准确率"
   ],
   "id": "5d59042758e6041a"
  },
  {
   "metadata": {
    "ExecuteTime": {
     "end_time": "2024-07-29T15:45:24.285493Z",
     "start_time": "2024-07-29T15:45:24.146021Z"
    }
   },
   "cell_type": "code",
   "source": [
    "# 设置Y轴范围\n",
    "plt.ylim(0, 1)\n",
    "# 训练准确率曲线\n",
    "show_data1 = train_acc_list\n",
    "# 测试准确率曲线\n",
    "show_data2 = acc_list\n",
    "x_data = list(range(1, len(show_data1) + 1))\n",
    "ln1, = plt.plot(x_data, show_data1, color='blue', linewidth=2.0, linestyle='--')\n",
    "ln2, = plt.plot(x_data, show_data2, color='red', linewidth=3.0, linestyle='-.')\n",
    "plt.legend(handles=[ln1, ln2], labels=['train_acc', 'val_acc'])\n",
    "plt.show()"
   ],
   "id": "3ae95868569bc621",
   "outputs": [
    {
     "data": {
      "text/plain": [
       "<Figure size 640x480 with 1 Axes>"
      ],
      "image/png": "[encoded data removed]"
     },
     "metadata": {},
     "output_type": "display_data"
    }
   ],
   "execution_count": 9
  },
  {
   "metadata": {},
   "cell_type": "markdown",
   "source": "## 保存模型",
   "id": "f6e24161fa71a7c5"
  },
  {
   "metadata": {
    "ExecuteTime": {
     "end_time": "2024-07-29T15:45:24.316730Z",
     "start_time": "2024-07-29T15:45:24.287601Z"
    }
   },
   "cell_type": "code",
   "source": [
    "\n",
    "# 保存模型\n",
    "dump(rfc, 'models_save/rfc.joblib')\n",
    "# # 加载\n",
    "# rfc = load('models_save/rfc.joblib')\n",
    "# print(rfc)"
   ],
   "id": "25e73f227e3cc88d",
   "outputs": [
    {
     "data": {
      "text/plain": [
       "['models_save/rfc.joblib']"
      ]
     },
     "execution_count": 10,
     "metadata": {},
     "output_type": "execute_result"
    }
   ],
   "execution_count": 10
  },
  {
   "metadata": {},
   "cell_type": "markdown",
   "source": "# SVM",
   "id": "d5136f685133cc7"
  },
  {
   "metadata": {
    "ExecuteTime": {
     "end_time": "2024-07-29T15:45:24.332094Z",
     "start_time": "2024-07-29T15:45:24.318736Z"
    }
   },
   "cell_type": "code",
   "source": "from sklearn import svm  # 引入SVM库",
   "id": "1b22aaf858289121",
   "outputs": [],
   "execution_count": 11
  },
  {
   "metadata": {},
   "cell_type": "markdown",
   "source": "# 读取数据",
   "id": "ab8c616e1520634e"
  },
  {
   "metadata": {
    "ExecuteTime": {
     "end_time": "2024-07-29T15:45:24.441625Z",
     "start_time": "2024-07-29T15:45:24.335104Z"
    }
   },
   "cell_type": "code",
   "source": [
    "data, label, label_count = load_data()\n",
    "# 生成训练集测试集,70%用作训练，30%用作测试\n",
    "train_data, train_label, val_data, val_label = create_train_data(data, label, 0.7)\n",
    "\n",
    "print(\"*\" * 10)\n",
    "print(\"训练集数量：\", len(train_label))\n",
    "print(\"测试集数量：\", len(val_label))\n",
    "# 使用机器学习算法需要对多维数据进行降维\n",
    "m_train = train_data.reshape(train_data.shape[0], train_data.shape[1] * train_data.shape[2])\n",
    "m_val = val_data.reshape(val_data.shape[0], val_data.shape[1] * val_data.shape[2])"
   ],
   "id": "dcedd266d9cbf494",
   "outputs": [
    {
     "name": "stdout",
     "output_type": "stream",
     "text": [
      "类别数量为： 4\n",
      "训练集shape (3919, 1000, 2)\n",
      "训练集类别： Counter({0: 989, 2: 987, 3: 979, 1: 964})\n",
      "测试集shape (1681, 1000, 2)\n",
      "测试集类别： Counter({1: 436, 3: 421, 2: 413, 0: 411})\n",
      "**********\n",
      "训练集数量： 3919\n",
      "测试集数量： 1681\n"
     ]
    }
   ],
   "execution_count": 12
  },
  {
   "metadata": {
    "ExecuteTime": {
     "end_time": "2024-07-29T15:46:47.995810Z",
     "start_time": "2024-07-29T15:45:24.443455Z"
    }
   },
   "cell_type": "code",
   "source": [
    "# 设置训练迭代次数\n",
    "epoch = 20\n",
    "# 模型参数设置\n",
    "svm_model = svm.SVC(kernel='rbf', gamma='scale', probability=True)  # SVM模型的构建\n",
    "\n",
    "# 模型准确率列表\n",
    "acc_list = []\n",
    "train_acc_list = []\n",
    "print(\"开始训练\")\n",
    "# for i in range(1, epoch + 1):\n",
    "# 模型训练\n",
    "svm_model.fit(m_train, train_label)\n",
    "\n",
    "# 测试集\n",
    "y_pred = np.asarray(svm_model.predict(m_val), dtype='int64')\n",
    "\n",
    "# 计算准确率\n",
    "acc = round(accuracy_score(val_label, y_pred), 3)\n",
    "\n",
    "# 训练集\n",
    "# y_pred_train = np.asarray(svm_model.predict(m_train), dtype='int64')\n",
    "# train_acc = round(accuracy_score(train_label, y_pred_train), 3)\n",
    "\n",
    "acc_list.append(acc)\n",
    "# train_acc_list.append(train_acc)\n",
    "\n",
    "print(\"完成SVM训练，测试集准确率：\", acc)"
   ],
   "id": "f61094848c908169",
   "outputs": [
    {
     "name": "stdout",
     "output_type": "stream",
     "text": [
      "开始训练\n",
      "完成SVM训练，测试集准确率： 0.891\n"
     ]
    }
   ],
   "execution_count": 13
  },
  {
   "metadata": {
    "ExecuteTime": {
     "end_time": "2024-07-29T15:46:55.691689Z",
     "start_time": "2024-07-29T15:46:47.999812Z"
    }
   },
   "cell_type": "code",
   "source": [
    "y_pred_final = np.asarray(svm_model.predict(m_val), dtype='int64')\n",
    "print('------------------测试集上得分：------------------------')\n",
    "print('*' * 5)\n",
    "print('测试集准确率得分:', round(accuracy_score(val_label, y_pred_final), 3))\n",
    "print('*' * 5)\n",
    "print('准确率、召回率、f1-值测试报告如下:\\n', classification_report(val_label, y_pred_final))\n",
    "\n",
    "result=classification_report(val_label, y_pred,output_dict=True)\n",
    "svm_info={}\n",
    "svm_info['accuracy']=result['accuracy']\n",
    "svm_info['precision']=result['macro avg']['precision']\n",
    "svm_info['recall']=result['macro avg']['recall']\n",
    "svm_info['f1-score']=result['macro avg']['f1-score']\n"
   ],
   "id": "initial_id",
   "outputs": [
    {
     "name": "stdout",
     "output_type": "stream",
     "text": [
      "------------------测试集上得分：------------------------\n",
      "*****\n",
      "测试集准确率得分: 0.891\n",
      "*****\n",
      "准确率、召回率、f1-值测试报告如下:\n",
      "               precision    recall  f1-score   support\n",
      "\n",
      "           0       1.00      1.00      1.00       411\n",
      "           1       0.84      0.96      0.90       436\n",
      "           2       0.88      0.77      0.82       413\n",
      "           3       0.85      0.83      0.84       421\n",
      "\n",
      "    accuracy                           0.89      1681\n",
      "   macro avg       0.89      0.89      0.89      1681\n",
      "weighted avg       0.89      0.89      0.89      1681\n",
      "\n"
     ]
    }
   ],
   "execution_count": 14
  },
  {
   "metadata": {},
   "cell_type": "markdown",
   "source": "# 保存模型",
   "id": "648b446e749b89df"
  },
  {
   "metadata": {
    "ExecuteTime": {
     "end_time": "2024-07-29T15:46:55.752194Z",
     "start_time": "2024-07-29T15:46:55.693693Z"
    }
   },
   "cell_type": "code",
   "source": [
    "dump(svm_model, 'models_save/svm.joblib')\n",
    "# # 加载\n",
    "# svm = load('models_save/svm.joblib')\n",
    "# print(svm)"
   ],
   "id": "1363a0af7c46929",
   "outputs": [
    {
     "data": {
      "text/plain": [
       "['models_save/svm.joblib']"
      ]
     },
     "execution_count": 15,
     "metadata": {},
     "output_type": "execute_result"
    }
   ],
   "execution_count": 15
  },
  {
   "metadata": {},
   "cell_type": "markdown",
   "source": "# Gaussian Naive Bayes",
   "id": "3197e4c5648d24b"
  },
  {
   "metadata": {
    "ExecuteTime": {
     "end_time": "2024-07-29T15:46:55.783612Z",
     "start_time": "2024-07-29T15:46:55.753786Z"
    }
   },
   "cell_type": "code",
   "source": "from sklearn.naive_bayes import GaussianNB",
   "id": "d40afb610c32752f",
   "outputs": [],
   "execution_count": 16
  },
  {
   "metadata": {},
   "cell_type": "markdown",
   "source": "# 读取数据",
   "id": "d29167c4f1af8ac1"
  },
  {
   "metadata": {
    "ExecuteTime": {
     "end_time": "2024-07-29T15:46:55.891044Z",
     "start_time": "2024-07-29T15:46:55.785836Z"
    }
   },
   "cell_type": "code",
   "source": [
    "data, label, label_count = load_data()\n",
    "# 生成训练集测试集，70%用作训练，30%用作测试\n",
    "train_data, train_label, val_data, val_label = create_train_data(data, label, 0.7)\n",
    "\n",
    "print(\"*\"*10)\n",
    "print(\"训练集数量：\", len(train_label))\n",
    "print(\"测试集数量：\", len(val_label))\n"
   ],
   "id": "7f8a10d5a8cdc979",
   "outputs": [
    {
     "name": "stdout",
     "output_type": "stream",
     "text": [
      "类别数量为： 4\n",
      "训练集shape (3919, 1000, 2)\n",
      "训练集类别： Counter({0: 989, 2: 987, 3: 979, 1: 964})\n",
      "测试集shape (1681, 1000, 2)\n",
      "测试集类别： Counter({1: 436, 3: 421, 2: 413, 0: 411})\n",
      "**********\n",
      "训练集数量： 3919\n",
      "测试集数量： 1681\n"
     ]
    }
   ],
   "execution_count": 17
  },
  {
   "metadata": {
    "ExecuteTime": {
     "end_time": "2024-07-29T15:46:56.251749Z",
     "start_time": "2024-07-29T15:46:55.894028Z"
    }
   },
   "cell_type": "code",
   "source": [
    "# 模型参数设置\n",
    "gnb_model = GaussianNB()  # Gaussian Naive Bayes 模型的构建\n",
    "\n",
    "# 模型准确率列表\n",
    "acc_list = []\n",
    "train_acc_list = []\n",
    "print(\"开始训练\")\n",
    "\n",
    "# 模型训练\n",
    "gnb_model.fit(m_train, train_label)\n",
    "\n",
    "# 测试集\n",
    "y_pred = np.asarray(gnb_model.predict(m_val), dtype='int64')\n",
    "\n",
    "# 计算准确率\n",
    "acc = round(accuracy_score(val_label, y_pred), 3)\n",
    "\n",
    "# 训练集\n",
    "# y_pred_train = np.asarray(gnb_model.predict(m_train), dtype='int64')\n",
    "# train_acc = round(accuracy_score(train_label, y_pred_train), 3)\n",
    "\n",
    "acc_list.append(acc)\n",
    "# train_acc_list.append(train_acc)\n",
    "\n",
    "print(\"完成训练，测试集准确率：\", acc)"
   ],
   "id": "b913d8d49911e8b9",
   "outputs": [
    {
     "name": "stdout",
     "output_type": "stream",
     "text": [
      "开始训练\n",
      "完成训练，测试集准确率： 0.52\n"
     ]
    }
   ],
   "execution_count": 18
  },
  {
   "metadata": {
    "ExecuteTime": {
     "end_time": "2024-07-29T15:46:56.484353Z",
     "start_time": "2024-07-29T15:46:56.253729Z"
    }
   },
   "cell_type": "code",
   "source": [
    "y_pred_final = np.asarray(gnb_model.predict(m_val), dtype='int64')\n",
    "print('------------------测试集上得分：------------------------')\n",
    "print('*' * 5)\n",
    "print('测试集准确率得分:', round(accuracy_score(val_label, y_pred_final), 3))\n",
    "print('*' * 5)\n",
    "print('准确率、召回率、f1-值测试报告如下:\\n', classification_report(val_label, y_pred_final))\n",
    "\n",
    "result=classification_report(val_label, y_pred,output_dict=True)\n",
    "gb_info={}\n",
    "gb_info['accuracy']=result['accuracy']\n",
    "gb_info['precision']=result['macro avg']['precision']\n",
    "gb_info['recall']=result['macro avg']['recall']\n",
    "gb_info['f1-score']=result['macro avg']['f1-score']"
   ],
   "id": "f00aad4fa0b74a60",
   "outputs": [
    {
     "name": "stdout",
     "output_type": "stream",
     "text": [
      "------------------测试集上得分：------------------------\n",
      "*****\n",
      "测试集准确率得分: 0.52\n",
      "*****\n",
      "准确率、召回率、f1-值测试报告如下:\n",
      "               precision    recall  f1-score   support\n",
      "\n",
      "           0       0.54      0.72      0.61       411\n",
      "           1       0.57      0.82      0.68       436\n",
      "           2       0.24      0.10      0.14       413\n",
      "           3       0.54      0.43      0.48       421\n",
      "\n",
      "    accuracy                           0.52      1681\n",
      "   macro avg       0.47      0.52      0.48      1681\n",
      "weighted avg       0.47      0.52      0.48      1681\n",
      "\n"
     ]
    }
   ],
   "execution_count": 19
  },
  {
   "metadata": {},
   "cell_type": "markdown",
   "source": "# 保存模型",
   "id": "927c300879cb8d3b"
  },
  {
   "metadata": {
    "ExecuteTime": {
     "end_time": "2024-07-29T15:46:56.500323Z",
     "start_time": "2024-07-29T15:46:56.485812Z"
    }
   },
   "cell_type": "code",
   "source": "dump(gnb_model, 'models_save/gnb.joblib')",
   "id": "b2bb85e6189ecb1",
   "outputs": [
    {
     "data": {
      "text/plain": [
       "['models_save/gnb.joblib']"
      ]
     },
     "execution_count": 20,
     "metadata": {},
     "output_type": "execute_result"
    }
   ],
   "execution_count": 20
  },
  {
   "metadata": {},
   "cell_type": "markdown",
   "source": "# KNN",
   "id": "981ecac76efa1204"
  },
  {
   "metadata": {
    "ExecuteTime": {
     "end_time": "2024-07-29T15:46:56.516324Z",
     "start_time": "2024-07-29T15:46:56.502328Z"
    }
   },
   "cell_type": "code",
   "source": "from sklearn.neighbors import KNeighborsClassifier  ",
   "id": "f890b82debd6733e",
   "outputs": [],
   "execution_count": 21
  },
  {
   "metadata": {},
   "cell_type": "markdown",
   "source": "# 模型参数设置，选择KNN模型  ",
   "id": "1bf0247cbb4ce972"
  },
  {
   "metadata": {
    "ExecuteTime": {
     "end_time": "2024-07-29T15:46:57.061810Z",
     "start_time": "2024-07-29T15:46:56.517325Z"
    }
   },
   "cell_type": "code",
   "source": [
    "knn_model = KNeighborsClassifier(n_neighbors=5)  # 你可以根据需要调整邻居的数量  \n",
    "\n",
    "# 模型准确率列表  \n",
    "acc_list = []  \n",
    "train_acc_list = []  \n",
    "print(\"开始训练\")  \n",
    "# 模型拟合  \n",
    "knn_model.fit(m_train, train_label)  \n",
    "\n",
    "# 测试集  \n",
    "y_pred = knn_model.predict(m_val)  \n",
    "\n",
    "# 计算准确率  \n",
    "acc = round(accuracy_score(val_label, y_pred), 3)  \n",
    "\n",
    "# 训练集  \n",
    "# y_pred_train = knn_model.predict(m_train)  \n",
    "# train_acc = round(accuracy_score(train_label, y_pred_train), 3)  \n",
    "\n",
    "acc_list.append(acc)  \n",
    "# train_acc_list.append(train_acc)  \n",
    "\n",
    "print(\"完成训练，测试集准确率：\", acc)  \n",
    "print('------------------测试集上得分：------------------------')  \n",
    "print('*' * 5)  \n",
    "print('测试集准确率得分:', acc)  \n",
    "print('*' * 5)  \n",
    "print('准确率、召回率、f1-值测试报告如下:\\n', classification_report(val_label, y_pred,output_dict=False))  \n",
    "\n",
    "\n",
    "result=classification_report(val_label, y_pred,output_dict=True)\n",
    "knn_info={}\n",
    "knn_info['accuracy']=result['accuracy']\n",
    "knn_info['precision']=result['macro avg']['precision']\n",
    "knn_info['recall']=result['macro avg']['recall']\n",
    "knn_info['f1-score']=result['macro avg']['f1-score']\n"
   ],
   "id": "713569595d4d9032",
   "outputs": [
    {
     "name": "stdout",
     "output_type": "stream",
     "text": [
      "开始训练\n",
      "完成训练，测试集准确率： 0.727\n",
      "------------------测试集上得分：------------------------\n",
      "*****\n",
      "测试集准确率得分: 0.727\n",
      "*****\n",
      "准确率、召回率、f1-值测试报告如下:\n",
      "               precision    recall  f1-score   support\n",
      "\n",
      "           0       1.00      1.00      1.00       411\n",
      "           1       1.00      0.25      0.39       436\n",
      "           2       0.70      0.98      0.82       413\n",
      "           3       0.51      0.72      0.60       421\n",
      "\n",
      "    accuracy                           0.73      1681\n",
      "   macro avg       0.80      0.73      0.70      1681\n",
      "weighted avg       0.80      0.73      0.70      1681\n",
      "\n"
     ]
    }
   ],
   "execution_count": 22
  },
  {
   "metadata": {
    "ExecuteTime": {
     "end_time": "2024-07-29T15:46:57.139792Z",
     "start_time": "2024-07-29T15:46:57.062811Z"
    }
   },
   "cell_type": "code",
   "source": [
    "# 保存模型\n",
    "dump(knn_model, 'models_save/knn.joblib')"
   ],
   "id": "e8dc3f52b5a527c7",
   "outputs": [
    {
     "data": {
      "text/plain": [
       "['models_save/knn.joblib']"
      ]
     },
     "execution_count": 23,
     "metadata": {},
     "output_type": "execute_result"
    }
   ],
   "execution_count": 23
  },
  {
   "metadata": {
    "ExecuteTime": {
     "end_time": "2024-07-29T15:46:57.311254Z",
     "start_time": "2024-07-29T15:46:57.141793Z"
    }
   },
   "cell_type": "code",
   "source": [
    "results = {'KNN':knn_info,'GaussianNB':gb_info,'SVM':svm_info,'RandomForest':rfc_info,}\n",
    "\n",
    "model_names = list(results.keys())  \n",
    "accuracy = [results[model]['accuracy'] for model in model_names]  \n",
    "precision = [results[model]['precision'] for model in model_names]  \n",
    "recall = [results[model]['recall'] for model in model_names]  \n",
    "f1_score = [results[model]['f1-score'] for model in model_names]  \n",
    "\n",
    "# 设置 X 轴位置  \n",
    "x = np.arange(len(model_names))  \n",
    "\n",
    "# 设置宽度  \n",
    "width = 0.2  \n",
    "\n",
    "# 创建图形和轴  \n",
    "plt.figure(figsize=(10, 6))  \n",
    "\n",
    "# 绘制折线图  \n",
    "plt.plot(model_names, accuracy, marker='o', label='Accuracy', linestyle='dotted', color='blue')  \n",
    "plt.plot(model_names, precision, marker='o', label='Precision', linestyle=':', color='orange')  \n",
    "plt.plot(model_names, recall, marker='o', label='Recall', linestyle='-.', color='green')  \n",
    "plt.plot(model_names, f1_score, marker='o', label='F1 Score', linestyle='-', color='red')  \n",
    "\n",
    "# 添加标题和标签  \n",
    "plt.title('Model Performance Comparison')  \n",
    "plt.xlabel('Models')  \n",
    "plt.ylabel('Scores')  \n",
    "plt.ylim(0.40, 0.95)  \n",
    "\n",
    "# 图例  \n",
    "plt.legend()  \n",
    "\n",
    "# 显示数值标签  \n",
    "for i, (acc, prec, rec, f1) in enumerate(zip(accuracy, precision, recall, f1_score)):  \n",
    "    plt.text(i, acc + 0.02, f'{acc:.2f}', ha='center')  \n",
    "    plt.text(i, prec + 0.02, f'{prec:.2f}', ha='center')  \n",
    "    plt.text(i, rec + 0.02, f'{rec:.2f}', ha='center')  \n",
    "    plt.text(i, f1 + 0.02, f'{f1:.2f}', ha='center')  \n",
    "\n",
    "# 显示图形  \n",
    "plt.tight_layout()  \n",
    "plt.grid()  \n",
    "plt.show() "
   ],
   "id": "c7e743398f46503f",
   "outputs": [
    {
     "data": {
      "text/plain": [
       "<Figure size 1000x600 with 1 Axes>"
      ],
      "image/png": "[encoded data removed]"
     },
     "metadata": {},
     "output_type": "display_data"
    }
   ],
   "execution_count": 24
  }
 ],
 "metadata": {
  "kernelspec": {
   "display_name": "Python 3",
   "language": "python",
   "name": "python3"
  },
  "language_info": {
   "codemirror_mode": {
    "name": "ipython",
    "version": 2
   },
   "file_extension": ".py",
   "mimetype": "text/x-python",
   "name": "python",
   "nbconvert_exporter": "python",
   "pygments_lexer": "ipython2",
   "version": "2.7.6"
  }
 },
 "nbformat": 4,
 "nbformat_minor": 5
}
