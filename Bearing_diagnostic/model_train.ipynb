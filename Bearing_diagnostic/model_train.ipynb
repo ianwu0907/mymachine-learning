{
 "cells": [
  {
   "cell_type": "code",
   "id": "6ae1e7f921fd05e4",
   "metadata": {
    "collapsed": true,
    "ExecuteTime": {
     "end_time": "2024-08-23T07:38:29.612323Z",
     "start_time": "2024-08-23T07:37:38.726884Z"
    }
   },
   "source": [
    "import os\n",
    "import matplotlib.pyplot as plt\n",
    "from collections import Counter\n",
    "import numpy as np\n",
    "import tensorflow as tf\n",
    "from joblib import dump, load\n",
    "import time\n",
    "\n",
    "import torch\n",
    "import torch.nn as nn\n",
    "import torch.optim as optim\n",
    "from torch.utils.data import DataLoader, TensorDataset\n",
    "import numpy as np\n",
    "from sklearn.metrics import classification_report, accuracy_score\n"
   ],
   "outputs": [],
   "execution_count": 1
  },
  {
   "metadata": {},
   "cell_type": "markdown",
   "source": [
    "\n",
    "# 读取数据，构造训练集和测试集"
   ],
   "id": "ce667370f0f22f56"
  },
  {
   "metadata": {
    "ExecuteTime": {
     "end_time": "2024-08-23T07:38:29.624453Z",
     "start_time": "2024-08-23T07:38:29.613509Z"
    }
   },
   "cell_type": "code",
   "source": [
    "def load_data():\n",
    "    # 读取数据\n",
    "    # x = np.load('train_data/train_data.npy')\n",
    "    # y = np.load('train_data/label.npy')\n",
    "    x=np.load('train_data/xjtu_data_3class.npy')\n",
    "    y=np.load('train_data/xjtu_label_3class.npy')\n",
    "    num = len(Counter(y))\n",
    "    \n",
    "    print(\"类别数量为：\", num)\n",
    "    return x, y, num\n"
   ],
   "id": "351d3fc7e3daec7a",
   "outputs": [],
   "execution_count": 2
  },
  {
   "metadata": {
    "ExecuteTime": {
     "end_time": "2024-08-23T07:38:29.636610Z",
     "start_time": "2024-08-23T07:38:29.626779Z"
    }
   },
   "cell_type": "code",
   "source": [
    "\n",
    "def create_train_data(x, y, ratio=0.8):\n",
    "    \"\"\"\n",
    "    x:数据\n",
    "    y:类别\n",
    "    ratio:生成训练集比率\n",
    "    \"\"\"\n",
    "    # 打乱顺序\n",
    "    # 读取data矩阵的第一维数（图片的个数）\n",
    "    num_example = x.shape[0]\n",
    "    # 产生一个num_example范围，步长为1的序列\n",
    "    arr = np.arange(num_example)\n",
    "    # 调用函数，打乱顺序\n",
    "    np.random.seed(99)\n",
    "    np.random.shuffle(arr)\n",
    "    # 按照打乱的顺序，重新排序\n",
    "    arr_data = x[arr]\n",
    "    arr_label = y[arr]\n",
    "    # 将数据集分为训练集80%、测试集20%\n",
    "    s = int(num_example * ratio)\n",
    "    x_train = arr_data[:s]\n",
    "    y_train = arr_label[:s]\n",
    "    x_val = arr_data[s:]\n",
    "    y_val = arr_label[s:]\n",
    "    print(\"训练集shape\", x_train.shape)\n",
    "    print(\"训练集类别：\", Counter(y_train))\n",
    "    print(\"测试集shape\", x_val.shape)\n",
    "    print(\"测试集类别：\", Counter(y_val))\n",
    "    return x_train, y_train, x_val, y_val\n"
   ],
   "id": "5ccd59021a5e3b72",
   "outputs": [],
   "execution_count": 3
  },
  {
   "metadata": {},
   "cell_type": "markdown",
   "source": "# 读取数据",
   "id": "f45b29349cf04854"
  },
  {
   "metadata": {
    "ExecuteTime": {
     "end_time": "2024-08-23T07:38:34.916363Z",
     "start_time": "2024-08-23T07:38:34.855644Z"
    }
   },
   "cell_type": "code",
   "source": [
    "data, label, label_count = load_data()\n",
    "# 生成训练集测试集,70%用作训练，30%用作测试\n",
    "train_data, train_label, val_data, val_label = create_train_data(data, label, 0.7)\n",
    "# # 从val_data和val_label中拿出最后1个元素作为测试组\n",
    "# test_data = val_data[-1:]\n",
    "# test_label = val_label[-1:]\n",
    "# \n",
    "# # 移除val_data和val_label中的最后1个元素\n",
    "# val_data = val_data[:-1]\n",
    "# val_label = val_label[:-1]\n",
    "print(\"*\" * 10)\n",
    "print(\"训练集数量：\", len(train_label))\n",
    "print(\"测试集数量：\", len(val_label))\n",
    "# print(\"测试组数量：\",len(test_label))"
   ],
   "id": "67f68f2110816791",
   "outputs": [
    {
     "name": "stdout",
     "output_type": "stream",
     "text": [
      "类别数量为： 3\n",
      "训练集shape (1260, 2560, 1)\n",
      "训练集类别： Counter({0: 435, 1: 418, 2: 407})\n",
      "测试集shape (540, 2560, 1)\n",
      "测试集类别： Counter({2: 193, 1: 182, 0: 165})\n",
      "**********\n",
      "训练集数量： 1260\n",
      "测试集数量： 540\n"
     ]
    }
   ],
   "execution_count": 4
  },
  {
   "metadata": {},
   "cell_type": "markdown",
   "source": [
    "\n",
    "# 数据集构建"
   ],
   "id": "784de51fe22888a4"
  },
  {
   "metadata": {
    "ExecuteTime": {
     "end_time": "2024-08-23T07:38:36.642489Z",
     "start_time": "2024-08-23T07:38:36.631126Z"
    }
   },
   "cell_type": "code",
   "source": [
    "# 使用机器学习算法需要对多维数据进行降维\n",
    "m_train = train_data.reshape(train_data.shape[0], train_data.shape[1] * train_data.shape[2])\n",
    "m_val = val_data.reshape(val_data.shape[0], val_data.shape[1] * val_data.shape[2])\n",
    "# m_test = test_data.reshape(test_data.shape[0],test_data.shape[1]*test_data.shape[2])\n",
    "# 设置训练迭代次数\n",
    "epoch = 20"
   ],
   "id": "39ab866ee79080d5",
   "outputs": [],
   "execution_count": 5
  },
  {
   "metadata": {},
   "cell_type": "markdown",
   "source": [
    "\n",
    "# 随机森林"
   ],
   "id": "3eb6b42317332698"
  },
  {
   "metadata": {
    "ExecuteTime": {
     "end_time": "2024-08-23T07:38:39.151200Z",
     "start_time": "2024-08-23T07:38:37.572613Z"
    }
   },
   "cell_type": "code",
   "source": [
    "\n",
    "from sklearn.ensemble import RandomForestClassifier\n",
    "from sklearn.metrics import roc_curve, roc_auc_score, classification_report, accuracy_score, log_loss\n",
    "from sklearn.model_selection import GridSearchCV, train_test_split\n",
    "from sklearn import model_selection\n",
    "from sklearn.preprocessing import OneHotEncoder\n",
    "from sklearn.preprocessing import normalize"
   ],
   "id": "6bdb4fd72f1a9154",
   "outputs": [],
   "execution_count": 6
  },
  {
   "metadata": {},
   "cell_type": "markdown",
   "source": "## 模型训练",
   "id": "ce04f997338af46f"
  },
  {
   "metadata": {
    "ExecuteTime": {
     "end_time": "2024-08-23T07:39:00.319206Z",
     "start_time": "2024-08-23T07:38:39.869031Z"
    }
   },
   "cell_type": "code",
   "source": [
    "# 模型参数设置\n",
    "\n",
    "rfc = RandomForestClassifier(n_estimators = 50,min_samples_split = 5,min_samples_leaf = 4,max_depth = 5)\n",
    "\n",
    "# 模型准确率和损失值\n",
    "acc_list = []\n",
    "# loss_list = []\n",
    "train_acc_list = []\n",
    "print(\"开始训练\")\n",
    "t1=time.time()\n",
    "for i in range(1,epoch +1):\n",
    "\n",
    "    # 模型训练\n",
    "    rfc.fit(m_train,train_label)\n",
    "\n",
    "    # # 训练集\n",
    "    # y_train = rfc.predict(m_train)\n",
    "\n",
    "    # 测试集\n",
    "    y_pred = np.asarray(rfc.predict(m_val),dtype = 'int64')\n",
    "\n",
    "    # 计算准确率\n",
    "    acc = round(accuracy_score(val_label, y_pred),3)\n",
    "    \n",
    "    # 训练集\n",
    "    y_pred = np.asarray(rfc.predict(m_train),dtype = 'int64')\n",
    "    # 计算准确率\n",
    "    train_acc = round(accuracy_score(train_label, y_pred),3)\n",
    "    \n",
    "    # print('测试集准确率:', round(accuracy_score(val_label, y_pred),3))\n",
    "    acc_list.append(acc)\n",
    "    train_acc_list.append(train_acc)\n",
    "    \n",
    "    # 计算损失值\n",
    "    # 使用one-hot编码计算损失值\n",
    "    # noe_hot = OneHotEncoder(sparse_output=False)\n",
    "    # \n",
    "    # y_pred_o = noe_hot.fit_transform(y_pred.reshape(1, -1))\n",
    "    # val_label_o = noe_hot.fit_transform(train_label.reshape(1, -1))\n",
    "    \n",
    "    # loss = round(log_loss(val_label_o,y_pred_o),3)\n",
    "    # print(\"loss：\",loss)\n",
    "    # loss_list.append(loss)\n",
    "    print(\"完成第\",i,\"轮训练，测试集准确率：\",acc)\n",
    "t2=time.time()\n",
    "train_time=t2-t1\n",
    "print('train_time:',train_time)"
   ],
   "id": "81f7470511fd5000",
   "outputs": [
    {
     "name": "stdout",
     "output_type": "stream",
     "text": [
      "开始训练\n",
      "完成第 1 轮训练，测试集准确率： 0.996\n",
      "完成第 2 轮训练，测试集准确率： 0.993\n",
      "完成第 3 轮训练，测试集准确率： 0.998\n",
      "完成第 4 轮训练，测试集准确率： 0.993\n",
      "完成第 5 轮训练，测试集准确率： 0.996\n",
      "完成第 6 轮训练，测试集准确率： 0.993\n",
      "完成第 7 轮训练，测试集准确率： 0.994\n",
      "完成第 8 轮训练，测试集准确率： 0.994\n",
      "完成第 9 轮训练，测试集准确率： 0.994\n",
      "完成第 10 轮训练，测试集准确率： 0.994\n",
      "完成第 11 轮训练，测试集准确率： 0.998\n",
      "完成第 12 轮训练，测试集准确率： 0.991\n",
      "完成第 13 轮训练，测试集准确率： 0.989\n",
      "完成第 14 轮训练，测试集准确率： 0.993\n",
      "完成第 15 轮训练，测试集准确率： 0.989\n",
      "完成第 16 轮训练，测试集准确率： 0.993\n",
      "完成第 17 轮训练，测试集准确率： 0.994\n",
      "完成第 18 轮训练，测试集准确率： 0.989\n",
      "完成第 19 轮训练，测试集准确率： 0.994\n",
      "完成第 20 轮训练，测试集准确率： 0.994\n",
      "train_time: 20.434447765350342\n"
     ]
    }
   ],
   "execution_count": 7
  },
  {
   "metadata": {},
   "cell_type": "markdown",
   "source": "## 测试集得分",
   "id": "9d3121758bd018ac"
  },
  {
   "metadata": {
    "ExecuteTime": {
     "end_time": "2024-08-23T07:39:00.343442Z",
     "start_time": "2024-08-23T07:39:00.321035Z"
    }
   },
   "cell_type": "code",
   "source": [
    "y_pred = np.asarray(rfc.predict(m_val), dtype='int64')\n",
    "print('------------------测试集上得分：------------------------')\n",
    "print('*' * 5)\n",
    "print('测试集准确率得分:', round(accuracy_score(val_label, y_pred), 3))\n",
    "print('*' * 5)\n",
    "print('准确率、召回率、f1-值测试报告如下:\\n', classification_report(val_label, y_pred))\n",
    "\n",
    "result=classification_report(val_label, y_pred,output_dict=True)\n",
    "rfc_info={}\n",
    "rfc_info['accuracy']=result['accuracy']\n",
    "rfc_info['precision']=result['macro avg']['precision']\n",
    "rfc_info['recall']=result['macro avg']['recall']\n",
    "rfc_info['f1-score']=result['macro avg']['f1-score']\n",
    "rfc_info['train_time']=train_time"
   ],
   "id": "c39498ae0ac4e9c5",
   "outputs": [
    {
     "name": "stdout",
     "output_type": "stream",
     "text": [
      "------------------测试集上得分：------------------------\n",
      "*****\n",
      "测试集准确率得分: 0.994\n",
      "*****\n",
      "准确率、召回率、f1-值测试报告如下:\n",
      "               precision    recall  f1-score   support\n",
      "\n",
      "           0       0.98      1.00      0.99       165\n",
      "           1       1.00      1.00      1.00       182\n",
      "           2       1.00      0.98      0.99       193\n",
      "\n",
      "    accuracy                           0.99       540\n",
      "   macro avg       0.99      0.99      0.99       540\n",
      "weighted avg       0.99      0.99      0.99       540\n",
      "\n"
     ]
    }
   ],
   "execution_count": 8
  },
  {
   "metadata": {},
   "cell_type": "markdown",
   "source": [
    "\n",
    "## 模型迭代准确率"
   ],
   "id": "5d59042758e6041a"
  },
  {
   "metadata": {
    "ExecuteTime": {
     "end_time": "2024-08-22T06:12:22.440716Z",
     "start_time": "2024-08-22T06:12:22.302784Z"
    }
   },
   "cell_type": "code",
   "source": [
    "# 设置Y轴范围\n",
    "plt.ylim(0, 1)\n",
    "# 训练准确率曲线\n",
    "show_data1 = train_acc_list\n",
    "# 测试准确率曲线\n",
    "show_data2 = acc_list\n",
    "x_data = list(range(1, len(show_data1) + 1))\n",
    "ln1, = plt.plot(x_data, show_data1, color='blue', linewidth=2.0, linestyle='--')\n",
    "ln2, = plt.plot(x_data, show_data2, color='red', linewidth=3.0, linestyle='-.')\n",
    "plt.legend(handles=[ln1, ln2], labels=['train_acc', 'val_acc'])\n",
    "plt.show()"
   ],
   "id": "3ae95868569bc621",
   "outputs": [
    {
     "data": {
      "text/plain": [
       "<Figure size 640x480 with 1 Axes>"
      ],
      "image/png": "[encoded data removed]"
     },
     "metadata": {},
     "output_type": "display_data"
    }
   ],
   "execution_count": 10
  },
  {
   "metadata": {},
   "cell_type": "markdown",
   "source": "## 保存模型",
   "id": "f6e24161fa71a7c5"
  },
  {
   "metadata": {
    "ExecuteTime": {
     "end_time": "2024-08-22T06:12:23.540Z",
     "start_time": "2024-08-22T06:12:23.510469Z"
    }
   },
   "cell_type": "code",
   "source": [
    "\n",
    "# 保存模型\n",
    "dump(rfc, 'models_save/rfc.joblib')\n",
    "# # 加载\n",
    "# rfc = load('models_save/rfc.joblib')\n",
    "# print(rfc)"
   ],
   "id": "25e73f227e3cc88d",
   "outputs": [
    {
     "data": {
      "text/plain": [
       "['models_save/rfc.joblib']"
      ]
     },
     "execution_count": 11,
     "metadata": {},
     "output_type": "execute_result"
    }
   ],
   "execution_count": 11
  },
  {
   "metadata": {},
   "cell_type": "markdown",
   "source": "# SVM",
   "id": "d5136f685133cc7"
  },
  {
   "metadata": {
    "ExecuteTime": {
     "end_time": "2024-08-23T07:39:00.355615Z",
     "start_time": "2024-08-23T07:39:00.345157Z"
    }
   },
   "cell_type": "code",
   "source": "from sklearn import svm  # 引入SVM库",
   "id": "1b22aaf858289121",
   "outputs": [],
   "execution_count": 9
  },
  {
   "metadata": {},
   "cell_type": "markdown",
   "source": "# 读取数据",
   "id": "ab8c616e1520634e"
  },
  {
   "metadata": {
    "ExecuteTime": {
     "end_time": "2024-08-23T07:39:00.410252Z",
     "start_time": "2024-08-23T07:39:00.357410Z"
    }
   },
   "cell_type": "code",
   "source": [
    "data, label, label_count = load_data()\n",
    "# 生成训练集测试集,70%用作训练，30%用作测试\n",
    "train_data, train_label, val_data, val_label = create_train_data(data, label, 0.7)\n",
    "\n",
    "print(\"*\" * 10)\n",
    "print(\"训练集数量：\", len(train_label))\n",
    "print(\"测试集数量：\", len(val_label))\n",
    "# 使用机器学习算法需要对多维数据进行降维\n",
    "m_train = train_data.reshape(train_data.shape[0], train_data.shape[1] * train_data.shape[2])\n",
    "m_val = val_data.reshape(val_data.shape[0], val_data.shape[1] * val_data.shape[2])"
   ],
   "id": "dcedd266d9cbf494",
   "outputs": [
    {
     "name": "stdout",
     "output_type": "stream",
     "text": [
      "类别数量为： 3\n",
      "训练集shape (1260, 2560, 1)\n",
      "训练集类别： Counter({0: 435, 1: 418, 2: 407})\n",
      "测试集shape (540, 2560, 1)\n",
      "测试集类别： Counter({2: 193, 1: 182, 0: 165})\n",
      "**********\n",
      "训练集数量： 1260\n",
      "测试集数量： 540\n"
     ]
    }
   ],
   "execution_count": 10
  },
  {
   "metadata": {
    "ExecuteTime": {
     "end_time": "2024-08-23T07:39:03.105139Z",
     "start_time": "2024-08-23T07:39:00.411403Z"
    }
   },
   "cell_type": "code",
   "source": [
    "# 模型参数设置\n",
    "svm_model = svm.SVC(kernel='rbf',gamma='scale', probability=True)  # SVM模型的构建\n",
    "\n",
    "# 模型准确率列表\n",
    "acc_list = []\n",
    "train_acc_list = []\n",
    "print(\"开始训练\")\n",
    "t1=time.time()\n",
    "# for i in range(1, epoch + 1):\n",
    "# 模型训练\n",
    "svm_model.fit(m_train, train_label)\n",
    "\n",
    "# 测试集\n",
    "y_pred = np.asarray(svm_model.predict(m_val), dtype='int64')\n",
    "\n",
    "# 计算准确率\n",
    "acc = round(accuracy_score(val_label, y_pred), 3)\n",
    "\n",
    "# 训练集\n",
    "y_pred_train = np.asarray(svm_model.predict(m_train), dtype='int64')\n",
    "train_acc = round(accuracy_score(train_label, y_pred_train), 3)\n",
    "\n",
    "acc_list.append(acc)\n",
    "train_acc_list.append(train_acc)\n",
    "\n",
    "print(\"完成SVM训练，测试集准确率：\", acc)\n",
    "t2=time.time()\n",
    "train_time=t2-t1\n",
    "print('train_time:',train_time)"
   ],
   "id": "f61094848c908169",
   "outputs": [
    {
     "name": "stdout",
     "output_type": "stream",
     "text": [
      "开始训练\n",
      "完成SVM训练，测试集准确率： 0.993\n",
      "train_time: 2.6734657287597656\n"
     ]
    }
   ],
   "execution_count": 11
  },
  {
   "metadata": {
    "ExecuteTime": {
     "end_time": "2024-08-23T07:39:03.354667Z",
     "start_time": "2024-08-23T07:39:03.107139Z"
    }
   },
   "cell_type": "code",
   "source": [
    "y_pred_final = np.asarray(svm_model.predict(m_val), dtype='int64')\n",
    "print('------------------测试集上得分：------------------------')\n",
    "print('*' * 5)\n",
    "print('测试集准确率得分:', round(accuracy_score(val_label, y_pred_final), 3))\n",
    "print('*' * 5)\n",
    "print('准确率、召回率、f1-值测试报告如下:\\n', classification_report(val_label, y_pred_final))\n",
    "\n",
    "result=classification_report(val_label, y_pred,output_dict=True)\n",
    "svm_info={}\n",
    "svm_info['accuracy']=result['accuracy']\n",
    "svm_info['precision']=result['macro avg']['precision']\n",
    "svm_info['recall']=result['macro avg']['recall']\n",
    "svm_info['f1-score']=result['macro avg']['f1-score']\n",
    "svm_info['train_time']=train_time\n"
   ],
   "id": "initial_id",
   "outputs": [
    {
     "name": "stdout",
     "output_type": "stream",
     "text": [
      "------------------测试集上得分：------------------------\n",
      "*****\n",
      "测试集准确率得分: 0.993\n",
      "*****\n",
      "准确率、召回率、f1-值测试报告如下:\n",
      "               precision    recall  f1-score   support\n",
      "\n",
      "           0       1.00      0.98      0.99       165\n",
      "           1       1.00      1.00      1.00       182\n",
      "           2       0.98      1.00      0.99       193\n",
      "\n",
      "    accuracy                           0.99       540\n",
      "   macro avg       0.99      0.99      0.99       540\n",
      "weighted avg       0.99      0.99      0.99       540\n",
      "\n"
     ]
    }
   ],
   "execution_count": 12
  },
  {
   "metadata": {},
   "cell_type": "markdown",
   "source": "# 保存模型",
   "id": "648b446e749b89df"
  },
  {
   "metadata": {
    "ExecuteTime": {
     "end_time": "2024-08-22T06:12:33.602138Z",
     "start_time": "2024-08-22T06:12:33.570417Z"
    }
   },
   "cell_type": "code",
   "source": [
    "dump(svm_model, 'models_save/svm.joblib')\n",
    "# # 加载\n",
    "# svm = load('models_save/svm.joblib')\n",
    "# print(svm)"
   ],
   "id": "1363a0af7c46929",
   "outputs": [
    {
     "data": {
      "text/plain": [
       "['models_save/svm.joblib']"
      ]
     },
     "execution_count": 16,
     "metadata": {},
     "output_type": "execute_result"
    }
   ],
   "execution_count": 16
  },
  {
   "metadata": {},
   "cell_type": "markdown",
   "source": "# Gaussian Naive Bayes",
   "id": "3197e4c5648d24b"
  },
  {
   "metadata": {
    "ExecuteTime": {
     "end_time": "2024-08-23T07:39:03.370666Z",
     "start_time": "2024-08-23T07:39:03.356666Z"
    }
   },
   "cell_type": "code",
   "source": "from sklearn.naive_bayes import GaussianNB",
   "id": "d40afb610c32752f",
   "outputs": [],
   "execution_count": 13
  },
  {
   "metadata": {},
   "cell_type": "markdown",
   "source": "# 读取数据",
   "id": "d29167c4f1af8ac1"
  },
  {
   "metadata": {
    "ExecuteTime": {
     "end_time": "2024-08-23T07:39:03.432271Z",
     "start_time": "2024-08-23T07:39:03.371667Z"
    }
   },
   "cell_type": "code",
   "source": [
    "data, label, label_count = load_data()\n",
    "# 生成训练集测试集，70%用作训练，30%用作测试\n",
    "train_data, train_label, val_data, val_label = create_train_data(data, label, 0.7)\n",
    "\n",
    "print(\"*\"*10)\n",
    "print(\"训练集数量：\", len(train_label))\n",
    "print(\"测试集数量：\", len(val_label))\n"
   ],
   "id": "7f8a10d5a8cdc979",
   "outputs": [
    {
     "name": "stdout",
     "output_type": "stream",
     "text": [
      "类别数量为： 3\n",
      "训练集shape (1260, 2560, 1)\n",
      "训练集类别： Counter({0: 435, 1: 418, 2: 407})\n",
      "测试集shape (540, 2560, 1)\n",
      "测试集类别： Counter({2: 193, 1: 182, 0: 165})\n",
      "**********\n",
      "训练集数量： 1260\n",
      "测试集数量： 540\n"
     ]
    }
   ],
   "execution_count": 14
  },
  {
   "metadata": {
    "ExecuteTime": {
     "end_time": "2024-08-23T07:39:03.725956Z",
     "start_time": "2024-08-23T07:39:03.434271Z"
    }
   },
   "cell_type": "code",
   "source": [
    "# 模型参数设置\n",
    "gnb_model = GaussianNB()  # Gaussian Naive Bayes 模型的构建\n",
    "\n",
    "# 模型准确率列表\n",
    "acc_list = []\n",
    "train_acc_list = []\n",
    "print(\"开始训练\")\n",
    "t1 = time.time()\n",
    "# 模型训练\n",
    "gnb_model.fit(m_train, train_label)\n",
    "\n",
    "# 测试集\n",
    "y_pred = np.asarray(gnb_model.predict(m_val), dtype='int64')\n",
    "\n",
    "# 计算准确率\n",
    "acc = round(accuracy_score(val_label, y_pred), 3)\n",
    "\n",
    "# 训练集\n",
    "y_pred_train = np.asarray(gnb_model.predict(m_train), dtype='int64')\n",
    "train_acc = round(accuracy_score(train_label, y_pred_train), 3)\n",
    "\n",
    "acc_list.append(acc)\n",
    "train_acc_list.append(train_acc)\n",
    "\n",
    "print(\"完成训练，测试集准确率：\", acc)\n",
    "t2 = time.time()\n",
    "train_time = t2 - t1\n",
    "print('train_time:', train_time)"
   ],
   "id": "b913d8d49911e8b9",
   "outputs": [
    {
     "name": "stdout",
     "output_type": "stream",
     "text": [
      "开始训练\n",
      "完成训练，测试集准确率： 0.952\n",
      "train_time: 0.2845945358276367\n"
     ]
    }
   ],
   "execution_count": 15
  },
  {
   "metadata": {
    "ExecuteTime": {
     "end_time": "2024-08-23T07:39:03.818412Z",
     "start_time": "2024-08-23T07:39:03.727958Z"
    }
   },
   "cell_type": "code",
   "source": [
    "y_pred_final = np.asarray(gnb_model.predict(m_val), dtype='int64')\n",
    "print('------------------测试集上得分：------------------------')\n",
    "print('*' * 5)\n",
    "print('测试集准确率得分:', round(accuracy_score(val_label, y_pred_final), 3))\n",
    "print('*' * 5)\n",
    "print('准确率、召回率、f1-值测试报告如下:\\n', classification_report(val_label, y_pred_final))\n",
    "\n",
    "result=classification_report(val_label, y_pred,output_dict=True)\n",
    "gb_info={}\n",
    "gb_info['accuracy']=result['accuracy']\n",
    "gb_info['precision']=result['macro avg']['precision']\n",
    "gb_info['recall']=result['macro avg']['recall']\n",
    "gb_info['f1-score']=result['macro avg']['f1-score']\n",
    "gb_info['train_time']=train_time"
   ],
   "id": "f00aad4fa0b74a60",
   "outputs": [
    {
     "name": "stdout",
     "output_type": "stream",
     "text": [
      "------------------测试集上得分：------------------------\n",
      "*****\n",
      "测试集准确率得分: 0.952\n",
      "*****\n",
      "准确率、召回率、f1-值测试报告如下:\n",
      "               precision    recall  f1-score   support\n",
      "\n",
      "           0       0.86      1.00      0.93       165\n",
      "           1       1.00      1.00      1.00       182\n",
      "           2       1.00      0.87      0.93       193\n",
      "\n",
      "    accuracy                           0.95       540\n",
      "   macro avg       0.95      0.96      0.95       540\n",
      "weighted avg       0.96      0.95      0.95       540\n",
      "\n"
     ]
    }
   ],
   "execution_count": 16
  },
  {
   "metadata": {},
   "cell_type": "markdown",
   "source": "# 保存模型",
   "id": "927c300879cb8d3b"
  },
  {
   "metadata": {
    "ExecuteTime": {
     "end_time": "2024-08-05T03:30:11.435177Z",
     "start_time": "2024-08-05T03:30:11.421760Z"
    }
   },
   "cell_type": "code",
   "source": "dump(gnb_model, 'models_save/gnb.joblib')",
   "id": "b2bb85e6189ecb1",
   "outputs": [
    {
     "data": {
      "text/plain": [
       "['models_save/gnb.joblib']"
      ]
     },
     "execution_count": 20,
     "metadata": {},
     "output_type": "execute_result"
    }
   ],
   "execution_count": 20
  },
  {
   "metadata": {},
   "cell_type": "markdown",
   "source": "# KNN",
   "id": "981ecac76efa1204"
  },
  {
   "metadata": {
    "ExecuteTime": {
     "end_time": "2024-08-08T02:26:19.521228Z",
     "start_time": "2024-08-08T02:26:19.505584Z"
    }
   },
   "cell_type": "code",
   "source": "from sklearn.neighbors import KNeighborsClassifier  ",
   "id": "f890b82debd6733e",
   "outputs": [],
   "execution_count": 20
  },
  {
   "metadata": {},
   "cell_type": "markdown",
   "source": "# 模型参数设置，选择KNN模型  ",
   "id": "1bf0247cbb4ce972"
  },
  {
   "metadata": {
    "ExecuteTime": {
     "end_time": "2024-08-08T02:26:22.466467Z",
     "start_time": "2024-08-08T02:26:21.350072Z"
    }
   },
   "cell_type": "code",
   "source": [
    "# 模型参数设置，选择KNN模型  \n",
    "knn_model = KNeighborsClassifier(n_neighbors=5)  # 你可以根据需要调整邻居的数量  \n",
    "\n",
    "# 模型准确率列表  \n",
    "acc_list = []  \n",
    "train_acc_list = []  \n",
    "print(\"开始训练\")  \n",
    "t1=time.time()\n",
    "# 模型拟合  \n",
    "knn_model.fit(m_train, train_label)  \n",
    "\n",
    "# 测试集  \n",
    "y_pred = knn_model.predict(m_val)  \n",
    "\n",
    "# 计算准确率  \n",
    "acc = round(accuracy_score(val_label, y_pred), 3)  \n",
    "\n",
    "# 训练集  \n",
    "y_pred_train = knn_model.predict(m_train)  \n",
    "train_acc = round(accuracy_score(train_label, y_pred_train), 3)  \n",
    "\n",
    "acc_list.append(acc)  \n",
    "train_acc_list.append(train_acc)  \n",
    "\n",
    "print(\"完成训练，测试集准确率：\", acc)  \n",
    "t2=time.time()\n",
    "train_time=t2-t1\n",
    "print('train_time:',train_time)"
   ],
   "id": "3279befaf5dbeae",
   "outputs": [
    {
     "name": "stdout",
     "output_type": "stream",
     "text": [
      "开始训练\n",
      "完成训练，测试集准确率： 0.761\n",
      "train_time: 1.1052916049957275\n"
     ]
    }
   ],
   "execution_count": 21
  },
  {
   "metadata": {
    "ExecuteTime": {
     "end_time": "2024-08-08T02:26:25.061425Z",
     "start_time": "2024-08-08T02:26:25.016169Z"
    }
   },
   "cell_type": "code",
   "source": [
    "print('------------------测试集上得分：------------------------')  \n",
    "print('*' * 5)  \n",
    "print('测试集准确率得分:', acc)  \n",
    "print('*' * 5)  \n",
    "print('准确率、召回率、f1-值测试报告如下:\\n', classification_report(val_label, y_pred,output_dict=False))  \n",
    "\n",
    "\n",
    "result=classification_report(val_label, y_pred,output_dict=True)\n",
    "knn_info={}\n",
    "knn_info['accuracy']=result['accuracy']\n",
    "knn_info['precision']=result['macro avg']['precision']\n",
    "knn_info['recall']=result['macro avg']['recall']\n",
    "knn_info['f1-score']=result['macro avg']['f1-score']\n",
    "knn_info['train_time']=train_time\n"
   ],
   "id": "713569595d4d9032",
   "outputs": [
    {
     "name": "stdout",
     "output_type": "stream",
     "text": [
      "------------------测试集上得分：------------------------\n",
      "*****\n",
      "测试集准确率得分: 0.761\n",
      "*****\n",
      "准确率、召回率、f1-值测试报告如下:\n",
      "               precision    recall  f1-score   support\n",
      "\n",
      "           0       0.00      0.00      0.00       344\n",
      "           1       1.00      1.00      1.00       381\n",
      "           2       0.51      1.00      0.67       355\n",
      "           3       1.00      1.00      1.00       360\n",
      "\n",
      "    accuracy                           0.76      1440\n",
      "   macro avg       0.63      0.75      0.67      1440\n",
      "weighted avg       0.64      0.76      0.68      1440\n",
      "\n"
     ]
    },
    {
     "name": "stderr",
     "output_type": "stream",
     "text": [
      "C:\\Users\\wyh\\AppData\\Local\\Packages\\PythonSoftwareFoundation.Python.3.10_qbz5n2kfra8p0\\LocalCache\\local-packages\\Python310\\site-packages\\sklearn\\metrics\\_classification.py:1497: UndefinedMetricWarning: Precision is ill-defined and being set to 0.0 in labels with no predicted samples. Use `zero_division` parameter to control this behavior.\n",
      "  _warn_prf(average, modifier, f\"{metric.capitalize()} is\", len(result))\n",
      "C:\\Users\\wyh\\AppData\\Local\\Packages\\PythonSoftwareFoundation.Python.3.10_qbz5n2kfra8p0\\LocalCache\\local-packages\\Python310\\site-packages\\sklearn\\metrics\\_classification.py:1497: UndefinedMetricWarning: Precision is ill-defined and being set to 0.0 in labels with no predicted samples. Use `zero_division` parameter to control this behavior.\n",
      "  _warn_prf(average, modifier, f\"{metric.capitalize()} is\", len(result))\n",
      "C:\\Users\\wyh\\AppData\\Local\\Packages\\PythonSoftwareFoundation.Python.3.10_qbz5n2kfra8p0\\LocalCache\\local-packages\\Python310\\site-packages\\sklearn\\metrics\\_classification.py:1497: UndefinedMetricWarning: Precision is ill-defined and being set to 0.0 in labels with no predicted samples. Use `zero_division` parameter to control this behavior.\n",
      "  _warn_prf(average, modifier, f\"{metric.capitalize()} is\", len(result))\n",
      "C:\\Users\\wyh\\AppData\\Local\\Packages\\PythonSoftwareFoundation.Python.3.10_qbz5n2kfra8p0\\LocalCache\\local-packages\\Python310\\site-packages\\sklearn\\metrics\\_classification.py:1497: UndefinedMetricWarning: Precision is ill-defined and being set to 0.0 in labels with no predicted samples. Use `zero_division` parameter to control this behavior.\n",
      "  _warn_prf(average, modifier, f\"{metric.capitalize()} is\", len(result))\n",
      "C:\\Users\\wyh\\AppData\\Local\\Packages\\PythonSoftwareFoundation.Python.3.10_qbz5n2kfra8p0\\LocalCache\\local-packages\\Python310\\site-packages\\sklearn\\metrics\\_classification.py:1497: UndefinedMetricWarning: Precision is ill-defined and being set to 0.0 in labels with no predicted samples. Use `zero_division` parameter to control this behavior.\n",
      "  _warn_prf(average, modifier, f\"{metric.capitalize()} is\", len(result))\n",
      "C:\\Users\\wyh\\AppData\\Local\\Packages\\PythonSoftwareFoundation.Python.3.10_qbz5n2kfra8p0\\LocalCache\\local-packages\\Python310\\site-packages\\sklearn\\metrics\\_classification.py:1497: UndefinedMetricWarning: Precision is ill-defined and being set to 0.0 in labels with no predicted samples. Use `zero_division` parameter to control this behavior.\n",
      "  _warn_prf(average, modifier, f\"{metric.capitalize()} is\", len(result))\n"
     ]
    }
   ],
   "execution_count": 22
  },
  {
   "metadata": {
    "ExecuteTime": {
     "end_time": "2024-08-05T03:30:12.543072Z",
     "start_time": "2024-08-05T03:30:12.467363Z"
    }
   },
   "cell_type": "code",
   "source": [
    "# 保存模型\n",
    "dump(knn_model, 'models_save/knn.joblib')"
   ],
   "id": "e8dc3f52b5a527c7",
   "outputs": [
    {
     "data": {
      "text/plain": [
       "['models_save/knn.joblib']"
      ]
     },
     "execution_count": 24,
     "metadata": {},
     "output_type": "execute_result"
    }
   ],
   "execution_count": 24
  },
  {
   "metadata": {},
   "cell_type": "markdown",
   "source": "# CNN",
   "id": "280dfc625e952652"
  },
  {
   "metadata": {
    "ExecuteTime": {
     "end_time": "2024-08-08T04:23:25.836693Z",
     "start_time": "2024-08-08T04:23:25.710813Z"
    }
   },
   "cell_type": "code",
   "source": [
    "# Ensure you have the right device  \n",
    "device = torch.device(\"cuda\" if torch.cuda.is_available() else \"cpu\")\n",
    "print(\"Using device:\", device)\n",
    "\n",
    "# Reading data (implementation needed)  \n",
    "data, label, label_count = load_data()\n",
    "train_data, train_label, val_data, val_label = create_train_data(data, label, 0.7)\n",
    "\n",
    "print(\"*\" * 10)\n",
    "print(\"训练集数量：\", len(train_label))\n",
    "print(\"测试集数量：\", len(val_label))"
   ],
   "id": "812a2a7620dfa370",
   "outputs": [
    {
     "name": "stdout",
     "output_type": "stream",
     "text": [
      "Using device: cuda\n",
      "类别数量为： 4\n",
      "训练集 shape: (3360, 1024, 1)\n",
      "验证集 shape: (1440, 1024, 1)\n",
      "**********\n",
      "训练集数量： 3360\n",
      "测试集数量： 1440\n"
     ]
    }
   ],
   "execution_count": 102
  },
  {
   "metadata": {},
   "cell_type": "markdown",
   "source": "# 数据集构建",
   "id": "c57bd683a5e918af"
  },
  {
   "metadata": {
    "ExecuteTime": {
     "end_time": "2024-08-08T02:26:31.952174Z",
     "start_time": "2024-08-08T02:26:31.923769Z"
    }
   },
   "cell_type": "code",
   "source": [
    "# Create datasets and dataloaders  \n",
    "train_dataset = TensorDataset(torch.tensor(train_data, dtype=torch.float32),\n",
    "                              torch.tensor(train_label, dtype=torch.long))\n",
    "val_dataset = TensorDataset(torch.tensor(val_data, dtype=torch.float32), torch.tensor(val_label, dtype=torch.long))\n",
    "\n",
    "train_loader = DataLoader(train_dataset, batch_size=16, shuffle=True)\n",
    "val_loader = DataLoader(val_dataset, batch_size=16, shuffle=False)\n"
   ],
   "id": "336c5a0501398ab2",
   "outputs": [],
   "execution_count": 24
  },
  {
   "metadata": {},
   "cell_type": "markdown",
   "source": "# 模型构建",
   "id": "9cd09c6ed6036eaf"
  },
  {
   "metadata": {
    "ExecuteTime": {
     "end_time": "2024-08-08T04:23:28.941084Z",
     "start_time": "2024-08-08T04:23:28.911402Z"
    }
   },
   "cell_type": "code",
   "source": [
    "class CNNModel(nn.Module):\n",
    "    def __init__(self):\n",
    "        super(CNNModel, self).__init__()\n",
    "        self.conv1 = nn.Conv1d(in_channels=1, out_channels=64, kernel_size=3)\n",
    "        self.pool = nn.MaxPool1d(kernel_size=16)\n",
    "        self.global_avg_pool = nn.AdaptiveAvgPool1d(1)  # 全局平均池化  \n",
    "        self.conv2 = nn.BatchNorm1d(64)\n",
    "        self.fc1 = nn.Linear(64, 32)  # 输入是64（卷积层输出通道）  \n",
    "        self.dropout = nn.Dropout(0.2)\n",
    "        self.fc2 = nn.Linear(32, 4)  # 输出为4类  \n",
    "\n",
    "    def forward(self, x):\n",
    "        x = self.conv1(x)  # 卷积层  \n",
    "        x = self.conv2(x)\n",
    "        x = torch.relu(x)  # 激活函数ReLU  \n",
    "        x = self.pool(x)  # 池化层  \n",
    "        x = self.global_avg_pool(x)  # 全局平均池化  \n",
    "        x = x.view(x.size(0), -1)  # 展平  \n",
    "        x = self.fc1(x)  # 全连接层  \n",
    "        x = torch.relu(x)  # 激活函数ReLU  \n",
    "        x = self.dropout(x)  # Dropout 层  \n",
    "        x = self.fc2(x)  # 输出层  \n",
    "        return x\n",
    "\n",
    "        # Instantiate the model  \n",
    "\n",
    "\n",
    "model = CNNModel().to(device)\n",
    "print(\"实例化模型成功\")\n",
    "print(\"模型参数如下：\")\n",
    "print(model)\n",
    "\n",
    "# Loss and optimizer  \n",
    "criterion = nn.CrossEntropyLoss()\n",
    "optimizer = optim.Adam(model.parameters(), lr=0.001)"
   ],
   "id": "7be10a1986c4a9ca",
   "outputs": [
    {
     "name": "stdout",
     "output_type": "stream",
     "text": [
      "实例化模型成功\n",
      "模型参数如下：\n",
      "CNNModel(\n",
      "  (conv1): Conv1d(1, 64, kernel_size=(3,), stride=(1,))\n",
      "  (pool): MaxPool1d(kernel_size=16, stride=16, padding=0, dilation=1, ceil_mode=False)\n",
      "  (global_avg_pool): AdaptiveAvgPool1d(output_size=1)\n",
      "  (conv2): BatchNorm1d(64, eps=1e-05, momentum=0.1, affine=True, track_running_stats=True)\n",
      "  (fc1): Linear(in_features=64, out_features=32, bias=True)\n",
      "  (dropout): Dropout(p=0.2, inplace=False)\n",
      "  (fc2): Linear(in_features=32, out_features=4, bias=True)\n",
      ")\n"
     ]
    }
   ],
   "execution_count": 103
  },
  {
   "metadata": {},
   "cell_type": "markdown",
   "source": "# 训练模型",
   "id": "34685610abff527"
  },
  {
   "metadata": {
    "ExecuteTime": {
     "end_time": "2024-08-08T04:23:47.015474Z",
     "start_time": "2024-08-08T04:23:31.316338Z"
    }
   },
   "cell_type": "code",
   "source": [
    "# Training loop  \n",
    "epochs = 20\n",
    "t1 = time.time()\n",
    "for epoch in range(epochs):\n",
    "    model.train()\n",
    "    running_loss = 0.0\n",
    "    for inputs, labels in train_loader:\n",
    "        inputs, labels = inputs.to(device), labels.to(device)\n",
    "\n",
    "        optimizer.zero_grad()\n",
    "        outputs = model(inputs.permute(0, 2, 1))  # Adjust dimensions for Conv1D  \n",
    "        loss = criterion(outputs, labels)\n",
    "        loss.backward()\n",
    "        optimizer.step()\n",
    "\n",
    "        running_loss += loss.item()\n",
    "\n",
    "    print(f'Epoch [{epoch + 1}/{epochs}], Loss: {running_loss / len(train_loader):.4f}')\n",
    "t2 = time.time()\n",
    "train_time = t2 - t1\n",
    "print(f'Training time: {t2 - t1:.2f} seconds')"
   ],
   "id": "dd70719ce8a58c47",
   "outputs": [
    {
     "name": "stdout",
     "output_type": "stream",
     "text": [
      "Epoch [1/20], Loss: 1.0829\n",
      "Epoch [2/20], Loss: 0.7697\n",
      "Epoch [3/20], Loss: 0.6834\n",
      "Epoch [4/20], Loss: 0.6297\n",
      "Epoch [5/20], Loss: 0.5894\n",
      "Epoch [6/20], Loss: 0.5627\n",
      "Epoch [7/20], Loss: 0.5154\n",
      "Epoch [8/20], Loss: 0.4782\n",
      "Epoch [9/20], Loss: 0.4469\n",
      "Epoch [10/20], Loss: 0.4205\n",
      "Epoch [11/20], Loss: 0.3885\n",
      "Epoch [12/20], Loss: 0.3528\n",
      "Epoch [13/20], Loss: 0.3341\n",
      "Epoch [14/20], Loss: 0.3053\n",
      "Epoch [15/20], Loss: 0.3060\n",
      "Epoch [16/20], Loss: 0.2956\n",
      "Epoch [17/20], Loss: 0.2863\n",
      "Epoch [18/20], Loss: 0.2792\n",
      "Epoch [19/20], Loss: 0.2670\n",
      "Epoch [20/20], Loss: 0.2646\n",
      "Training time: 15.69 seconds\n"
     ]
    }
   ],
   "execution_count": 104
  },
  {
   "metadata": {},
   "cell_type": "markdown",
   "source": "# Evaluation",
   "id": "b037179021ea2c24"
  },
  {
   "metadata": {
    "ExecuteTime": {
     "end_time": "2024-08-08T04:23:50.354490Z",
     "start_time": "2024-08-08T04:23:50.215952Z"
    }
   },
   "cell_type": "code",
   "source": [
    "# Evaluation  \n",
    "model.eval()\n",
    "with torch.no_grad():\n",
    "    val_outputs = []\n",
    "    val_labels = []\n",
    "    for inputs, labels in val_loader:\n",
    "        inputs, labels = inputs.to(device), labels.to(device)\n",
    "        outputs = model(inputs.permute(0, 2, 1))\n",
    "        val_outputs.append(outputs.cpu().numpy())\n",
    "        val_labels.append(labels.cpu().numpy())\n",
    "\n",
    "    # Convert outputs and labels to numpy arrays  \n",
    "val_outputs = np.vstack(val_outputs)\n",
    "print(val_outputs.shape)\n",
    "print(val_outputs[:10])\n",
    "val_labels = np.concatenate(val_labels)\n",
    "print(val_labels[:10])\n",
    "y_pred = np.argmax(val_outputs, axis=1)\n",
    "\n",
    "print('------------------测试集上得分：------------------------')\n",
    "print('*' * 5)\n",
    "print('测试集准确率得分:', round(accuracy_score(val_labels, y_pred), 3))\n",
    "print('*' * 5)\n",
    "print('准确率、召回率、f1-值测试报告如下:\\n', classification_report(val_labels, y_pred))  \n",
    "\n",
    "result=classification_report(val_labels, y_pred,output_dict=True)\n",
    "cnn_info={}\n",
    "cnn_info['accuracy']=result['accuracy']\n",
    "cnn_info['precision']=result['macro avg']['precision']\n",
    "cnn_info['recall']=result['macro avg']['recall']\n",
    "cnn_info['f1-score']=result['macro avg']['f1-score']\n",
    "cnn_info['train_time']=train_time"
   ],
   "id": "2ca21b8192848edb",
   "outputs": [
    {
     "name": "stdout",
     "output_type": "stream",
     "text": [
      "(1440, 4)\n",
      "[[-4.42140961e+00  3.92978621e+00 -4.03984213e+00  5.97594678e-02]\n",
      " [ 4.54622889e+00 -5.92288637e+00  3.95037031e+00 -1.30730915e+01]\n",
      " [-4.55710363e+00  3.96764159e+00 -4.01314449e+00 -9.23665613e-02]\n",
      " [ 3.70695138e+00 -5.00074244e+00  3.51177931e+00 -1.13301039e+01]\n",
      " [-4.47664833e+00  3.97688031e+00 -4.07930708e+00  1.24982595e-02]\n",
      " [-9.68450069e+00  3.33589745e+00 -1.08193703e+01  7.68520403e+00]\n",
      " [-9.88720512e+00  3.32488251e+00 -1.06817703e+01  7.62293339e+00]\n",
      " [ 4.04280329e+00 -5.43139029e+00  3.80122852e+00 -1.21944637e+01]\n",
      " [ 3.35437059e+00 -5.65057135e+00  3.63277245e+00 -1.19662228e+01]\n",
      " [-1.02424212e+01  3.21786737e+00 -1.07574015e+01  7.82274008e+00]]\n",
      "[1 0 1 2 1 3 3 2 2 3]\n",
      "------------------测试集上得分：------------------------\n",
      "*****\n",
      "测试集准确率得分: 0.943\n",
      "*****\n",
      "准确率、召回率、f1-值测试报告如下:\n",
      "               precision    recall  f1-score   support\n",
      "\n",
      "           0       0.85      0.95      0.90       373\n",
      "           1       1.00      0.99      1.00       375\n",
      "           2       0.95      0.83      0.89       377\n",
      "           3       0.99      1.00      1.00       315\n",
      "\n",
      "    accuracy                           0.94      1440\n",
      "   macro avg       0.95      0.95      0.95      1440\n",
      "weighted avg       0.95      0.94      0.94      1440\n",
      "\n"
     ]
    }
   ],
   "execution_count": 105
  },
  {
   "metadata": {},
   "cell_type": "markdown",
   "source": "# 保存模型",
   "id": "fd0184d9ea9075f0"
  },
  {
   "metadata": {
    "ExecuteTime": {
     "end_time": "2024-08-05T03:30:47.221284Z",
     "start_time": "2024-08-05T03:30:47.208645Z"
    }
   },
   "cell_type": "code",
   "source": [
    "# 保存模型\n",
    "model_path = 'models_save/CNNmodel.h5'\n",
    "torch.save(CNNModel, model_path)\n",
    "print(\"完成模型训练，保存地址：\", model_path)"
   ],
   "id": "5320f2d45292cc32",
   "outputs": [
    {
     "name": "stdout",
     "output_type": "stream",
     "text": [
      "完成模型训练，保存地址： models_save/CNNmodel.h5\n"
     ]
    }
   ],
   "execution_count": 30
  },
  {
   "metadata": {},
   "cell_type": "markdown",
   "source": "# CNN+ResNet",
   "id": "e11e86e452ccdebe"
  },
  {
   "metadata": {
    "ExecuteTime": {
     "end_time": "2024-08-08T02:27:27.224598Z",
     "start_time": "2024-08-08T02:27:27.117858Z"
    }
   },
   "cell_type": "code",
   "source": [
    "# Reading data (implementation needed)  \n",
    "data, label, label_count = load_data()\n",
    "train_data, train_label, val_data, val_label = create_train_data(data, label, 0.7)\n",
    "\n",
    "print(\"*\" * 10)\n",
    "print(\"训练集数量：\", len(train_label))\n",
    "print(\"测试集数量：\", len(val_label))"
   ],
   "id": "dc020e9a2bb14b9e",
   "outputs": [
    {
     "name": "stdout",
     "output_type": "stream",
     "text": [
      "类别数量为： 4\n",
      "训练集shape (3360, 1024, 1)\n",
      "训练集类别： Counter({0: 856, 2: 845, 3: 840, 1: 819})\n",
      "测试集shape (1440, 1024, 1)\n",
      "测试集类别： Counter({1: 381, 3: 360, 2: 355, 0: 344})\n",
      "**********\n",
      "训练集数量： 3360\n",
      "测试集数量： 1440\n"
     ]
    }
   ],
   "execution_count": 30
  },
  {
   "metadata": {},
   "cell_type": "markdown",
   "source": "# 模型构建",
   "id": "743a5f2a6e08538"
  },
  {
   "metadata": {
    "ExecuteTime": {
     "end_time": "2024-08-08T02:40:39.338506Z",
     "start_time": "2024-08-08T02:40:39.309878Z"
    }
   },
   "cell_type": "code",
   "source": [
    "import torch.nn.functional as F  \n",
    "\n",
    "class ResidualBlock(nn.Module):  \n",
    "    def __init__(self, filters, conv_size):  \n",
    "        super(ResidualBlock, self).__init__()  \n",
    "        self.conv1 = nn.Conv1d(filters, filters, conv_size, padding='same')  \n",
    "        self.bn1 = nn.BatchNorm1d(filters)  \n",
    "        self.conv2 = nn.Conv1d(filters, filters, conv_size, padding='same')  \n",
    "        self.bn2 = nn.BatchNorm1d(filters)  \n",
    "\n",
    "    def forward(self, x):  \n",
    "        identity = x  \n",
    "        out = self.conv1(x)  \n",
    "        out = F.relu(self.bn1(out))  \n",
    "        out = self.conv2(out)  \n",
    "        out = self.bn2(out)  \n",
    "        out += identity  \n",
    "        out = F.relu(out)  \n",
    "        return out  \n",
    "\n",
    "class CNN_ResNet_model(nn.Module):  \n",
    "    def __init__(self, label_num, num_b, data_shape=(1024, 1)):  \n",
    "        super(CNN_ResNet_model, self).__init__()  \n",
    "        self.num_blocks = num_b  \n",
    "        self.filters = 64  \n",
    "        self.conv_size = 3  \n",
    "        self.label_num = label_num  \n",
    "\n",
    "        # Initial Conv Layers  \n",
    "        self.conv1 = nn.Conv1d(data_shape[1], 32, 3)  \n",
    "        self.conv2 = nn.Conv1d(32, 64, 3)  \n",
    "\n",
    "        # Pooling Layer  \n",
    "        self.pool = nn.MaxPool1d(16)  \n",
    "\n",
    "        # ResNet Blocks  \n",
    "        self.res_blocks = nn.ModuleList([ResidualBlock(self.filters, self.conv_size) for _ in range(self.num_blocks)])  \n",
    "\n",
    "        # Additional Conv Layer after ResNet Blocks  \n",
    "        self.conv3 = nn.Conv1d(64, 64, 3)  \n",
    "\n",
    "        # Global Average Pooling  \n",
    "        self.global_avg_pool = nn.AdaptiveAvgPool1d(1)  \n",
    "\n",
    "        # Fully connected layers  \n",
    "        self.fc1 = nn.Linear(64, 256)  \n",
    "        self.dropout = nn.Dropout(0.5)  \n",
    "        self.fc2 = nn.Linear(256, label_num)  \n",
    "\n",
    "    def forward(self, x):  \n",
    "        x = F.relu(self.conv1(x))  \n",
    "        x = F.relu(self.conv2(x))  \n",
    "        x = self.pool(x)  \n",
    "\n",
    "        for block in self.res_blocks:  \n",
    "            x = block(x)  \n",
    "\n",
    "        x = F.relu(self.conv3(x))  \n",
    "        x = self.global_avg_pool(x)  \n",
    "        x = x.view(x.size(0), -1)  # Flatten the tensor for the fully connected layer  \n",
    "        x = F.relu(self.fc1(x))  \n",
    "        x = self.dropout(x)  \n",
    "        x = self.fc2(x)  \n",
    "        x = F.log_softmax(x, dim=1)  \n",
    "\n",
    "        return x  "
   ],
   "id": "870ab401eb0a8487",
   "outputs": [],
   "execution_count": 52
  },
  {
   "metadata": {
    "ExecuteTime": {
     "end_time": "2024-08-08T02:40:41.991398Z",
     "start_time": "2024-08-08T02:40:41.977098Z"
    }
   },
   "cell_type": "code",
   "source": [
    "# 模型参数\n",
    "model_param = {\n",
    "    \"a_shape\": 1024,\n",
    "    \"b_shape\": 2,\n",
    "    \"label_count\": 4,\n",
    "    \"num_b\":5\n",
    "}\n",
    "\n",
    "data_shape=(model_param['a_shape'],model_param['b_shape'])\n",
    "# 模型实例化\n",
    "model = CNN_ResNet_model(model_param['label_count'] , model_param['num_b'] , data_shape=data_shape)\n",
    "# 使用学习率进行训练\n",
    "# 模型网络结构\n",
    "print(\"实例化模型成功，网络结构如下：\")\n",
    "print(model)  \n",
    "\n"
   ],
   "id": "63862ef9061ea0e6",
   "outputs": [
    {
     "name": "stdout",
     "output_type": "stream",
     "text": [
      "实例化模型成功，网络结构如下：\n",
      "CNN_ResNet_model(\n",
      "  (conv1): Conv1d(2, 32, kernel_size=(3,), stride=(1,))\n",
      "  (conv2): Conv1d(32, 64, kernel_size=(3,), stride=(1,))\n",
      "  (pool): MaxPool1d(kernel_size=16, stride=16, padding=0, dilation=1, ceil_mode=False)\n",
      "  (res_blocks): ModuleList(\n",
      "    (0): ResidualBlock(\n",
      "      (conv1): Conv1d(64, 64, kernel_size=(3,), stride=(1,), padding=same)\n",
      "      (bn1): BatchNorm1d(64, eps=1e-05, momentum=0.1, affine=True, track_running_stats=True)\n",
      "      (conv2): Conv1d(64, 64, kernel_size=(3,), stride=(1,), padding=same)\n",
      "      (bn2): BatchNorm1d(64, eps=1e-05, momentum=0.1, affine=True, track_running_stats=True)\n",
      "    )\n",
      "    (1): ResidualBlock(\n",
      "      (conv1): Conv1d(64, 64, kernel_size=(3,), stride=(1,), padding=same)\n",
      "      (bn1): BatchNorm1d(64, eps=1e-05, momentum=0.1, affine=True, track_running_stats=True)\n",
      "      (conv2): Conv1d(64, 64, kernel_size=(3,), stride=(1,), padding=same)\n",
      "      (bn2): BatchNorm1d(64, eps=1e-05, momentum=0.1, affine=True, track_running_stats=True)\n",
      "    )\n",
      "    (2): ResidualBlock(\n",
      "      (conv1): Conv1d(64, 64, kernel_size=(3,), stride=(1,), padding=same)\n",
      "      (bn1): BatchNorm1d(64, eps=1e-05, momentum=0.1, affine=True, track_running_stats=True)\n",
      "      (conv2): Conv1d(64, 64, kernel_size=(3,), stride=(1,), padding=same)\n",
      "      (bn2): BatchNorm1d(64, eps=1e-05, momentum=0.1, affine=True, track_running_stats=True)\n",
      "    )\n",
      "    (3): ResidualBlock(\n",
      "      (conv1): Conv1d(64, 64, kernel_size=(3,), stride=(1,), padding=same)\n",
      "      (bn1): BatchNorm1d(64, eps=1e-05, momentum=0.1, affine=True, track_running_stats=True)\n",
      "      (conv2): Conv1d(64, 64, kernel_size=(3,), stride=(1,), padding=same)\n",
      "      (bn2): BatchNorm1d(64, eps=1e-05, momentum=0.1, affine=True, track_running_stats=True)\n",
      "    )\n",
      "    (4): ResidualBlock(\n",
      "      (conv1): Conv1d(64, 64, kernel_size=(3,), stride=(1,), padding=same)\n",
      "      (bn1): BatchNorm1d(64, eps=1e-05, momentum=0.1, affine=True, track_running_stats=True)\n",
      "      (conv2): Conv1d(64, 64, kernel_size=(3,), stride=(1,), padding=same)\n",
      "      (bn2): BatchNorm1d(64, eps=1e-05, momentum=0.1, affine=True, track_running_stats=True)\n",
      "    )\n",
      "  )\n",
      "  (conv3): Conv1d(64, 64, kernel_size=(3,), stride=(1,))\n",
      "  (global_avg_pool): AdaptiveAvgPool1d(output_size=1)\n",
      "  (fc1): Linear(in_features=64, out_features=256, bias=True)\n",
      "  (dropout): Dropout(p=0.5, inplace=False)\n",
      "  (fc2): Linear(in_features=256, out_features=4, bias=True)\n",
      ")\n"
     ]
    }
   ],
   "execution_count": 53
  },
  {
   "metadata": {},
   "cell_type": "markdown",
   "source": "# 损失函数和优化器",
   "id": "629a28067dc6a48e"
  },
  {
   "metadata": {
    "ExecuteTime": {
     "end_time": "2024-08-08T02:40:45.977756Z",
     "start_time": "2024-08-08T02:40:45.932758Z"
    }
   },
   "cell_type": "code",
   "source": [
    "from torch.utils.data import DataLoader, Dataset\n",
    "# train_data 和 val_data 需要转换为 PyTorch 能够读取的 Dataset 类，并调整数据的形状  \n",
    "\n",
    "def preprocess_data(data, target_shape):  \n",
    "    data = np.array(data)  \n",
    "    # target_shape=(sequence_length, channels)  \n",
    "    data = data.reshape(data.shape[0], target_shape[1], target_shape[0])  # 更改数据形状  \n",
    "    return data  \n",
    "\n",
    "model_param = {  \n",
    "    \"a_shape\": 1024,  \n",
    "    \"b_shape\": 1,  \n",
    "    \"label_count\": 4,  \n",
    "    \"num_b\": 5  \n",
    "}  \n",
    "\n",
    "train_data_processed = preprocess_data(train_data, (model_param['a_shape'], model_param['b_shape']))  \n",
    "val_data_processed = preprocess_data(val_data, (model_param['a_shape'], model_param['b_shape']))  \n",
    "\n",
    "class CustomDataset(Dataset):  \n",
    "    def __init__(self, data, labels):  \n",
    "        self.data = torch.tensor(data, dtype=torch.float32)  # Convert to tensor  \n",
    "        self.labels = torch.tensor(labels, dtype=torch.long)  # Convert to tensor  \n",
    "\n",
    "    def __len__(self):  \n",
    "        return len(self.data)  \n",
    "\n",
    "    def __getitem__(self, idx):  \n",
    "        return self.data[idx], self.labels[idx]  \n",
    "\n",
    "train_dataset = CustomDataset(train_data_processed, train_label)  \n",
    "train_loader = DataLoader(train_dataset, batch_size=32, shuffle=True)  \n",
    "\n",
    "val_dataset = CustomDataset(val_data_processed, val_label)  \n",
    "val_loader = DataLoader(val_dataset, batch_size=32, shuffle=False)  \n",
    "\n",
    "data_shape = (model_param['a_shape'], model_param['b_shape'])  # (sequence_length, channels)  \n",
    "model = CNN_ResNet_model(model_param['label_count'], model_param['num_b'], data_shape=data_shape)  \n",
    "\n",
    "# 定义损失函数和优化器  \n",
    "criterion = nn.CrossEntropyLoss()  \n",
    "optimizer = optim.Adam(model.parameters(), lr=1e-4)  \n",
    "\n",
    "# 设置日志输出地址  \n",
    "log_dir = os.path.join(\"logs\", \"ResNet\")  \n",
    "if not os.path.exists(log_dir):  \n",
    "    os.makedirs(log_dir)  "
   ],
   "id": "752798ff0a3dcc88",
   "outputs": [],
   "execution_count": 54
  },
  {
   "metadata": {},
   "cell_type": "markdown",
   "source": "# 训练模型",
   "id": "abed98eab635645"
  },
  {
   "metadata": {
    "ExecuteTime": {
     "end_time": "2024-08-08T02:42:18.966156Z",
     "start_time": "2024-08-08T02:40:50.952107Z"
    }
   },
   "cell_type": "code",
   "source": [
    "\n",
    "num_epochs = 20  \n",
    "train_accuracies = []  \n",
    "val_accuracies = []  \n",
    "\n",
    "t1 = time.time()\n",
    "model.train()  \n",
    "# count99=0\n",
    "for epoch in range(num_epochs):  \n",
    "    running_loss = 0.0  \n",
    "    correct_predictions = 0  \n",
    "    model.train()  \n",
    "    \n",
    "    for inputs, labels in train_loader:  \n",
    "        optimizer.zero_grad()  \n",
    "        outputs = model(inputs)   \n",
    "        loss = criterion(outputs, labels)  \n",
    "        loss.backward()  \n",
    "        optimizer.step()  \n",
    "\n",
    "        running_loss += loss.item() * inputs.size(0)  \n",
    "        _, preds = torch.max(outputs, 1)  \n",
    "        correct_predictions += torch.sum(preds == labels.data)  \n",
    "        \n",
    "    epoch_loss = running_loss / len(train_loader.dataset)  \n",
    "    epoch_acc = correct_predictions.double() / len(train_loader.dataset)  \n",
    "    train_accuracies.append(epoch_acc.item())  # 记录训练准确率  \n",
    "\n",
    "    print(f\"Epoch [{epoch + 1}/{num_epochs}], Loss: {epoch_loss:.4f}, Train Accuracy: {epoch_acc:.4f}\")  \n",
    "    \n",
    "    # 评估模型在验证集上的表现  \n",
    "    model.eval()  \n",
    "    correct_predictions = 0  \n",
    "\n",
    "    with torch.no_grad():  \n",
    "        for inputs, labels in val_loader:  \n",
    "            outputs = model(inputs)  \n",
    "            _, preds = torch.max(outputs, 1)  \n",
    "            correct_predictions += torch.sum(preds == labels.data)  \n",
    "            \n",
    "    epoch_val_acc = correct_predictions.double() / len(val_loader.dataset)  \n",
    "    val_accuracies.append(epoch_val_acc.item())  # 记录验证准确率  \n",
    "    \n",
    "    print(f\"Epoch [{epoch + 1}/{num_epochs}], Validation Accuracy: {epoch_val_acc:.4f}\")  \n",
    "    # if epoch_val_acc > 0.9:\n",
    "    #     count99+=1\n",
    "    # elif epoch_val_acc < 0.9 and count99>0:\n",
    "    #     count99=0\n",
    "    #     if count99>=2:\n",
    "    #         break\n",
    "print(\"Training completed.\")  \n",
    "t2=time.time()\n",
    "train_time=t2-t1"
   ],
   "id": "9b5ea948b17da5dc",
   "outputs": [
    {
     "name": "stdout",
     "output_type": "stream",
     "text": [
      "Epoch [1/20], Loss: 0.7559, Train Accuracy: 0.7280\n",
      "Epoch [1/20], Validation Accuracy: 0.7743\n",
      "Epoch [2/20], Loss: 0.1366, Train Accuracy: 0.9616\n",
      "Epoch [2/20], Validation Accuracy: 0.7194\n",
      "Epoch [3/20], Loss: 0.0657, Train Accuracy: 0.9824\n",
      "Epoch [3/20], Validation Accuracy: 0.9333\n",
      "Epoch [4/20], Loss: 0.0277, Train Accuracy: 0.9926\n",
      "Epoch [4/20], Validation Accuracy: 0.9875\n",
      "Epoch [5/20], Loss: 0.0261, Train Accuracy: 0.9926\n",
      "Epoch [5/20], Validation Accuracy: 0.7812\n",
      "Epoch [6/20], Loss: 0.0280, Train Accuracy: 0.9911\n",
      "Epoch [6/20], Validation Accuracy: 0.9479\n",
      "Epoch [7/20], Loss: 0.0144, Train Accuracy: 0.9958\n",
      "Epoch [7/20], Validation Accuracy: 0.7694\n",
      "Epoch [8/20], Loss: 0.0188, Train Accuracy: 0.9943\n",
      "Epoch [8/20], Validation Accuracy: 0.9743\n",
      "Epoch [9/20], Loss: 0.0439, Train Accuracy: 0.9863\n",
      "Epoch [9/20], Validation Accuracy: 0.9882\n",
      "Epoch [10/20], Loss: 0.0163, Train Accuracy: 0.9952\n",
      "Epoch [10/20], Validation Accuracy: 0.8764\n",
      "Epoch [11/20], Loss: 0.0249, Train Accuracy: 0.9926\n",
      "Epoch [11/20], Validation Accuracy: 0.9993\n",
      "Epoch [12/20], Loss: 0.0171, Train Accuracy: 0.9935\n",
      "Epoch [12/20], Validation Accuracy: 0.9944\n",
      "Epoch [13/20], Loss: 0.0088, Train Accuracy: 0.9964\n",
      "Epoch [13/20], Validation Accuracy: 0.9264\n",
      "Epoch [14/20], Loss: 0.0065, Train Accuracy: 0.9988\n",
      "Epoch [14/20], Validation Accuracy: 0.9951\n",
      "Epoch [15/20], Loss: 0.0086, Train Accuracy: 0.9967\n",
      "Epoch [15/20], Validation Accuracy: 0.9986\n",
      "Epoch [16/20], Loss: 0.0096, Train Accuracy: 0.9967\n",
      "Epoch [16/20], Validation Accuracy: 0.7646\n",
      "Epoch [17/20], Loss: 0.0188, Train Accuracy: 0.9949\n",
      "Epoch [17/20], Validation Accuracy: 0.4889\n",
      "Epoch [18/20], Loss: 0.0276, Train Accuracy: 0.9911\n",
      "Epoch [18/20], Validation Accuracy: 0.9826\n",
      "Epoch [19/20], Loss: 0.0139, Train Accuracy: 0.9961\n",
      "Epoch [19/20], Validation Accuracy: 0.9583\n",
      "Epoch [20/20], Loss: 0.0216, Train Accuracy: 0.9935\n",
      "Epoch [20/20], Validation Accuracy: 0.9757\n",
      "Training completed.\n"
     ]
    }
   ],
   "execution_count": 55
  },
  {
   "metadata": {
    "ExecuteTime": {
     "end_time": "2024-08-08T02:42:21.780831Z",
     "start_time": "2024-08-08T02:42:21.083843Z"
    }
   },
   "cell_type": "code",
   "source": [
    "# 评估模型  \n",
    "model.eval()  \n",
    "all_labels = []  \n",
    "all_predictions = []  \n",
    "\n",
    "with torch.no_grad():  \n",
    "    for inputs, labels in val_loader:  \n",
    "        outputs = model(inputs)  \n",
    "        _, preds = torch.max(outputs, 1)  \n",
    "        all_labels.extend(labels.cpu().numpy())  \n",
    "        all_predictions.extend(preds.cpu().numpy())  \n",
    "\n",
    "# 计算各项指标  \n",
    "print(\"*****完成预处理，进行模型评估*****\")  \n",
    "print('------------------测试集上得分：------------------------')  \n",
    "\n",
    "y_pred = all_predictions  \n",
    "val_labels = val_label  # Assuming val_label is already available  \n",
    "\n",
    "print('*' * 5)  \n",
    "print('测试集准确率得分:', round(accuracy_score(val_labels, y_pred), 3))  \n",
    "print('*' * 5)  \n",
    "print('准确率、召回率、f1-值测试报告如下:\\n', classification_report(val_labels, y_pred))  "
   ],
   "id": "4b459b40afc403f7",
   "outputs": [
    {
     "name": "stdout",
     "output_type": "stream",
     "text": [
      "*****完成预处理，进行模型评估*****\n",
      "------------------测试集上得分：------------------------\n",
      "*****\n",
      "测试集准确率得分: 0.976\n",
      "*****\n",
      "准确率、召回率、f1-值测试报告如下:\n",
      "               precision    recall  f1-score   support\n",
      "\n",
      "           0       0.91      1.00      0.95       344\n",
      "           1       1.00      1.00      1.00       381\n",
      "           2       1.00      0.90      0.95       355\n",
      "           3       1.00      1.00      1.00       360\n",
      "\n",
      "    accuracy                           0.98      1440\n",
      "   macro avg       0.98      0.98      0.97      1440\n",
      "weighted avg       0.98      0.98      0.98      1440\n",
      "\n"
     ]
    }
   ],
   "execution_count": 56
  },
  {
   "metadata": {
    "ExecuteTime": {
     "end_time": "2024-08-08T02:42:26.604521Z",
     "start_time": "2024-08-08T02:42:26.575228Z"
    }
   },
   "cell_type": "code",
   "source": [
    "result=classification_report(val_labels, y_pred,output_dict=True)\n",
    "CNN_resnet_info={}\n",
    "CNN_resnet_info['accuracy']=result['accuracy']\n",
    "CNN_resnet_info['precision']=result['macro avg']['precision']\n",
    "CNN_resnet_info['recall']=result['macro avg']['recall']\n",
    "CNN_resnet_info['f1-score']=result['macro avg']['f1-score']\n",
    "CNN_resnet_info['train_time']=train_time"
   ],
   "id": "f48ba341cd30910",
   "outputs": [],
   "execution_count": 57
  },
  {
   "metadata": {
    "ExecuteTime": {
     "end_time": "2024-08-05T03:33:45.933450Z",
     "start_time": "2024-08-05T03:33:45.904748Z"
    }
   },
   "cell_type": "code",
   "source": [
    "# 保存模型\n",
    "model_path = 'models_save/CNN_ResNet_model.h5'\n",
    "torch.save(model, model_path)\n",
    "print(\"完成模型训练，保存地址：\", model_path)\n"
   ],
   "id": "5742f375a65ed076",
   "outputs": [
    {
     "name": "stdout",
     "output_type": "stream",
     "text": [
      "完成模型训练，保存地址： models_save/CNN_ResNet_model.h5\n"
     ]
    }
   ],
   "execution_count": 38
  },
  {
   "metadata": {},
   "cell_type": "markdown",
   "source": "## 模型迭代准确率",
   "id": "99eca8d2f321ffa4"
  },
  {
   "metadata": {
    "ExecuteTime": {
     "end_time": "2024-08-08T02:42:29.339377Z",
     "start_time": "2024-08-08T02:42:29.183378Z"
    }
   },
   "cell_type": "code",
   "source": [
    "import matplotlib.pyplot as plt\n",
    "# 绘制训练和验证准确率随 epoch 变化的图  \n",
    "plt.figure(figsize=(10, 6))  \n",
    "\n",
    "# 设置 Y 轴范围  \n",
    "plt.ylim(0, 1)  \n",
    "\n",
    "# 绘制训练准确率曲线  \n",
    "plt.plot(range(1, num_epochs + 1), train_accuracies, color='blue', linewidth=2.0, linestyle='--', label='Train Accuracy')  \n",
    "\n",
    "# 绘制验证准确率曲线  \n",
    "plt.plot(range(1, num_epochs + 1), val_accuracies, color='red', linewidth=3.0, linestyle='-.', label='Validation Accuracy')  \n",
    "\n",
    "# 设置图例  \n",
    "plt.legend()  \n",
    "\n",
    "# 设置图形标题和轴标签  \n",
    "plt.title('Training and Validation Accuracy')  \n",
    "plt.xlabel('Epoch')  \n",
    "plt.ylabel('Accuracy')  \n",
    "\n",
    "# 显示图形  \n",
    "plt.show()  "
   ],
   "id": "bc01481c6ca33ecc",
   "outputs": [
    {
     "data": {
      "text/plain": [
       "<Figure size 1000x600 with 1 Axes>"
      ],
      "image/png": "[encoded data removed]"
     },
     "metadata": {},
     "output_type": "display_data"
    }
   ],
   "execution_count": 58
  },
  {
   "metadata": {},
   "cell_type": "markdown",
   "source": "# 对比模型",
   "id": "b071520b571b383b"
  },
  {
   "metadata": {
    "ExecuteTime": {
     "end_time": "2024-08-08T04:24:03.281983Z",
     "start_time": "2024-08-08T04:24:02.979017Z"
    }
   },
   "cell_type": "code",
   "source": [
    "results = {'KNN':knn_info,'GaussianNB':gb_info,'SVM':svm_info,'RandomForest':rfc_info,'CNN':cnn_info,'CNN_ResNet':CNN_resnet_info}\n",
    "\n",
    "model_names = list(results.keys())  \n",
    "accuracy = [results[model]['accuracy'] for model in model_names]  \n",
    "precision = [results[model]['precision'] for model in model_names]  \n",
    "recall = [results[model]['recall'] for model in model_names]  \n",
    "f1_score = [results[model]['f1-score'] for model in model_names]  \n",
    "# train_time=[results[model]['train_time'] for model in model_names]\n",
    "# 设置 X 轴位置  \n",
    "x = np.arange(len(model_names))  \n",
    "\n",
    "# 设置宽度  \n",
    "width = 0.2  \n",
    "\n",
    "# 创建图形和轴  \n",
    "plt.figure(figsize=(10, 6))  \n",
    "\n",
    "# 绘制折线图  \n",
    "plt.plot(model_names, accuracy, marker='o', label='Accuracy', linestyle='dotted', color='blue')  \n",
    "plt.plot(model_names, precision, marker='o', label='Precision', linestyle=':', color='orange')  \n",
    "plt.plot(model_names, recall, marker='o', label='Recall', linestyle='-.', color='green')  \n",
    "plt.plot(model_names, f1_score, marker='o', label='F1 Score', linestyle='-', color='red')  \n",
    "# plt.plot(model_names, train_time, marker='o', label='Train Time', linestyle='--', color='purple')\n",
    "\n",
    "# 添加标题和标签  \n",
    "plt.title('Model Performance Comparison')  \n",
    "plt.xlabel('Models')  \n",
    "plt.ylabel('Scores')  \n",
    "plt.ylim(0.40, 1)  \n",
    "\n",
    "# 图例  \n",
    "plt.legend()  \n",
    "\n",
    "# 显示数值标签  \n",
    "for i, (acc, prec, rec, f1) in enumerate(zip(accuracy, precision, recall, f1_score)):  \n",
    "    plt.text(i, acc + 0.02, f'{acc:.2f}', ha='center')  \n",
    "    plt.text(i, prec + 0.02, f'{prec:.2f}', ha='center')  \n",
    "    plt.text(i, rec + 0.02, f'{rec:.2f}', ha='center')  \n",
    "    plt.text(i, f1 + 0.02, f'{f1:.2f}', ha='center')  \n",
    "    # plt.text(i, train_time[i] + 0.02, f'{train_time[i]:.2f}', ha='center')\n",
    "\n",
    "\n",
    "# 显示图形  \n",
    " \n",
    "plt.grid()  \n",
    "plt.show()  "
   ],
   "id": "c7e743398f46503f",
   "outputs": [
    {
     "data": {
      "text/plain": [
       "<Figure size 1000x600 with 1 Axes>"
      ],
      "image/png": "[encoded data removed]"
     },
     "metadata": {},
     "output_type": "display_data"
    }
   ],
   "execution_count": 106
  },
  {
   "metadata": {},
   "cell_type": "markdown",
   "source": "# 比较训练时间",
   "id": "d4cb5457d2d16cc0"
  },
  {
   "metadata": {
    "ExecuteTime": {
     "end_time": "2024-08-08T02:42:45.371345Z",
     "start_time": "2024-08-08T02:42:45.218199Z"
    }
   },
   "cell_type": "code",
   "source": [
    "train_time=[results[model]['train_time'] for model in model_names]\n",
    "# 创建图形和轴\n",
    "plt.figure(figsize=(10, 6))\n",
    "plt.plot(model_names, train_time, marker='o', label='Train Time', linestyle='--', color='purple')\n",
    "# 添加标题和标签\n",
    "plt.title('Model Training Time Comparison')\n",
    "plt.xlabel('Models')\n",
    "plt.ylabel('Time (seconds)')\n",
    "# 图例\n",
    "plt.legend()\n",
    "# 显示数值标签\n",
    "for i, ttime in enumerate(train_time):\n",
    "    plt.text(i, ttime , f'{ttime:.2f}', ha='center')\n",
    "# 显示图形\n",
    "plt.tight_layout()\n",
    "plt.grid()\n",
    "plt.show()\n"
   ],
   "id": "f11401500ebae3d5",
   "outputs": [
    {
     "data": {
      "text/plain": [
       "<Figure size 1000x600 with 1 Axes>"
      ],
      "image/png": "[encoded data removed]"
     },
     "metadata": {},
     "output_type": "display_data"
    }
   ],
   "execution_count": 60
  },
  {
   "metadata": {},
   "cell_type": "code",
   "outputs": [],
   "execution_count": null,
   "source": "",
   "id": "969829a25c178a90"
  }
 ],
 "metadata": {
  "kernelspec": {
   "display_name": "Python 3",
   "language": "python",
   "name": "python3"
  },
  "language_info": {
   "codemirror_mode": {
    "name": "ipython",
    "version": 2
   },
   "file_extension": ".py",
   "mimetype": "text/x-python",
   "name": "python",
   "nbconvert_exporter": "python",
   "pygments_lexer": "ipython2",
   "version": "2.7.6"
  }
 },
 "nbformat": 4,
 "nbformat_minor": 5
}
