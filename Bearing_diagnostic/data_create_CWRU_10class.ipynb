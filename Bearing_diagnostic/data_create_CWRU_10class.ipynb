{
 "cells": [
  {
   "cell_type": "code",
   "id": "initial_id",
   "metadata": {
    "collapsed": true,
    "ExecuteTime": {
     "end_time": "2024-07-31T06:08:29.277973Z",
     "start_time": "2024-07-31T06:08:15.787852Z"
    }
   },
   "source": [
    "import numpy as np\n",
    "import pandas as pd\n",
    "from scipy.io import loadmat\n",
    "from collections import Counter\n",
    "from sklearn.preprocessing import MinMaxScaler"
   ],
   "outputs": [],
   "execution_count": 1
  },
  {
   "metadata": {
    "ExecuteTime": {
     "end_time": "2024-07-31T06:08:29.293283Z",
     "start_time": "2024-07-31T06:08:29.280075Z"
    }
   },
   "cell_type": "code",
   "source": [
    "def data_load(file_names,filename):\n",
    "    \n",
    "    data = loadmat(f'{filename}'+'.mat')\n",
    "    org_DE = data['X'+filename+'_DE_time']   \n",
    "    # org_FE = data['X'+filename+'_FE_time']\n",
    "    scaler = MinMaxScaler()\n",
    "#     scaler.fit(list_DE)\n",
    "    list_DE_n = scaler.fit_transform(org_DE)\n",
    "\n",
    "    \n",
    "    # 构建一维数组\n",
    "    list_DE = []\n",
    "    for de in list_DE_n:\n",
    "        list_DE.append(de[0])\n",
    "        \n",
    "    data_cut = []\n",
    "    label_cut = []\n",
    "    \n",
    "    # # 分割数据\n",
    "\n",
    "    for i in range(0, len(list_DE) // cut_num):  \n",
    "        segment = list_DE[i * cut_num : (i + 1) * cut_num]  \n",
    "        \n",
    "        # 将 segment 转换为 numpy 数组以便进行计算  \n",
    "        segment_array = np.array(segment)  \n",
    "        \n",
    "        \n",
    "        mean = np.mean(segment_array)# MEAN \n",
    "        \n",
    "        variance = np.var(segment_array)             # VARIANCE  \n",
    "        std_dev = np.std(segment_array)               # STANDARD DEVIATION  \n",
    "        rms = np.sqrt(np.mean(np.square(segment_array)))  # RMS  \n",
    "        \n",
    "        # 将统计量按顺序添加到 data_cut  \n",
    "        data_cut.append(np.column_stack((mean,variance,std_dev,rms)))  \n",
    "        \n",
    "        # 添加对应的标签  \n",
    "        label_cut.append(file_names[filename])  \n",
    "\n",
    "    \n",
    "    \n",
    "    return data_cut,label_cut"
   ],
   "id": "eb4bd6fb0e4ed9a9",
   "outputs": [],
   "execution_count": 2
  },
  {
   "metadata": {
    "ExecuteTime": {
     "end_time": "2024-07-31T06:08:29.852942Z",
     "start_time": "2024-07-31T06:08:29.295503Z"
    }
   },
   "cell_type": "code",
   "source": [
    "list_r=[]\n",
    "cut_num = 239\n",
    "data_list = [0]*10\n",
    "label_list = [0]*10\n",
    "# Assuming your filenames are as follows:\n",
    "file_names = {'097':0 ,'105':1, '118':2, '130':3, '169':4, '185':5, '197':6, '209':7, '222':8, '234':9}\n",
    "i=0\n",
    "for filename in file_names.keys():\n",
    "    data_list[i],label_list[i]=data_load(file_names,filename)\n",
    "    data_list[i],label_list[i]=data_list[i][:500],label_list[i][:500]\n",
    "    i+=1\n",
    "\n",
    "\n",
    "data_train=np.asarray(data_list[0]+data_list[1]+data_list[2]+data_list[3]+data_list[4]+data_list[5]+data_list[6]+data_list[7]+data_list[8]+data_list[9],dtype='float64')\n",
    "label=np.asarray(label_list[0]+label_list[1]+label_list[2]+label_list[3]+label_list[4]+label_list[5]+label_list[6]+label_list[7]+label_list[8]+label_list[9],dtype='int64')\n",
    "print(\"处理后样本shape：\",data_train.shape)\n",
    "print(\"处理后数据类别分布：\",Counter(label))\n",
    "\n",
    "# 保存数据\n",
    "np.save(\"train_data/train_data_10class.npy\",data_train)\n",
    "np.save(\"train_data/label_10class.npy\",label)\n",
    "print(\"数据保存成功，位置：/train_data/\")"
   ],
   "id": "9f513a7aa09ddcaf",
   "outputs": [
    {
     "name": "stdout",
     "output_type": "stream",
     "text": [
      "处理后样本shape： (5000, 1, 4)\n",
      "处理后数据类别分布： Counter({0: 500, 1: 500, 2: 500, 3: 500, 4: 500, 5: 500, 6: 500, 7: 500, 8: 500, 9: 500})\n",
      "数据保存成功，位置：/train_data/\n"
     ]
    }
   ],
   "execution_count": 3
  }
 ],
 "metadata": {
  "kernelspec": {
   "display_name": "Python 3",
   "language": "python",
   "name": "python3"
  },
  "language_info": {
   "codemirror_mode": {
    "name": "ipython",
    "version": 2
   },
   "file_extension": ".py",
   "mimetype": "text/x-python",
   "name": "python",
   "nbconvert_exporter": "python",
   "pygments_lexer": "ipython2",
   "version": "2.7.6"
  }
 },
 "nbformat": 4,
 "nbformat_minor": 5
}
