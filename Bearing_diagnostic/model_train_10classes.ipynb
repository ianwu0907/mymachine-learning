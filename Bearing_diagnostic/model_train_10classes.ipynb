{
 "cells": [
  {
   "cell_type": "code",
   "id": "6ae1e7f921fd05e4",
   "metadata": {
    "collapsed": true,
    "ExecuteTime": {
     "end_time": "2024-08-05T06:46:45.944877Z",
     "start_time": "2024-08-05T06:46:45.931878Z"
    }
   },
   "source": [
    "import os\n",
    "import matplotlib.pyplot as plt\n",
    "from collections import Counter\n",
    "\n",
    "from joblib import dump, load\n",
    "import time\n",
    "\n",
    "import torch\n",
    "import torch.nn as nn\n",
    "import torch.optim as optim\n",
    "from torch.utils.data import DataLoader, TensorDataset\n",
    "import numpy as np\n",
    "from sklearn.metrics import classification_report, accuracy_score"
   ],
   "outputs": [],
   "execution_count": 187
  },
  {
   "metadata": {},
   "cell_type": "markdown",
   "source": [
    "\n",
    "# 读取数据，构造训练集和测试集"
   ],
   "id": "ce667370f0f22f56"
  },
  {
   "metadata": {
    "ExecuteTime": {
     "end_time": "2024-08-05T06:46:46.226423Z",
     "start_time": "2024-08-05T06:46:46.215883Z"
    }
   },
   "cell_type": "code",
   "source": [
    "def load_data():\n",
    "    # 读取数据\n",
    "    x = np.load('train_data/train_data_10class.npy')\n",
    "    y = np.load('train_data/label_10class.npy')\n",
    "    num = len(Counter(y))\n",
    "    print(\"类别数量为：\", num)\n",
    "    return x, y, num\n"
   ],
   "id": "351d3fc7e3daec7a",
   "outputs": [],
   "execution_count": 188
  },
  {
   "metadata": {
    "ExecuteTime": {
     "end_time": "2024-08-05T06:46:46.273949Z",
     "start_time": "2024-08-05T06:46:46.261950Z"
    }
   },
   "cell_type": "code",
   "source": [
    "\n",
    "def create_train_data(x, y, ratio=0.8):\n",
    "    \"\"\"\n",
    "    x:数据\n",
    "    y:类别\n",
    "    ratio:生成训练集比率\n",
    "    \"\"\"\n",
    "    # 打乱顺序\n",
    "    # 读取data矩阵的第一维数（图片的个数）\n",
    "    num_example = x.shape[0]\n",
    "    # 产生一个num_example范围，步长为1的序列\n",
    "    arr = np.arange(num_example)\n",
    "    # 调用函数，打乱顺序\n",
    "    np.random.seed(50)\n",
    "    # !!!一定要设置随机种子，否则每次生成的数据集都是不一样的，训练结果会大幅降低\n",
    "    np.random.shuffle(arr)\n",
    "    # 按照打乱的顺序，重新排序\n",
    "    arr_data = x[arr]\n",
    "    arr_label = y[arr]\n",
    "    # 将数据集分为训练集80%、测试集20%\n",
    "    s = int(num_example * ratio)\n",
    "    x_train = arr_data[:s]\n",
    "    y_train = arr_label[:s]\n",
    "    x_val = arr_data[s:]\n",
    "    y_val = arr_label[s:]\n",
    "    print(\"训练集shape\", x_train.shape)\n",
    "    print(\"训练集类别：\", Counter(y_train))\n",
    "    print(\"测试集shape\", x_val.shape)\n",
    "    print(\"测试集类别：\", Counter(y_val))\n",
    "    return x_train, y_train, x_val, y_val\n"
   ],
   "id": "5ccd59021a5e3b72",
   "outputs": [],
   "execution_count": 189
  },
  {
   "metadata": {},
   "cell_type": "markdown",
   "source": "# 读取数据",
   "id": "f45b29349cf04854"
  },
  {
   "metadata": {
    "ExecuteTime": {
     "end_time": "2024-08-05T06:46:46.319923Z",
     "start_time": "2024-08-05T06:46:46.300444Z"
    }
   },
   "cell_type": "code",
   "source": [
    "data, label, label_count = load_data()\n",
    "# 生成训练集测试集,70%用作训练，30%用作测试\n",
    "train_data, train_label, val_data, val_label = create_train_data(data, label, 0.7)\n",
    "# # 从val_data和val_label中拿出最后1个元素作为测试组\n",
    "# test_data = val_data[-1:]\n",
    "# test_label = val_label[-1:]\n",
    "# \n",
    "# # 移除val_data和val_label中的最后1个元素\n",
    "# val_data = val_data[:-1]\n",
    "# val_label = val_label[:-1]\n",
    "print(\"*\" * 10)\n",
    "print(\"训练集数量：\", len(train_label))\n",
    "print(\"测试集数量：\", len(val_label))\n",
    "# print(\"测试组数量：\",len(test_label))"
   ],
   "id": "67f68f2110816791",
   "outputs": [
    {
     "name": "stdout",
     "output_type": "stream",
     "text": [
      "类别数量为： 10\n",
      "训练集shape (3500, 1, 4)\n",
      "训练集类别： Counter({7: 368, 9: 362, 5: 357, 0: 356, 1: 350, 8: 344, 2: 343, 6: 342, 3: 342, 4: 336})\n",
      "测试集shape (1500, 1, 4)\n",
      "测试集类别： Counter({4: 164, 3: 158, 6: 158, 2: 157, 8: 156, 1: 150, 0: 144, 5: 143, 9: 138, 7: 132})\n",
      "**********\n",
      "训练集数量： 3500\n",
      "测试集数量： 1500\n"
     ]
    }
   ],
   "execution_count": 190
  },
  {
   "metadata": {
    "ExecuteTime": {
     "end_time": "2024-08-05T06:46:46.350690Z",
     "start_time": "2024-08-05T06:46:46.337340Z"
    }
   },
   "cell_type": "code",
   "source": "print(train_data[600][0])",
   "id": "1c49ea2c0b2ba025",
   "outputs": [
    {
     "name": "stdout",
     "output_type": "stream",
     "text": [
      "[0.44493455 0.00972973 0.09863941 0.4557373 ]\n"
     ]
    }
   ],
   "execution_count": 191
  },
  {
   "metadata": {},
   "cell_type": "markdown",
   "source": [
    "\n",
    "# 数据集构建"
   ],
   "id": "784de51fe22888a4"
  },
  {
   "metadata": {
    "ExecuteTime": {
     "end_time": "2024-08-05T06:46:46.397746Z",
     "start_time": "2024-08-05T06:46:46.384140Z"
    }
   },
   "cell_type": "code",
   "source": [
    "# 使用机器学习算法需要对多维数据进行降维\n",
    "m_train = train_data.reshape(train_data.shape[0], train_data.shape[1] * train_data.shape[2])\n",
    "m_val = val_data.reshape(val_data.shape[0], val_data.shape[1] * val_data.shape[2])\n",
    "# m_test = test_data.reshape(test_data.shape[0],test_data.shape[1]*test_data.shape[2])\n",
    "# 设置训练迭代次数\n",
    "epoch = 20"
   ],
   "id": "39ab866ee79080d5",
   "outputs": [],
   "execution_count": 192
  },
  {
   "metadata": {},
   "cell_type": "markdown",
   "source": [
    "\n",
    "# 随机森林"
   ],
   "id": "3eb6b42317332698"
  },
  {
   "metadata": {
    "ExecuteTime": {
     "end_time": "2024-08-05T06:46:46.444771Z",
     "start_time": "2024-08-05T06:46:46.426770Z"
    }
   },
   "cell_type": "code",
   "source": [
    "\n",
    "from sklearn.ensemble import RandomForestClassifier\n",
    "from sklearn.metrics import roc_curve, roc_auc_score, classification_report, accuracy_score, log_loss\n",
    "from sklearn.model_selection import GridSearchCV, train_test_split\n",
    "from sklearn import model_selection\n",
    "from sklearn.preprocessing import OneHotEncoder\n",
    "from sklearn.preprocessing import normalize\n"
   ],
   "id": "6bdb4fd72f1a9154",
   "outputs": [],
   "execution_count": 193
  },
  {
   "metadata": {
    "ExecuteTime": {
     "end_time": "2024-08-05T06:46:50.181665Z",
     "start_time": "2024-08-05T06:46:46.494147Z"
    }
   },
   "cell_type": "code",
   "source": [
    "\n",
    "## 模型训练\n",
    "# 模型参数设置\n",
    "rfc = RandomForestClassifier(n_estimators=50, min_samples_split=5, min_samples_leaf=4, max_depth=5)\n",
    "\n",
    "# 模型准确率和损失值\n",
    "acc_list = []\n",
    "# loss_list = []\n",
    "train_acc_list = []\n",
    "print(\"开始训练\")\n",
    "for i in range(1, epoch + 1):\n",
    "    # 模型训练\n",
    "    rfc.fit(m_train, train_label)\n",
    "\n",
    "    # # 训练集\n",
    "    # y_train = rfc.predict(m_train)\n",
    "\n",
    "    # 测试集\n",
    "    y_pred = np.asarray(rfc.predict(m_val), dtype='int64')\n",
    "\n",
    "    # 计算准确率\n",
    "    acc = round(accuracy_score(val_label, y_pred), 3)\n",
    "\n",
    "    # 训练集\n",
    "    y_pred = np.asarray(rfc.predict(m_train), dtype='int64')\n",
    "    # 计算准确率\n",
    "    train_acc = round(accuracy_score(train_label, y_pred), 3)\n",
    " \n",
    "    # print('测试集准确率:', round(accuracy_score(val_label, y_pred),3))\n",
    "    acc_list.append(acc)\n",
    "    train_acc_list.append(train_acc)\n",
    "\n",
    "    # 计算损失值\n",
    "    # 使用one-hot编码计算损失值\n",
    "    # noe_hot = OneHotEncoder(sparse_output=False)\n",
    "    # \n",
    "    # y_pred_o = noe_hot.fit_transform(y_pred.reshape(1, -1))\n",
    "    # val_label_o = noe_hot.fit_transform(train_label.reshape(1, -1))\n",
    "\n",
    "    # loss = round(log_loss(val_label_o,y_pred_o),3)\n",
    "    # print(\"loss：\",loss)\n",
    "    # loss_list.append(loss)\n",
    "    print(\"完成第\", i, \"轮训练，测试集准确率：\", acc)"
   ],
   "id": "81f7470511fd5000",
   "outputs": [
    {
     "name": "stdout",
     "output_type": "stream",
     "text": [
      "开始训练\n",
      "完成第 1 轮训练，测试集准确率： 0.936\n",
      "完成第 2 轮训练，测试集准确率： 0.937\n",
      "完成第 3 轮训练，测试集准确率： 0.934\n",
      "完成第 4 轮训练，测试集准确率： 0.932\n",
      "完成第 5 轮训练，测试集准确率： 0.935\n",
      "完成第 6 轮训练，测试集准确率： 0.932\n",
      "完成第 7 轮训练，测试集准确率： 0.937\n",
      "完成第 8 轮训练，测试集准确率： 0.935\n",
      "完成第 9 轮训练，测试集准确率： 0.935\n",
      "完成第 10 轮训练，测试集准确率： 0.937\n",
      "完成第 11 轮训练，测试集准确率： 0.936\n",
      "完成第 12 轮训练，测试集准确率： 0.937\n",
      "完成第 13 轮训练，测试集准确率： 0.936\n",
      "完成第 14 轮训练，测试集准确率： 0.937\n",
      "完成第 15 轮训练，测试集准确率： 0.933\n",
      "完成第 16 轮训练，测试集准确率： 0.936\n",
      "完成第 17 轮训练，测试集准确率： 0.935\n",
      "完成第 18 轮训练，测试集准确率： 0.938\n",
      "完成第 19 轮训练，测试集准确率： 0.935\n",
      "完成第 20 轮训练，测试集准确率： 0.937\n"
     ]
    }
   ],
   "execution_count": 194
  },
  {
   "metadata": {},
   "cell_type": "markdown",
   "source": "## 测试集得分",
   "id": "9d3121758bd018ac"
  },
  {
   "metadata": {
    "ExecuteTime": {
     "end_time": "2024-08-05T06:46:50.213032Z",
     "start_time": "2024-08-05T06:46:50.183066Z"
    }
   },
   "cell_type": "code",
   "source": [
    "y_pred = np.asarray(rfc.predict(m_val), dtype='int64')\n",
    "print('------------------测试集上得分：------------------------')\n",
    "print('*' * 5)\n",
    "print('测试集准确率得分:', round(accuracy_score(val_label, y_pred), 3))\n",
    "print('*' * 5)\n",
    "print('准确率、召回率、f1-值测试报告如下:\\n', classification_report(val_label, y_pred))\n",
    "\n",
    "result=classification_report(val_label, y_pred,output_dict=True)\n",
    "rfc_info={}\n",
    "rfc_info['accuracy']=result['accuracy']\n",
    "rfc_info['precision']=result['macro avg']['precision']\n",
    "rfc_info['recall']=result['macro avg']['recall']\n",
    "rfc_info['f1-score']=result['macro avg']['f1-score']\n"
   ],
   "id": "c39498ae0ac4e9c5",
   "outputs": [
    {
     "name": "stdout",
     "output_type": "stream",
     "text": [
      "------------------测试集上得分：------------------------\n",
      "*****\n",
      "测试集准确率得分: 0.937\n",
      "*****\n",
      "准确率、召回率、f1-值测试报告如下:\n",
      "               precision    recall  f1-score   support\n",
      "\n",
      "           0       0.95      0.88      0.91       144\n",
      "           1       1.00      1.00      1.00       150\n",
      "           2       0.83      0.82      0.83       157\n",
      "           3       0.98      0.99      0.98       158\n",
      "           4       0.99      0.93      0.96       164\n",
      "           5       1.00      1.00      1.00       143\n",
      "           6       0.75      0.85      0.80       158\n",
      "           7       1.00      1.00      1.00       132\n",
      "           8       0.99      0.92      0.95       156\n",
      "           9       0.93      1.00      0.97       138\n",
      "\n",
      "    accuracy                           0.94      1500\n",
      "   macro avg       0.94      0.94      0.94      1500\n",
      "weighted avg       0.94      0.94      0.94      1500\n",
      "\n"
     ]
    }
   ],
   "execution_count": 195
  },
  {
   "metadata": {},
   "cell_type": "markdown",
   "source": [
    "\n",
    "## 模型迭代准确率"
   ],
   "id": "5d59042758e6041a"
  },
  {
   "metadata": {
    "ExecuteTime": {
     "end_time": "2024-08-05T06:46:50.323621Z",
     "start_time": "2024-08-05T06:46:50.213032Z"
    }
   },
   "cell_type": "code",
   "source": [
    "# 设置Y轴范围\n",
    "plt.ylim(0, 1)\n",
    "# 训练准确率曲线\n",
    "show_data1 = train_acc_list\n",
    "# 测试准确率曲线\n",
    "show_data2 = acc_list\n",
    "x_data = list(range(1, len(show_data1) + 1))\n",
    "ln1, = plt.plot(x_data, show_data1, color='blue', linewidth=2.0, linestyle='--')\n",
    "ln2, = plt.plot(x_data, show_data2, color='red', linewidth=3.0, linestyle='-.')\n",
    "plt.legend(handles=[ln1, ln2], labels=['train_acc', 'val_acc'])\n",
    "plt.show()"
   ],
   "id": "3ae95868569bc621",
   "outputs": [
    {
     "data": {
      "text/plain": [
       "<Figure size 640x480 with 1 Axes>"
      ],
      "image/png": "[encoded data removed]"
     },
     "metadata": {},
     "output_type": "display_data"
    }
   ],
   "execution_count": 196
  },
  {
   "metadata": {},
   "cell_type": "markdown",
   "source": "## 保存模型",
   "id": "f6e24161fa71a7c5"
  },
  {
   "metadata": {
    "ExecuteTime": {
     "end_time": "2024-08-05T06:46:50.355514Z",
     "start_time": "2024-08-05T06:46:50.323621Z"
    }
   },
   "cell_type": "code",
   "source": [
    "\n",
    "# 保存模型\n",
    "dump(rfc, 'models_save/rfc_10class.joblib')\n",
    "# # 加载\n",
    "# rfc = load('models_save/rfc.joblib')\n",
    "# print(rfc)"
   ],
   "id": "25e73f227e3cc88d",
   "outputs": [
    {
     "data": {
      "text/plain": [
       "['models_save/rfc_10class.joblib']"
      ]
     },
     "execution_count": 197,
     "metadata": {},
     "output_type": "execute_result"
    }
   ],
   "execution_count": 197
  },
  {
   "metadata": {},
   "cell_type": "markdown",
   "source": "# SVM",
   "id": "d5136f685133cc7"
  },
  {
   "metadata": {
    "ExecuteTime": {
     "end_time": "2024-08-05T06:46:50.371206Z",
     "start_time": "2024-08-05T06:46:50.356699Z"
    }
   },
   "cell_type": "code",
   "source": "from sklearn import svm  # 引入SVM库",
   "id": "1b22aaf858289121",
   "outputs": [],
   "execution_count": 198
  },
  {
   "metadata": {},
   "cell_type": "markdown",
   "source": "# 读取数据",
   "id": "ab8c616e1520634e"
  },
  {
   "metadata": {
    "ExecuteTime": {
     "end_time": "2024-08-05T06:46:50.386840Z",
     "start_time": "2024-08-05T06:46:50.371206Z"
    }
   },
   "cell_type": "code",
   "source": [
    "data, label, label_count = load_data()\n",
    "# 生成训练集测试集,70%用作训练，30%用作测试\n",
    "train_data, train_label, val_data, val_label = create_train_data(data, label, 0.7)\n",
    "\n",
    "print(\"*\" * 10)\n",
    "print(\"训练集数量：\", len(train_label))\n",
    "print(\"测试集数量：\", len(val_label))\n",
    "# 使用机器学习算法需要对多维数据进行降维\n",
    "m_train = train_data.reshape(train_data.shape[0], train_data.shape[1] * train_data.shape[2])\n",
    "m_val = val_data.reshape(val_data.shape[0], val_data.shape[1] * val_data.shape[2])"
   ],
   "id": "dcedd266d9cbf494",
   "outputs": [
    {
     "name": "stdout",
     "output_type": "stream",
     "text": [
      "类别数量为： 10\n",
      "训练集shape (3500, 1, 4)\n",
      "训练集类别： Counter({7: 368, 9: 362, 5: 357, 0: 356, 1: 350, 8: 344, 2: 343, 6: 342, 3: 342, 4: 336})\n",
      "测试集shape (1500, 1, 4)\n",
      "测试集类别： Counter({4: 164, 3: 158, 6: 158, 2: 157, 8: 156, 1: 150, 0: 144, 5: 143, 9: 138, 7: 132})\n",
      "**********\n",
      "训练集数量： 3500\n",
      "测试集数量： 1500\n"
     ]
    }
   ],
   "execution_count": 199
  },
  {
   "metadata": {
    "ExecuteTime": {
     "end_time": "2024-08-05T06:46:50.545678Z",
     "start_time": "2024-08-05T06:46:50.389071Z"
    }
   },
   "cell_type": "code",
   "source": [
    "\n",
    "# 模型参数设置\n",
    "svm_model = svm.SVC(kernel='poly', gamma='scale', probability=True, coef0=1,degree=3,C=7)  # SVM模型的构建\n",
    "\n",
    "# 模型准确率列表\n",
    "acc_list = []\n",
    "train_acc_list = []\n",
    "print(\"开始训练\")\n",
    "# for i in range(1, epoch + 1):\n",
    "# 模型训练\n",
    "svm_model.fit(m_train, train_label)\n",
    "\n",
    "# 测试集\n",
    "y_pred = np.asarray(svm_model.predict(m_val), dtype='int64')\n",
    "\n",
    "# 计算准确率\n",
    "acc = round(accuracy_score(val_label, y_pred), 3)\n",
    "\n",
    "# 训练集\n",
    "# y_pred_train = np.asarray(svm_model.predict(m_train), dtype='int64')\n",
    "# train_acc = round(accuracy_score(train_label, y_pred_train), 3)\n",
    "\n",
    "acc_list.append(acc)\n",
    "# train_acc_list.append(train_acc)\n",
    "\n",
    "print(\"完成SVM训练，测试集准确率：\", acc)"
   ],
   "id": "f61094848c908169",
   "outputs": [
    {
     "name": "stdout",
     "output_type": "stream",
     "text": [
      "开始训练\n",
      "完成SVM训练，测试集准确率： 0.933\n"
     ]
    }
   ],
   "execution_count": 200
  },
  {
   "metadata": {
    "ExecuteTime": {
     "end_time": "2024-08-05T06:46:50.609621Z",
     "start_time": "2024-08-05T06:46:50.545678Z"
    }
   },
   "cell_type": "code",
   "source": [
    "y_pred_final = np.asarray(svm_model.predict(m_val), dtype='int64')\n",
    "print('------------------测试集上得分：------------------------')\n",
    "print('*' * 5)\n",
    "print('测试集准确率得分:', round(accuracy_score(val_label, y_pred_final), 3))\n",
    "print('*' * 5)\n",
    "print('准确率、召回率、f1-值测试报告如下:\\n', classification_report(val_label, y_pred_final,zero_division=0))\n",
    "\n",
    "result=classification_report(val_label, y_pred,output_dict=True,zero_division=0)\n",
    "svm_info={}\n",
    "svm_info['accuracy']=result['accuracy']\n",
    "svm_info['precision']=result['macro avg']['precision']\n",
    "svm_info['recall']=result['macro avg']['recall']\n",
    "svm_info['f1-score']=result['macro avg']['f1-score']\n"
   ],
   "id": "initial_id",
   "outputs": [
    {
     "name": "stdout",
     "output_type": "stream",
     "text": [
      "------------------测试集上得分：------------------------\n",
      "*****\n",
      "测试集准确率得分: 0.933\n",
      "*****\n",
      "准确率、召回率、f1-值测试报告如下:\n",
      "               precision    recall  f1-score   support\n",
      "\n",
      "           0       0.95      0.83      0.89       144\n",
      "           1       1.00      1.00      1.00       150\n",
      "           2       0.80      0.85      0.82       157\n",
      "           3       0.95      0.99      0.97       158\n",
      "           4       0.99      0.96      0.98       164\n",
      "           5       1.00      1.00      1.00       143\n",
      "           6       0.80      0.84      0.81       158\n",
      "           7       1.00      1.00      1.00       132\n",
      "           8       0.99      0.88      0.93       156\n",
      "           9       0.90      1.00      0.95       138\n",
      "\n",
      "    accuracy                           0.93      1500\n",
      "   macro avg       0.94      0.94      0.94      1500\n",
      "weighted avg       0.94      0.93      0.93      1500\n",
      "\n"
     ]
    }
   ],
   "execution_count": 201
  },
  {
   "metadata": {},
   "cell_type": "markdown",
   "source": "# 保存模型",
   "id": "648b446e749b89df"
  },
  {
   "metadata": {
    "ExecuteTime": {
     "end_time": "2024-08-05T06:46:50.625659Z",
     "start_time": "2024-08-05T06:46:50.609621Z"
    }
   },
   "cell_type": "code",
   "source": [
    "dump(svm_model, 'models_save/svm_10class.joblib')\n",
    "# # 加载\n",
    "# svm = load('models_save/svm.joblib')\n",
    "# print(svm)"
   ],
   "id": "1363a0af7c46929",
   "outputs": [
    {
     "data": {
      "text/plain": [
       "['models_save/svm_10class.joblib']"
      ]
     },
     "execution_count": 202,
     "metadata": {},
     "output_type": "execute_result"
    }
   ],
   "execution_count": 202
  },
  {
   "metadata": {},
   "cell_type": "markdown",
   "source": "# Gaussian Naive Bayes",
   "id": "3197e4c5648d24b"
  },
  {
   "metadata": {
    "ExecuteTime": {
     "end_time": "2024-08-05T06:46:50.641724Z",
     "start_time": "2024-08-05T06:46:50.628599Z"
    }
   },
   "cell_type": "code",
   "source": "from sklearn.naive_bayes import GaussianNB",
   "id": "d40afb610c32752f",
   "outputs": [],
   "execution_count": 203
  },
  {
   "metadata": {},
   "cell_type": "markdown",
   "source": "# 读取数据",
   "id": "d29167c4f1af8ac1"
  },
  {
   "metadata": {
    "ExecuteTime": {
     "end_time": "2024-08-05T06:46:50.657384Z",
     "start_time": "2024-08-05T06:46:50.643240Z"
    }
   },
   "cell_type": "code",
   "source": [
    "data, label, label_count = load_data()\n",
    "# 生成训练集测试集，70%用作训练，30%用作测试\n",
    "train_data, train_label, val_data, val_label = create_train_data(data, label, 0.7)\n",
    "\n",
    "print(\"*\"*10)\n",
    "print(\"训练集数量：\", len(train_label))\n",
    "print(\"测试集数量：\", len(val_label))\n"
   ],
   "id": "7f8a10d5a8cdc979",
   "outputs": [
    {
     "name": "stdout",
     "output_type": "stream",
     "text": [
      "类别数量为： 10\n",
      "训练集shape (3500, 1, 4)\n",
      "训练集类别： Counter({7: 368, 9: 362, 5: 357, 0: 356, 1: 350, 8: 344, 2: 343, 6: 342, 3: 342, 4: 336})\n",
      "测试集shape (1500, 1, 4)\n",
      "测试集类别： Counter({4: 164, 3: 158, 6: 158, 2: 157, 8: 156, 1: 150, 0: 144, 5: 143, 9: 138, 7: 132})\n",
      "**********\n",
      "训练集数量： 3500\n",
      "测试集数量： 1500\n"
     ]
    }
   ],
   "execution_count": 204
  },
  {
   "metadata": {
    "ExecuteTime": {
     "end_time": "2024-08-05T06:46:50.673155Z",
     "start_time": "2024-08-05T06:46:50.657384Z"
    }
   },
   "cell_type": "code",
   "source": [
    "# 模型参数设置\n",
    "gnb_model = GaussianNB()  # Gaussian Naive Bayes 模型的构建\n",
    "\n",
    "# 模型准确率列表\n",
    "acc_list = []\n",
    "train_acc_list = []\n",
    "print(\"开始训练\")\n",
    "\n",
    "# 模型训练\n",
    "gnb_model.fit(m_train, train_label)\n",
    "\n",
    "# 测试集\n",
    "y_pred = np.asarray(gnb_model.predict(m_val), dtype='int64')\n",
    "\n",
    "# 计算准确率\n",
    "acc = round(accuracy_score(val_label, y_pred), 3)\n",
    "\n",
    "# 训练集\n",
    "# y_pred_train = np.asarray(gnb_model.predict(m_train), dtype='int64')\n",
    "# train_acc = round(accuracy_score(train_label, y_pred_train), 3)\n",
    "\n",
    "acc_list.append(acc)\n",
    "# train_acc_list.append(train_acc)\n",
    "\n",
    "print(\"完成训练，测试集准确率：\", acc)"
   ],
   "id": "b913d8d49911e8b9",
   "outputs": [
    {
     "name": "stdout",
     "output_type": "stream",
     "text": [
      "开始训练\n",
      "完成训练，测试集准确率： 0.933\n"
     ]
    }
   ],
   "execution_count": 205
  },
  {
   "metadata": {
    "ExecuteTime": {
     "end_time": "2024-08-05T06:46:50.704854Z",
     "start_time": "2024-08-05T06:46:50.673155Z"
    }
   },
   "cell_type": "code",
   "source": [
    "y_pred_final = np.asarray(gnb_model.predict(m_val), dtype='int64')\n",
    "print('------------------测试集上得分：------------------------')\n",
    "print('*' * 5)\n",
    "print('测试集准确率得分:', round(accuracy_score(val_label, y_pred_final), 3))\n",
    "print('*' * 5)\n",
    "print('准确率、召回率、f1-值测试报告如下:\\n', classification_report(val_label, y_pred_final,zero_division=0))\n",
    "\n",
    "result=classification_report(val_label, y_pred,output_dict=True,zero_division=0)\n",
    "gb_info={}\n",
    "gb_info['accuracy']=result['accuracy']\n",
    "gb_info['precision']=result['macro avg']['precision']\n",
    "gb_info['recall']=result['macro avg']['recall']\n",
    "gb_info['f1-score']=result['macro avg']['f1-score']"
   ],
   "id": "f00aad4fa0b74a60",
   "outputs": [
    {
     "name": "stdout",
     "output_type": "stream",
     "text": [
      "------------------测试集上得分：------------------------\n",
      "*****\n",
      "测试集准确率得分: 0.933\n",
      "*****\n",
      "准确率、召回率、f1-值测试报告如下:\n",
      "               precision    recall  f1-score   support\n",
      "\n",
      "           0       0.90      0.87      0.88       144\n",
      "           1       1.00      1.00      1.00       150\n",
      "           2       0.85      0.79      0.82       157\n",
      "           3       0.98      0.99      0.99       158\n",
      "           4       0.99      0.93      0.96       164\n",
      "           5       1.00      1.00      1.00       143\n",
      "           6       0.74      0.86      0.80       158\n",
      "           7       1.00      1.00      1.00       132\n",
      "           8       0.99      0.91      0.95       156\n",
      "           9       0.93      1.00      0.96       138\n",
      "\n",
      "    accuracy                           0.93      1500\n",
      "   macro avg       0.94      0.93      0.94      1500\n",
      "weighted avg       0.94      0.93      0.93      1500\n",
      "\n"
     ]
    }
   ],
   "execution_count": 206
  },
  {
   "metadata": {},
   "cell_type": "markdown",
   "source": "# 保存模型",
   "id": "927c300879cb8d3b"
  },
  {
   "metadata": {
    "ExecuteTime": {
     "end_time": "2024-08-05T06:46:50.720615Z",
     "start_time": "2024-08-05T06:46:50.705962Z"
    }
   },
   "cell_type": "code",
   "source": "dump(gnb_model, 'models_save/gnb_10class_thisisbad.joblib')",
   "id": "b2bb85e6189ecb1",
   "outputs": [
    {
     "data": {
      "text/plain": [
       "['models_save/gnb_10class_thisisbad.joblib']"
      ]
     },
     "execution_count": 207,
     "metadata": {},
     "output_type": "execute_result"
    }
   ],
   "execution_count": 207
  },
  {
   "metadata": {},
   "cell_type": "markdown",
   "source": "# KNN",
   "id": "981ecac76efa1204"
  },
  {
   "metadata": {
    "ExecuteTime": {
     "end_time": "2024-08-05T06:46:50.736579Z",
     "start_time": "2024-08-05T06:46:50.721801Z"
    }
   },
   "cell_type": "code",
   "source": "from sklearn.neighbors import KNeighborsClassifier  ",
   "id": "f890b82debd6733e",
   "outputs": [],
   "execution_count": 208
  },
  {
   "metadata": {},
   "cell_type": "markdown",
   "source": "# 模型参数设置，选择KNN模型  ",
   "id": "1bf0247cbb4ce972"
  },
  {
   "metadata": {
    "ExecuteTime": {
     "end_time": "2024-08-05T06:46:50.818838Z",
     "start_time": "2024-08-05T06:46:50.736579Z"
    }
   },
   "cell_type": "code",
   "source": [
    "knn_model = KNeighborsClassifier(n_neighbors=5)  # 你可以根据需要调整邻居的数量  \n",
    "\n",
    "# 模型准确率列表  \n",
    "acc_list = []  \n",
    "train_acc_list = []  \n",
    "print(\"开始训练\")  \n",
    "# 模型拟合  \n",
    "knn_model.fit(m_train, train_label)  \n",
    "\n",
    "# 测试集  \n",
    "y_pred = knn_model.predict(m_val)  \n",
    "\n",
    "# 计算准确率  \n",
    "acc = round(accuracy_score(val_label, y_pred), 3)  \n",
    "\n",
    "# 训练集  \n",
    "# y_pred_train = knn_model.predict(m_train)  \n",
    "# train_acc = round(accuracy_score(train_label, y_pred_train), 3)  \n",
    "\n",
    "acc_list.append(acc)  \n",
    "# train_acc_list.append(train_acc)  \n",
    "\n",
    "print(\"完成训练，测试集准确率：\", acc)  \n",
    "print('------------------测试集上得分：------------------------')  \n",
    "print('*' * 5)  \n",
    "print('测试集准确率得分:', acc)  \n",
    "print('*' * 5)  \n",
    "print('准确率、召回率、f1-值测试报告如下:\\n', classification_report(val_label, y_pred,output_dict=False))  \n",
    "\n",
    "\n",
    "result=classification_report(val_label, y_pred,output_dict=True)\n",
    "knn_info={}\n",
    "knn_info['accuracy']=result['accuracy']\n",
    "knn_info['precision']=result['macro avg']['precision']\n",
    "knn_info['recall']=result['macro avg']['recall']\n",
    "knn_info['f1-score']=result['macro avg']['f1-score']\n"
   ],
   "id": "713569595d4d9032",
   "outputs": [
    {
     "name": "stdout",
     "output_type": "stream",
     "text": [
      "开始训练\n",
      "完成训练，测试集准确率： 0.944\n",
      "------------------测试集上得分：------------------------\n",
      "*****\n",
      "测试集准确率得分: 0.944\n",
      "*****\n",
      "准确率、召回率、f1-值测试报告如下:\n",
      "               precision    recall  f1-score   support\n",
      "\n",
      "           0       0.93      0.85      0.89       144\n",
      "           1       1.00      1.00      1.00       150\n",
      "           2       0.84      0.86      0.85       157\n",
      "           3       0.95      1.00      0.98       158\n",
      "           4       0.98      0.98      0.98       164\n",
      "           5       1.00      1.00      1.00       143\n",
      "           6       0.85      0.87      0.86       158\n",
      "           7       1.00      1.00      1.00       132\n",
      "           8       0.99      0.90      0.94       156\n",
      "           9       0.92      0.99      0.95       138\n",
      "\n",
      "    accuracy                           0.94      1500\n",
      "   macro avg       0.95      0.95      0.95      1500\n",
      "weighted avg       0.94      0.94      0.94      1500\n",
      "\n"
     ]
    }
   ],
   "execution_count": 209
  },
  {
   "metadata": {
    "ExecuteTime": {
     "end_time": "2024-08-05T06:46:50.832641Z",
     "start_time": "2024-08-05T06:46:50.818838Z"
    }
   },
   "cell_type": "code",
   "source": [
    "# 保存模型\n",
    "dump(knn_model, 'models_save/knn_10class.joblib')"
   ],
   "id": "e8dc3f52b5a527c7",
   "outputs": [
    {
     "data": {
      "text/plain": [
       "['models_save/knn_10class.joblib']"
      ]
     },
     "execution_count": 210,
     "metadata": {},
     "output_type": "execute_result"
    }
   ],
   "execution_count": 210
  },
  {
   "metadata": {
    "ExecuteTime": {
     "end_time": "2024-08-05T06:46:50.852222Z",
     "start_time": "2024-08-05T06:46:50.832641Z"
    }
   },
   "cell_type": "code",
   "source": "",
   "id": "c7e743398f46503f",
   "outputs": [],
   "execution_count": 210
  },
  {
   "metadata": {
    "ExecuteTime": {
     "end_time": "2024-08-05T06:48:21.360013Z",
     "start_time": "2024-08-05T06:48:21.346407Z"
    }
   },
   "cell_type": "code",
   "source": [
    "# Ensure you have the right device  \n",
    "device = torch.device(\"cuda\" if torch.cuda.is_available() else \"cpu\")\n",
    "print(\"Using device:\", device)\n",
    "\n",
    "# Reading data (implementation needed)  \n",
    "data, label, label_count = load_data()\n",
    "train_data, train_label, val_data, val_label = create_train_data(data, label, 0.7)\n",
    "\n",
    "print(\"*\" * 10)\n",
    "print(\"训练集数量：\", len(train_label))\n",
    "print(\"测试集数量：\", len(val_label))\n",
    "\n"
   ],
   "id": "2a06960f602059fc",
   "outputs": [
    {
     "name": "stdout",
     "output_type": "stream",
     "text": [
      "Using device: cuda\n",
      "类别数量为： 10\n",
      "训练集shape (3500, 1, 4)\n",
      "训练集类别： Counter({7: 368, 9: 362, 5: 357, 0: 356, 1: 350, 8: 344, 2: 343, 6: 342, 3: 342, 4: 336})\n",
      "测试集shape (1500, 1, 4)\n",
      "测试集类别： Counter({4: 164, 3: 158, 6: 158, 2: 157, 8: 156, 1: 150, 0: 144, 5: 143, 9: 138, 7: 132})\n",
      "**********\n",
      "训练集数量： 3500\n",
      "测试集数量： 1500\n"
     ]
    }
   ],
   "execution_count": 224
  },
  {
   "metadata": {
    "ExecuteTime": {
     "end_time": "2024-08-05T06:48:22.724650Z",
     "start_time": "2024-08-05T06:48:22.710140Z"
    }
   },
   "cell_type": "code",
   "source": [
    "# Create datasets and dataloaders  \n",
    "train_dataset = TensorDataset(torch.tensor(train_data, dtype=torch.float32),\n",
    "                              torch.tensor(train_label, dtype=torch.long))\n",
    "val_dataset = TensorDataset(torch.tensor(val_data, dtype=torch.float32), torch.tensor(val_label, dtype=torch.long))\n",
    "\n",
    "train_loader = DataLoader(train_dataset, batch_size=16, shuffle=True)\n",
    "val_loader = DataLoader(val_dataset, batch_size=16, shuffle=False)\n"
   ],
   "id": "692c5d161e3fa73",
   "outputs": [],
   "execution_count": 225
  },
  {
   "metadata": {
    "ExecuteTime": {
     "end_time": "2024-08-05T06:48:24.259231Z",
     "start_time": "2024-08-05T06:48:24.231232Z"
    }
   },
   "cell_type": "code",
   "source": [
    "class CNNModel(nn.Module):  \n",
    "    def __init__(self):  \n",
    "        super(CNNModel, self).__init__()  \n",
    "        self.conv1 = nn.Conv1d(in_channels=4, out_channels=64, kernel_size=1)  # 调整kernel size到1  \n",
    "        self.pool = nn.MaxPool1d(kernel_size=1)  # 池化层 kernel size  \n",
    "        self.global_avg_pool = nn.AdaptiveAvgPool1d(1)  # 全局平均池化  \n",
    "        self.conv2 = nn.BatchNorm1d(64,momentum=0.1)  # BatchNorm\n",
    "        # self.conv3 = nn.Conv1d(in_channels=64, out_channels=128, kernel_size=1)  # 添加第二个卷积层\n",
    "        self.fc1 = nn.Linear(64, 32)  # 输入是64（卷积层输出通道）  \n",
    "        self.dropout = nn.Dropout(0.2)  \n",
    "        self.fc2 = nn.Linear(32, 10)  # 输出为10类  \n",
    "\n",
    "    def forward(self, x):  \n",
    "        x = self.conv1(x)  # 卷积层  \n",
    "        x = torch.relu(x)  # 激活函数ReLU  \n",
    "        x = self.conv2(x)  # BatchNorm  \n",
    "        x = self.pool(x)  # 池化层  \n",
    "        x = self.global_avg_pool(x)  # 全局平均池化  \n",
    "        # x = self.conv3(x)  # 第二个卷积层\n",
    "\n",
    "        x = x.view(x.size(0), -1)  # 展平  \n",
    "        x = self.fc1(x)  # 全连接层  \n",
    "        x = torch.relu(x)  # 激活函数ReLU  \n",
    "        x = self.dropout(x)  # Dropout 层  \n",
    "        x = self.fc2(x)  # 输出层  \n",
    "        return x  \n",
    "        # Instantiate the model  \n",
    "\n",
    "model = CNNModel().to(device)\n",
    "print(\"实例化模型成功\")\n",
    "print(\"模型参数如下：\")\n",
    "print(model)\n",
    "\n",
    "# Loss and optimizer  \n",
    "criterion = nn.CrossEntropyLoss()  \n",
    "optimizer = optim.Adam(model.parameters(), lr=0.001)  \n",
    "scheduler = optim.lr_scheduler.StepLR(optimizer, step_size=3, gamma=0.7)  # 学习率调度器  \n"
   ],
   "id": "b68b86cec3fc215",
   "outputs": [
    {
     "name": "stdout",
     "output_type": "stream",
     "text": [
      "实例化模型成功\n",
      "模型参数如下：\n",
      "CNNModel(\n",
      "  (conv1): Conv1d(4, 64, kernel_size=(1,), stride=(1,))\n",
      "  (pool): MaxPool1d(kernel_size=1, stride=1, padding=0, dilation=1, ceil_mode=False)\n",
      "  (global_avg_pool): AdaptiveAvgPool1d(output_size=1)\n",
      "  (conv2): BatchNorm1d(64, eps=1e-05, momentum=0.1, affine=True, track_running_stats=True)\n",
      "  (fc1): Linear(in_features=64, out_features=32, bias=True)\n",
      "  (dropout): Dropout(p=0.2, inplace=False)\n",
      "  (fc2): Linear(in_features=32, out_features=10, bias=True)\n",
      ")\n"
     ]
    }
   ],
   "execution_count": 226
  },
  {
   "metadata": {
    "ExecuteTime": {
     "end_time": "2024-08-05T06:48:47.082824Z",
     "start_time": "2024-08-05T06:48:26.481519Z"
    }
   },
   "cell_type": "code",
   "source": [
    "# Training loop  \n",
    "epochs = 20\n",
    "t1 = time.time()\n",
    "for epoch in range(epochs):\n",
    "    model.train()\n",
    "    running_loss = 0.0\n",
    "    for inputs, labels in train_loader:\n",
    "        inputs, labels = inputs.to(device), labels.to(device)\n",
    "\n",
    "        optimizer.zero_grad()\n",
    "        outputs = model(inputs.permute(0, 2, 1))  # Adjust dimensions for Conv1D  \n",
    "        loss = criterion(outputs, labels)\n",
    "        loss.backward()\n",
    "        optimizer.step()\n",
    "\n",
    "        running_loss += loss.item()\n",
    "\n",
    "    print(f'Epoch [{epoch + 1}/{epochs}], Loss: {running_loss / len(train_loader):.4f}')\n",
    "t2 = time.time()\n",
    "train_time = t2 - t1\n",
    "print(f'Training time: {t2 - t1:.2f} seconds')"
   ],
   "id": "e1ce2e9f682b661b",
   "outputs": [
    {
     "name": "stdout",
     "output_type": "stream",
     "text": [
      "Epoch [1/20], Loss: 1.3231\n",
      "Epoch [2/20], Loss: 0.8423\n",
      "Epoch [3/20], Loss: 0.7757\n",
      "Epoch [4/20], Loss: 0.7348\n",
      "Epoch [5/20], Loss: 0.6777\n",
      "Epoch [6/20], Loss: 0.6364\n",
      "Epoch [7/20], Loss: 0.6201\n",
      "Epoch [8/20], Loss: 0.6161\n",
      "Epoch [9/20], Loss: 0.5979\n",
      "Epoch [10/20], Loss: 0.5641\n",
      "Epoch [11/20], Loss: 0.5440\n",
      "Epoch [12/20], Loss: 0.5412\n",
      "Epoch [13/20], Loss: 0.5393\n",
      "Epoch [14/20], Loss: 0.5282\n",
      "Epoch [15/20], Loss: 0.5415\n",
      "Epoch [16/20], Loss: 0.4956\n",
      "Epoch [17/20], Loss: 0.4845\n",
      "Epoch [18/20], Loss: 0.5278\n",
      "Epoch [19/20], Loss: 0.4919\n",
      "Epoch [20/20], Loss: 0.4663\n",
      "Training time: 20.58 seconds\n"
     ]
    }
   ],
   "execution_count": 227
  },
  {
   "metadata": {
    "ExecuteTime": {
     "end_time": "2024-08-05T06:48:48.380007Z",
     "start_time": "2024-08-05T06:48:48.198544Z"
    }
   },
   "cell_type": "code",
   "source": [
    "# Evaluation  \n",
    "model.eval()\n",
    "with torch.no_grad():\n",
    "    val_outputs = []\n",
    "    val_labels = []\n",
    "    for inputs, labels in val_loader:\n",
    "        inputs, labels = inputs.to(device), labels.to(device)\n",
    "        outputs = model(inputs.permute(0, 2, 1))\n",
    "        val_outputs.append(outputs.cpu().numpy())\n",
    "        val_labels.append(labels.cpu().numpy())\n",
    "\n",
    "    # Convert outputs and labels to numpy arrays  \n",
    "val_outputs = np.vstack(val_outputs)\n",
    "print(val_outputs.shape)\n",
    "print(val_outputs[:10])\n",
    "val_labels = np.concatenate(val_labels)\n",
    "print(val_labels[:10])\n",
    "y_pred = np.argmax(val_outputs, axis=1)\n",
    "\n",
    "print('------------------测试集上得分：------------------------')\n",
    "print('*' * 5)\n",
    "print('测试集准确率得分:', round(accuracy_score(val_labels, y_pred), 3))\n",
    "print('*' * 5)\n",
    "print('准确率、召回率、f1-值测试报告如下:\\n', classification_report(val_labels, y_pred))  \n",
    "\n",
    "result=classification_report(val_labels, y_pred,output_dict=True)\n",
    "cnn_info={}\n",
    "cnn_info['accuracy']=result['accuracy']\n",
    "cnn_info['precision']=result['macro avg']['precision']\n",
    "cnn_info['recall']=result['macro avg']['recall']\n",
    "cnn_info['f1-score']=result['macro avg']['f1-score']\n",
    "cnn_info['train_time']=train_time"
   ],
   "id": "4101cef9c2ba28ca",
   "outputs": [
    {
     "name": "stdout",
     "output_type": "stream",
     "text": [
      "(1500, 10)\n",
      "[[ -4.6587653   15.897395   -16.730381    -9.253126   -27.641708\n",
      "    9.6622095  -15.453374     1.7005006  -20.141832   -21.212606  ]\n",
      " [  0.5342009   -8.208339     2.876205    -9.375555    -0.10855584\n",
      "  -10.517792     3.1644351  -16.601707    -1.6670258   -9.3110285 ]\n",
      " [  1.8523656   -6.7625265  -10.081546     3.7387104  -24.99237\n",
      "   -1.1959296   -6.767247     1.720746    -3.9169178   -2.1489112 ]\n",
      " [  0.6145663   -8.082349     2.7662737   -8.57884     -0.76655954\n",
      "  -10.029726     2.9092176  -15.53626     -1.6219134   -8.714903  ]\n",
      " [ -3.1380622  -15.133117    -0.19125548 -14.883413     6.2988534\n",
      "  -12.116408     3.120458   -21.693848     1.237942    -9.341362  ]\n",
      " [ -3.4324534   -6.387507   -17.086132    -0.5815713  -25.115704\n",
      "    2.5856278  -14.057573     6.3067894   -6.3472958   -2.7125213 ]\n",
      " [ -9.402312   -27.996672    -6.936188   -18.508753     7.6207333\n",
      "  -10.273297    -2.943951   -21.747622     3.9436975   -6.2770605 ]\n",
      " [ -5.962305   -20.104406   -15.531279    -1.059997   -14.149917\n",
      "   -1.0933148  -12.049705     2.6473305    1.6156368    4.816796  ]\n",
      " [-14.079995   -11.185527   -22.423676   -13.588846   -13.595456\n",
      "    9.269098   -20.64752      0.8417666  -10.332705    -7.178888  ]\n",
      " [ -9.267903   -25.544682   -13.301292    -6.4758806   -5.816992\n",
      "   -2.0035465  -11.111897    -2.7197027    3.7975607    3.808947  ]]\n",
      "[1 2 3 6 4 7 4 9 5 8]\n",
      "------------------测试集上得分：------------------------\n",
      "*****\n",
      "测试集准确率得分: 0.85\n",
      "*****\n",
      "准确率、召回率、f1-值测试报告如下:\n",
      "               precision    recall  f1-score   support\n",
      "\n",
      "           0       0.91      0.62      0.74       144\n",
      "           1       1.00      1.00      1.00       150\n",
      "           2       0.77      0.85      0.81       157\n",
      "           3       0.76      0.64      0.69       158\n",
      "           4       0.99      0.94      0.96       164\n",
      "           5       0.98      0.97      0.98       143\n",
      "           6       0.78      0.82      0.80       158\n",
      "           7       0.66      0.98      0.79       132\n",
      "           8       0.99      0.74      0.85       156\n",
      "           9       0.78      0.97      0.86       138\n",
      "\n",
      "    accuracy                           0.85      1500\n",
      "   macro avg       0.86      0.85      0.85      1500\n",
      "weighted avg       0.87      0.85      0.85      1500\n",
      "\n"
     ]
    }
   ],
   "execution_count": 228
  },
  {
   "metadata": {
    "ExecuteTime": {
     "end_time": "2024-08-05T06:47:10.930954Z",
     "start_time": "2024-08-05T06:47:10.917444Z"
    }
   },
   "cell_type": "code",
   "source": [
    "# Reading data (implementation needed)  \n",
    "data, label, label_count = load_data()\n",
    "train_data, train_label, val_data, val_label = create_train_data(data, label, 0.7)\n",
    "\n",
    "print(\"*\" * 10)\n",
    "print(\"训练集数量：\", len(train_label))\n",
    "print(\"测试集数量：\", len(val_label))"
   ],
   "id": "bc9c929dbd8b70fc",
   "outputs": [
    {
     "name": "stdout",
     "output_type": "stream",
     "text": [
      "类别数量为： 10\n",
      "训练集shape (3500, 1, 4)\n",
      "训练集类别： Counter({7: 368, 9: 362, 5: 357, 0: 356, 1: 350, 8: 344, 2: 343, 6: 342, 3: 342, 4: 336})\n",
      "测试集shape (1500, 1, 4)\n",
      "测试集类别： Counter({4: 164, 3: 158, 6: 158, 2: 157, 8: 156, 1: 150, 0: 144, 5: 143, 9: 138, 7: 132})\n",
      "**********\n",
      "训练集数量： 3500\n",
      "测试集数量： 1500\n"
     ]
    }
   ],
   "execution_count": 216
  },
  {
   "metadata": {
    "ExecuteTime": {
     "end_time": "2024-08-05T06:47:40.102492Z",
     "start_time": "2024-08-05T06:47:10.932954Z"
    }
   },
   "cell_type": "code",
   "source": [
    "import torch.nn.functional as F\n",
    "\n",
    "\n",
    "class ResidualBlock(nn.Module):\n",
    "    def __init__(self, filters, conv_size):\n",
    "        super(ResidualBlock, self).__init__()\n",
    "        self.conv1 = nn.Conv1d(filters, filters, conv_size, padding='same')\n",
    "        self.bn1 = nn.BatchNorm1d(filters)\n",
    "        self.conv2 = nn.Conv1d(filters, filters, conv_size, padding='same')\n",
    "        self.bn2 = nn.BatchNorm1d(filters)\n",
    "\n",
    "    def forward(self, x):\n",
    "        identity = x\n",
    "        out = self.conv1(x)\n",
    "        out = F.relu(self.bn1(out))\n",
    "        out = self.conv2(out)\n",
    "        out = self.bn2(out)\n",
    "        out += identity\n",
    "        out = F.relu(out)\n",
    "        return out\n",
    "\n",
    "\n",
    "class CNN_ResNet_model(nn.Module):\n",
    "    def __init__(self, label_num, num_b, data_shape=(1, 4)):\n",
    "        super(CNN_ResNet_model, self).__init__()\n",
    "        self.num_blocks = num_b\n",
    "        self.filters = 64\n",
    "        self.conv_size = 1\n",
    "        self.label_num = label_num\n",
    "\n",
    "        # Initial Conv Layers  \n",
    "        self.conv1 = nn.Conv1d(data_shape[1], 32, 1)\n",
    "        self.conv2 = nn.Conv1d(32, 64, 1)\n",
    "\n",
    "        # Pooling Layer  \n",
    "        self.pool = nn.MaxPool1d(1)\n",
    "\n",
    "        # ResNet Blocks  \n",
    "        self.res_blocks = nn.ModuleList([ResidualBlock(self.filters, self.conv_size) for _ in range(self.num_blocks)])\n",
    "\n",
    "        # Additional Conv Layer after ResNet Blocks  \n",
    "        self.conv3 = nn.Conv1d(64, 64, 1)\n",
    "\n",
    "        # Global Average Pooling  \n",
    "        self.global_avg_pool = nn.AdaptiveAvgPool1d(1)\n",
    "\n",
    "        # Fully connected layers  \n",
    "        self.fc1 = nn.Linear(64, 256)\n",
    "        self.dropout = nn.Dropout(0.5)\n",
    "        self.fc2 = nn.Linear(256, label_num)\n",
    "\n",
    "    def forward(self, x):\n",
    "        x = F.relu(self.conv1(x))\n",
    "        x = F.relu(self.conv2(x))\n",
    "        x = self.pool(x)\n",
    "\n",
    "        for block in self.res_blocks:\n",
    "            x = block(x)\n",
    "\n",
    "        x = F.relu(self.conv3(x))\n",
    "        x = self.global_avg_pool(x)\n",
    "        x = x.view(x.size(0), -1)  # Flatten the tensor for the fully connected layer  \n",
    "        x = F.relu(self.fc1(x))\n",
    "        x = self.dropout(x)\n",
    "        x = self.fc2(x)\n",
    "        x = F.log_softmax(x, dim=1)\n",
    "\n",
    "        return x\n",
    "    # 模型参数\n",
    "\n",
    "\n",
    "model_param = {\n",
    "    \"a_shape\": 1,\n",
    "    \"b_shape\": 4,\n",
    "    \"label_count\": 10,\n",
    "    \"num_b\": 5\n",
    "}\n",
    "\n",
    "data_shape = (model_param['a_shape'], model_param['b_shape'])\n",
    "# 模型实例化\n",
    "model = CNN_ResNet_model(model_param['label_count'], model_param['num_b'], data_shape=data_shape)\n",
    "# 使用学习率进行训练\n",
    "# 模型网络结构\n",
    "print(\"实例化模型成功，网络结构如下：\")\n",
    "print(model)\n",
    "\n",
    "# 损失函数和优化器\n",
    "from torch.utils.data import DataLoader, Dataset\n",
    "\n",
    "\n",
    "# train_data 和 val_data 需要转换为 PyTorch 能够读取的 Dataset 类，并调整数据的形状  \n",
    "\n",
    "def preprocess_data(data, target_shape):\n",
    "    data = np.array(data)\n",
    "    # target_shape=(sequence_length, channels)  \n",
    "    data = data.reshape(data.shape[0], target_shape[1], target_shape[0])  # 更改数据形状  \n",
    "    return data\n",
    "\n",
    "\n",
    "train_data_processed = preprocess_data(train_data, (model_param['a_shape'], model_param['b_shape']))\n",
    "val_data_processed = preprocess_data(val_data, (model_param['a_shape'], model_param['b_shape']))\n",
    "\n",
    "\n",
    "class CustomDataset(Dataset):\n",
    "    def __init__(self, data, labels):\n",
    "        self.data = torch.tensor(data, dtype=torch.float32)  # Convert to tensor  \n",
    "        self.labels = torch.tensor(labels, dtype=torch.long)  # Convert to tensor  \n",
    "\n",
    "    def __len__(self):\n",
    "        return len(self.data)\n",
    "\n",
    "    def __getitem__(self, idx):\n",
    "        return self.data[idx], self.labels[idx]\n",
    "\n",
    "\n",
    "train_dataset = CustomDataset(train_data_processed, train_label)\n",
    "train_loader = DataLoader(train_dataset, batch_size=32, shuffle=True)\n",
    "\n",
    "val_dataset = CustomDataset(val_data_processed, val_label)\n",
    "val_loader = DataLoader(val_dataset, batch_size=32, shuffle=False)\n",
    "\n",
    "data_shape = (model_param['a_shape'], model_param['b_shape'])  # (sequence_length, channels)  \n",
    "model = CNN_ResNet_model(model_param['label_count'], model_param['num_b'], data_shape=data_shape)\n",
    "\n",
    "# 定义损失函数和优化器  \n",
    "criterion = nn.CrossEntropyLoss()\n",
    "optimizer = optim.Adam(model.parameters(), lr=1e-4)\n",
    "\n",
    "# 设置日志输出地址  \n",
    "log_dir = os.path.join(\"logs\", \"ResNet\")\n",
    "if not os.path.exists(log_dir):\n",
    "    os.makedirs(log_dir)\n",
    "# 训练模型\n",
    "\n",
    "num_epochs = 20\n",
    "train_accuracies = []\n",
    "val_accuracies = []\n",
    "\n",
    "t1 = time.time()\n",
    "model.train()\n",
    "\n",
    "for epoch in range(num_epochs):\n",
    "    running_loss = 0.0\n",
    "    correct_predictions = 0\n",
    "    model.train()\n",
    "\n",
    "    for inputs, labels in train_loader:\n",
    "        optimizer.zero_grad()\n",
    "        outputs = model(inputs)\n",
    "        loss = criterion(outputs, labels)\n",
    "        loss.backward()\n",
    "        optimizer.step()\n",
    "\n",
    "        running_loss += loss.item() * inputs.size(0)\n",
    "        _, preds = torch.max(outputs, 1)\n",
    "        correct_predictions += torch.sum(preds == labels.data)\n",
    "\n",
    "    epoch_loss = running_loss / len(train_loader.dataset)\n",
    "    epoch_acc = correct_predictions.double() / len(train_loader.dataset)\n",
    "    train_accuracies.append(epoch_acc.item())  # 记录训练准确率  \n",
    "\n",
    "    print(f\"Epoch [{epoch + 1}/{num_epochs}], Loss: {epoch_loss:.4f}, Train Accuracy: {epoch_acc:.4f}\")\n",
    "\n",
    "    # 评估模型在验证集上的表现  \n",
    "    model.eval()\n",
    "    correct_predictions = 0\n",
    "\n",
    "    with torch.no_grad():\n",
    "        for inputs, labels in val_loader:\n",
    "            outputs = model(inputs)\n",
    "            _, preds = torch.max(outputs, 1)\n",
    "            correct_predictions += torch.sum(preds == labels.data)\n",
    "\n",
    "    epoch_val_acc = correct_predictions.double() / len(val_loader.dataset)\n",
    "    val_accuracies.append(epoch_val_acc.item())  # 记录验证准确率  \n",
    "\n",
    "    print(f\"Epoch [{epoch + 1}/{num_epochs}], Validation Accuracy: {epoch_val_acc:.4f}\")\n",
    "\n",
    "print(\"Training completed.\")\n",
    "t2 = time.time()\n",
    "train_time = t2 - t1\n",
    "# 评估模型  \n",
    "model.eval()\n",
    "all_labels = []\n",
    "all_predictions = []\n",
    "\n",
    "with torch.no_grad():\n",
    "    for inputs, labels in val_loader:\n",
    "        outputs = model(inputs)\n",
    "        _, preds = torch.max(outputs, 1)\n",
    "        all_labels.extend(labels.cpu().numpy())\n",
    "        all_predictions.extend(preds.cpu().numpy())\n",
    "\n",
    "    # 计算各项指标  \n",
    "print(\"*****完成预处理，进行模型评估*****\")\n",
    "print('------------------测试集上得分：------------------------')\n",
    "\n",
    "y_pred = all_predictions\n",
    "val_labels = val_label  # Assuming val_label is already available  \n",
    "\n",
    "print('*' * 5)\n",
    "print('测试集准确率得分:', round(accuracy_score(val_labels, y_pred), 3))\n",
    "print('*' * 5)\n",
    "print('准确率、召回率、f1-值测试报告如下:\\n', classification_report(val_labels, y_pred))  "
   ],
   "id": "8b9987f713ed63c8",
   "outputs": [
    {
     "name": "stdout",
     "output_type": "stream",
     "text": [
      "实例化模型成功，网络结构如下：\n",
      "CNN_ResNet_model(\n",
      "  (conv1): Conv1d(4, 32, kernel_size=(1,), stride=(1,))\n",
      "  (conv2): Conv1d(32, 64, kernel_size=(1,), stride=(1,))\n",
      "  (pool): MaxPool1d(kernel_size=1, stride=1, padding=0, dilation=1, ceil_mode=False)\n",
      "  (res_blocks): ModuleList(\n",
      "    (0): ResidualBlock(\n",
      "      (conv1): Conv1d(64, 64, kernel_size=(1,), stride=(1,), padding=same)\n",
      "      (bn1): BatchNorm1d(64, eps=1e-05, momentum=0.1, affine=True, track_running_stats=True)\n",
      "      (conv2): Conv1d(64, 64, kernel_size=(1,), stride=(1,), padding=same)\n",
      "      (bn2): BatchNorm1d(64, eps=1e-05, momentum=0.1, affine=True, track_running_stats=True)\n",
      "    )\n",
      "    (1): ResidualBlock(\n",
      "      (conv1): Conv1d(64, 64, kernel_size=(1,), stride=(1,), padding=same)\n",
      "      (bn1): BatchNorm1d(64, eps=1e-05, momentum=0.1, affine=True, track_running_stats=True)\n",
      "      (conv2): Conv1d(64, 64, kernel_size=(1,), stride=(1,), padding=same)\n",
      "      (bn2): BatchNorm1d(64, eps=1e-05, momentum=0.1, affine=True, track_running_stats=True)\n",
      "    )\n",
      "    (2): ResidualBlock(\n",
      "      (conv1): Conv1d(64, 64, kernel_size=(1,), stride=(1,), padding=same)\n",
      "      (bn1): BatchNorm1d(64, eps=1e-05, momentum=0.1, affine=True, track_running_stats=True)\n",
      "      (conv2): Conv1d(64, 64, kernel_size=(1,), stride=(1,), padding=same)\n",
      "      (bn2): BatchNorm1d(64, eps=1e-05, momentum=0.1, affine=True, track_running_stats=True)\n",
      "    )\n",
      "    (3): ResidualBlock(\n",
      "      (conv1): Conv1d(64, 64, kernel_size=(1,), stride=(1,), padding=same)\n",
      "      (bn1): BatchNorm1d(64, eps=1e-05, momentum=0.1, affine=True, track_running_stats=True)\n",
      "      (conv2): Conv1d(64, 64, kernel_size=(1,), stride=(1,), padding=same)\n",
      "      (bn2): BatchNorm1d(64, eps=1e-05, momentum=0.1, affine=True, track_running_stats=True)\n",
      "    )\n",
      "    (4): ResidualBlock(\n",
      "      (conv1): Conv1d(64, 64, kernel_size=(1,), stride=(1,), padding=same)\n",
      "      (bn1): BatchNorm1d(64, eps=1e-05, momentum=0.1, affine=True, track_running_stats=True)\n",
      "      (conv2): Conv1d(64, 64, kernel_size=(1,), stride=(1,), padding=same)\n",
      "      (bn2): BatchNorm1d(64, eps=1e-05, momentum=0.1, affine=True, track_running_stats=True)\n",
      "    )\n",
      "  )\n",
      "  (conv3): Conv1d(64, 64, kernel_size=(1,), stride=(1,))\n",
      "  (global_avg_pool): AdaptiveAvgPool1d(output_size=1)\n",
      "  (fc1): Linear(in_features=64, out_features=256, bias=True)\n",
      "  (dropout): Dropout(p=0.5, inplace=False)\n",
      "  (fc2): Linear(in_features=256, out_features=10, bias=True)\n",
      ")\n",
      "Epoch [1/20], Loss: 1.9236, Train Accuracy: 0.3923\n",
      "Epoch [1/20], Validation Accuracy: 0.7867\n",
      "Epoch [2/20], Loss: 1.1183, Train Accuracy: 0.7240\n",
      "Epoch [2/20], Validation Accuracy: 0.7893\n",
      "Epoch [3/20], Loss: 0.6361, Train Accuracy: 0.8226\n",
      "Epoch [3/20], Validation Accuracy: 0.7380\n",
      "Epoch [4/20], Loss: 0.5738, Train Accuracy: 0.8226\n",
      "Epoch [4/20], Validation Accuracy: 0.7327\n",
      "Epoch [5/20], Loss: 0.4736, Train Accuracy: 0.8423\n",
      "Epoch [5/20], Validation Accuracy: 0.6520\n",
      "Epoch [6/20], Loss: 0.4476, Train Accuracy: 0.8503\n",
      "Epoch [6/20], Validation Accuracy: 0.8520\n",
      "Epoch [7/20], Loss: 0.4020, Train Accuracy: 0.8680\n",
      "Epoch [7/20], Validation Accuracy: 0.6920\n",
      "Epoch [8/20], Loss: 0.4369, Train Accuracy: 0.8557\n",
      "Epoch [8/20], Validation Accuracy: 0.6493\n",
      "Epoch [9/20], Loss: 0.4017, Train Accuracy: 0.8586\n",
      "Epoch [9/20], Validation Accuracy: 0.6647\n",
      "Epoch [10/20], Loss: 0.3818, Train Accuracy: 0.8689\n",
      "Epoch [10/20], Validation Accuracy: 0.8207\n",
      "Epoch [11/20], Loss: 0.3333, Train Accuracy: 0.8851\n",
      "Epoch [11/20], Validation Accuracy: 0.8433\n",
      "Epoch [12/20], Loss: 0.3379, Train Accuracy: 0.8783\n",
      "Epoch [12/20], Validation Accuracy: 0.6607\n",
      "Epoch [13/20], Loss: 0.3376, Train Accuracy: 0.8860\n",
      "Epoch [13/20], Validation Accuracy: 0.8493\n",
      "Epoch [14/20], Loss: 0.3316, Train Accuracy: 0.8837\n",
      "Epoch [14/20], Validation Accuracy: 0.8500\n",
      "Epoch [15/20], Loss: 0.3260, Train Accuracy: 0.8894\n",
      "Epoch [15/20], Validation Accuracy: 0.7373\n",
      "Epoch [16/20], Loss: 0.3175, Train Accuracy: 0.8849\n",
      "Epoch [16/20], Validation Accuracy: 0.8920\n",
      "Epoch [17/20], Loss: 0.3054, Train Accuracy: 0.8911\n",
      "Epoch [17/20], Validation Accuracy: 0.8593\n",
      "Epoch [18/20], Loss: 0.3003, Train Accuracy: 0.8914\n",
      "Epoch [18/20], Validation Accuracy: 0.8313\n",
      "Epoch [19/20], Loss: 0.2949, Train Accuracy: 0.8937\n",
      "Epoch [19/20], Validation Accuracy: 0.8180\n",
      "Epoch [20/20], Loss: 0.2895, Train Accuracy: 0.8951\n",
      "Epoch [20/20], Validation Accuracy: 0.8973\n",
      "Training completed.\n",
      "*****完成预处理，进行模型评估*****\n",
      "------------------测试集上得分：------------------------\n",
      "*****\n",
      "测试集准确率得分: 0.897\n",
      "*****\n",
      "准确率、召回率、f1-值测试报告如下:\n",
      "               precision    recall  f1-score   support\n",
      "\n",
      "           0       0.83      0.84      0.84       144\n",
      "           1       1.00      1.00      1.00       150\n",
      "           2       0.92      0.70      0.80       157\n",
      "           3       0.97      0.91      0.94       158\n",
      "           4       0.80      1.00      0.89       164\n",
      "           5       1.00      0.99      0.99       143\n",
      "           6       0.68      0.75      0.72       158\n",
      "           7       0.97      1.00      0.99       132\n",
      "           8       1.00      0.82      0.90       156\n",
      "           9       0.88      0.99      0.94       138\n",
      "\n",
      "    accuracy                           0.90      1500\n",
      "   macro avg       0.91      0.90      0.90      1500\n",
      "weighted avg       0.91      0.90      0.90      1500\n",
      "\n"
     ]
    }
   ],
   "execution_count": 217
  },
  {
   "metadata": {
    "ExecuteTime": {
     "end_time": "2024-08-05T06:47:40.118303Z",
     "start_time": "2024-08-05T06:47:40.102492Z"
    }
   },
   "cell_type": "code",
   "source": [
    "result=classification_report(val_labels, y_pred,output_dict=True)\n",
    "CNN_resnet_info={}\n",
    "CNN_resnet_info['accuracy']=result['accuracy']\n",
    "CNN_resnet_info['precision']=result['macro avg']['precision']\n",
    "CNN_resnet_info['recall']=result['macro avg']['recall']\n",
    "CNN_resnet_info['f1-score']=result['macro avg']['f1-score']\n",
    "CNN_resnet_info['train_time']=train_time"
   ],
   "id": "cfca499d256bf855",
   "outputs": [],
   "execution_count": 218
  },
  {
   "metadata": {
    "ExecuteTime": {
     "end_time": "2024-08-05T06:48:53.853488Z",
     "start_time": "2024-08-05T06:48:53.641895Z"
    }
   },
   "cell_type": "code",
   "source": [
    "results = {'KNN':knn_info,'GaussianNB':gb_info,'SVM':svm_info,'RandomForest':rfc_info,'CNN':cnn_info,'CNN_ResNet':CNN_resnet_info}\n",
    "\n",
    "model_names = list(results.keys())  \n",
    "accuracy = [results[model]['accuracy'] for model in model_names]  \n",
    "precision = [results[model]['precision'] for model in model_names]  \n",
    "recall = [results[model]['recall'] for model in model_names]  \n",
    "f1_score = [results[model]['f1-score'] for model in model_names]  \n",
    "# train_time=[results[model]['train_time'] for model in model_names]\n",
    "# 设置 X 轴位置  \n",
    "x = np.arange(len(model_names))  \n",
    "\n",
    "# 设置宽度  \n",
    "width = 0.2  \n",
    "\n",
    "# 创建图形和轴  \n",
    "plt.figure(figsize=(10, 6))  \n",
    "\n",
    "# 绘制折线图  \n",
    "plt.plot(model_names, accuracy, marker='o', label='Accuracy', linestyle='dotted', color='blue')  \n",
    "plt.plot(model_names, precision, marker='o', label='Precision', linestyle=':', color='orange')  \n",
    "plt.plot(model_names, recall, marker='o', label='Recall', linestyle='-.', color='green')  \n",
    "plt.plot(model_names, f1_score, marker='o', label='F1 Score', linestyle='-', color='red')  \n",
    "# plt.plot(model_names, train_time, marker='o', label='Train Time', linestyle='--', color='purple')\n",
    "\n",
    "# 添加标题和标签  \n",
    "plt.title('Model Performance Comparison')  \n",
    "plt.xlabel('Models')  \n",
    "plt.ylabel('Scores')  \n",
    "plt.ylim(0.40, 1)  \n",
    "\n",
    "# 图例  \n",
    "plt.legend()  \n",
    "\n",
    "# 显示数值标签  \n",
    "for i, (acc, prec, rec, f1) in enumerate(zip(accuracy, precision, recall, f1_score)):  \n",
    "    plt.text(i, acc + 0.02, f'{acc:.2f}', ha='center')  \n",
    "    plt.text(i, prec + 0.02, f'{prec:.2f}', ha='center')  \n",
    "    plt.text(i, rec + 0.02, f'{rec:.2f}', ha='center')  \n",
    "    plt.text(i, f1 + 0.02, f'{f1:.2f}', ha='center')  \n",
    "    # plt.text(i, train_time[i] + 0.02, f'{train_time[i]:.2f}', ha='center')\n",
    "\n",
    "\n",
    "# 显示图形  \n",
    " \n",
    "plt.grid()  \n",
    "plt.show()  "
   ],
   "id": "3d1eafc4ac6a9995",
   "outputs": [
    {
     "data": {
      "text/plain": [
       "<Figure size 1000x600 with 1 Axes>"
      ],
      "image/png": "[encoded data removed]"
     },
     "metadata": {},
     "output_type": "display_data"
    }
   ],
   "execution_count": 229
  }
 ],
 "metadata": {
  "kernelspec": {
   "display_name": "Python 3",
   "language": "python",
   "name": "python3"
  },
  "language_info": {
   "codemirror_mode": {
    "name": "ipython",
    "version": 2
   },
   "file_extension": ".py",
   "mimetype": "text/x-python",
   "name": "python",
   "nbconvert_exporter": "python",
   "pygments_lexer": "ipython2",
   "version": "2.7.6"
  }
 },
 "nbformat": 4,
 "nbformat_minor": 5
}
