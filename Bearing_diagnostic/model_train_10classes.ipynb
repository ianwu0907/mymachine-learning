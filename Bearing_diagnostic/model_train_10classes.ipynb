{
 "cells": [
  {
   "cell_type": "code",
   "id": "6ae1e7f921fd05e4",
   "metadata": {
    "collapsed": true,
    "ExecuteTime": {
     "end_time": "2024-08-01T10:42:16.499608Z",
     "start_time": "2024-08-01T10:42:05.305101Z"
    }
   },
   "source": [
    "import os\n",
    "import matplotlib.pyplot as plt\n",
    "from collections import Counter\n",
    "import numpy as np\n",
    "import tensorflow as tf\n",
    "from joblib import dump, load"
   ],
   "outputs": [],
   "execution_count": 1
  },
  {
   "metadata": {},
   "cell_type": "markdown",
   "source": [
    "\n",
    "# 读取数据，构造训练集和测试集"
   ],
   "id": "ce667370f0f22f56"
  },
  {
   "metadata": {
    "ExecuteTime": {
     "end_time": "2024-08-01T08:38:32.524099Z",
     "start_time": "2024-08-01T08:38:32.508698Z"
    }
   },
   "cell_type": "code",
   "source": [
    "def load_data():\n",
    "    # 读取数据\n",
    "    x = np.load('train_data/train_data_10class.npy')\n",
    "    y = np.load('train_data/label_10class.npy')\n",
    "    num = len(Counter(y))\n",
    "    print(\"类别数量为：\", num)\n",
    "    return x, y, num\n"
   ],
   "id": "351d3fc7e3daec7a",
   "outputs": [],
   "execution_count": 2
  },
  {
   "metadata": {
    "ExecuteTime": {
     "end_time": "2024-08-01T08:38:32.539615Z",
     "start_time": "2024-08-01T08:38:32.525105Z"
    }
   },
   "cell_type": "code",
   "source": [
    "\n",
    "def create_train_data(x, y, ratio=0.8):\n",
    "    \"\"\"\n",
    "    x:数据\n",
    "    y:类别\n",
    "    ratio:生成训练集比率\n",
    "    \"\"\"\n",
    "    # 打乱顺序\n",
    "    # 读取data矩阵的第一维数（图片的个数）\n",
    "    num_example = x.shape[0]\n",
    "    # 产生一个num_example范围，步长为1的序列\n",
    "    arr = np.arange(num_example)\n",
    "    # 调用函数，打乱顺序\n",
    "    np.random.seed(50)\n",
    "    # !!!一定要设置随机种子，否则每次生成的数据集都是不一样的，训练结果会大幅降低\n",
    "    np.random.shuffle(arr)\n",
    "    # 按照打乱的顺序，重新排序\n",
    "    arr_data = x[arr]\n",
    "    arr_label = y[arr]\n",
    "    # 将数据集分为训练集80%、测试集20%\n",
    "    s = int(num_example * ratio)\n",
    "    x_train = arr_data[:s]\n",
    "    y_train = arr_label[:s]\n",
    "    x_val = arr_data[s:]\n",
    "    y_val = arr_label[s:]\n",
    "    print(\"训练集shape\", x_train.shape)\n",
    "    print(\"训练集类别：\", Counter(y_train))\n",
    "    print(\"测试集shape\", x_val.shape)\n",
    "    print(\"测试集类别：\", Counter(y_val))\n",
    "    return x_train, y_train, x_val, y_val\n"
   ],
   "id": "5ccd59021a5e3b72",
   "outputs": [],
   "execution_count": 3
  },
  {
   "metadata": {},
   "cell_type": "markdown",
   "source": "# 读取数据",
   "id": "f45b29349cf04854"
  },
  {
   "metadata": {
    "ExecuteTime": {
     "end_time": "2024-07-30T17:01:42.110260Z",
     "start_time": "2024-07-30T17:01:42.086634Z"
    }
   },
   "cell_type": "code",
   "source": [
    "data, label, label_count = load_data()\n",
    "# 生成训练集测试集,70%用作训练，30%用作测试\n",
    "train_data, train_label, val_data, val_label = create_train_data(data, label, 0.7)\n",
    "# # 从val_data和val_label中拿出最后1个元素作为测试组\n",
    "# test_data = val_data[-1:]\n",
    "# test_label = val_label[-1:]\n",
    "# \n",
    "# # 移除val_data和val_label中的最后1个元素\n",
    "# val_data = val_data[:-1]\n",
    "# val_label = val_label[:-1]\n",
    "print(\"*\" * 10)\n",
    "print(\"训练集数量：\", len(train_label))\n",
    "print(\"测试集数量：\", len(val_label))\n",
    "# print(\"测试组数量：\",len(test_label))"
   ],
   "id": "67f68f2110816791",
   "outputs": [
    {
     "name": "stdout",
     "output_type": "stream",
     "text": [
      "类别数量为： 10\n",
      "训练集shape (3500, 1, 4)\n",
      "训练集类别： Counter({7: 368, 9: 362, 5: 357, 0: 356, 1: 350, 8: 344, 2: 343, 6: 342, 3: 342, 4: 336})\n",
      "测试集shape (1500, 1, 4)\n",
      "测试集类别： Counter({4: 164, 3: 158, 6: 158, 2: 157, 8: 156, 1: 150, 0: 144, 5: 143, 9: 138, 7: 132})\n",
      "**********\n",
      "训练集数量： 3500\n",
      "测试集数量： 1500\n"
     ]
    }
   ],
   "execution_count": 215
  },
  {
   "metadata": {
    "ExecuteTime": {
     "end_time": "2024-07-30T17:01:42.142466Z",
     "start_time": "2024-07-30T17:01:42.123406Z"
    }
   },
   "cell_type": "code",
   "source": "print(train_data[600][0])",
   "id": "1c49ea2c0b2ba025",
   "outputs": [
    {
     "name": "stdout",
     "output_type": "stream",
     "text": [
      "[0.44493455 0.00972973 0.09863941 0.4557373 ]\n"
     ]
    }
   ],
   "execution_count": 216
  },
  {
   "metadata": {},
   "cell_type": "markdown",
   "source": [
    "\n",
    "# 数据集构建"
   ],
   "id": "784de51fe22888a4"
  },
  {
   "metadata": {
    "ExecuteTime": {
     "end_time": "2024-08-01T08:57:31.949020Z",
     "start_time": "2024-08-01T08:57:31.917708Z"
    }
   },
   "cell_type": "code",
   "source": [
    "# 使用机器学习算法需要对多维数据进行降维\n",
    "m_train = train_data.reshape(train_data.shape[0], train_data.shape[1] * train_data.shape[2])\n",
    "m_val = val_data.reshape(val_data.shape[0], val_data.shape[1] * val_data.shape[2])\n",
    "# m_test = test_data.reshape(test_data.shape[0],test_data.shape[1]*test_data.shape[2])\n",
    "# 设置训练迭代次数\n",
    "epoch = 20"
   ],
   "id": "39ab866ee79080d5",
   "outputs": [
    {
     "ename": "NameError",
     "evalue": "name 'train_data' is not defined",
     "output_type": "error",
     "traceback": [
      "\u001B[1;31m---------------------------------------------------------------------------\u001B[0m",
      "\u001B[1;31mNameError\u001B[0m                                 Traceback (most recent call last)",
      "Cell \u001B[1;32mIn [6], line 2\u001B[0m\n\u001B[0;32m      1\u001B[0m \u001B[38;5;66;03m# 使用机器学习算法需要对多维数据进行降维\u001B[39;00m\n\u001B[1;32m----> 2\u001B[0m m_train \u001B[38;5;241m=\u001B[39m \u001B[43mtrain_data\u001B[49m\u001B[38;5;241m.\u001B[39mreshape(train_data\u001B[38;5;241m.\u001B[39mshape[\u001B[38;5;241m0\u001B[39m], train_data\u001B[38;5;241m.\u001B[39mshape[\u001B[38;5;241m1\u001B[39m] \u001B[38;5;241m*\u001B[39m train_data\u001B[38;5;241m.\u001B[39mshape[\u001B[38;5;241m2\u001B[39m])\n\u001B[0;32m      3\u001B[0m m_val \u001B[38;5;241m=\u001B[39m val_data\u001B[38;5;241m.\u001B[39mreshape(val_data\u001B[38;5;241m.\u001B[39mshape[\u001B[38;5;241m0\u001B[39m], val_data\u001B[38;5;241m.\u001B[39mshape[\u001B[38;5;241m1\u001B[39m] \u001B[38;5;241m*\u001B[39m val_data\u001B[38;5;241m.\u001B[39mshape[\u001B[38;5;241m2\u001B[39m])\n\u001B[0;32m      4\u001B[0m \u001B[38;5;66;03m# m_test = test_data.reshape(test_data.shape[0],test_data.shape[1]*test_data.shape[2])\u001B[39;00m\n\u001B[0;32m      5\u001B[0m \u001B[38;5;66;03m# 设置训练迭代次数\u001B[39;00m\n",
      "\u001B[1;31mNameError\u001B[0m: name 'train_data' is not defined"
     ]
    }
   ],
   "execution_count": 6
  },
  {
   "metadata": {},
   "cell_type": "markdown",
   "source": [
    "\n",
    "# 随机森林"
   ],
   "id": "3eb6b42317332698"
  },
  {
   "metadata": {
    "ExecuteTime": {
     "end_time": "2024-08-01T08:55:10.472782Z",
     "start_time": "2024-08-01T08:55:09.473178Z"
    }
   },
   "cell_type": "code",
   "source": [
    "\n",
    "from sklearn.ensemble import RandomForestClassifier\n",
    "from sklearn.metrics import roc_curve, roc_auc_score, classification_report, accuracy_score, log_loss\n",
    "from sklearn.model_selection import GridSearchCV, train_test_split\n",
    "from sklearn import model_selection\n",
    "from sklearn.preprocessing import OneHotEncoder\n",
    "from sklearn.preprocessing import normalize\n"
   ],
   "id": "6bdb4fd72f1a9154",
   "outputs": [],
   "execution_count": 4
  },
  {
   "metadata": {
    "ExecuteTime": {
     "end_time": "2024-08-01T08:57:25.360224Z",
     "start_time": "2024-08-01T08:57:25.111281Z"
    }
   },
   "cell_type": "code",
   "source": [
    "\n",
    "## 模型训练\n",
    "# 模型参数设置\n",
    "rfc = RandomForestClassifier(n_estimators=50, min_samples_split=5, min_samples_leaf=4, max_depth=5)\n",
    "\n",
    "# 模型准确率和损失值\n",
    "acc_list = []\n",
    "# loss_list = []\n",
    "train_acc_list = []\n",
    "print(\"开始训练\")\n",
    "for i in range(1, epoch + 1):\n",
    "    # 模型训练\n",
    "    rfc.fit(m_train, train_label)\n",
    "\n",
    "    # # 训练集\n",
    "    # y_train = rfc.predict(m_train)\n",
    "\n",
    "    # 测试集\n",
    "    y_pred = np.asarray(rfc.predict(m_val), dtype='int64')\n",
    "\n",
    "    # 计算准确率\n",
    "    acc = round(accuracy_score(val_label, y_pred), 3)\n",
    "\n",
    "    # 训练集\n",
    "    y_pred = np.asarray(rfc.predict(m_train), dtype='int64')\n",
    "    # 计算准确率\n",
    "    train_acc = round(accuracy_score(train_label, y_pred), 3)\n",
    " \n",
    "    # print('测试集准确率:', round(accuracy_score(val_label, y_pred),3))\n",
    "    acc_list.append(acc)\n",
    "    train_acc_list.append(train_acc)\n",
    "\n",
    "    # 计算损失值\n",
    "    # 使用one-hot编码计算损失值\n",
    "    # noe_hot = OneHotEncoder(sparse_output=False)\n",
    "    # \n",
    "    # y_pred_o = noe_hot.fit_transform(y_pred.reshape(1, -1))\n",
    "    # val_label_o = noe_hot.fit_transform(train_label.reshape(1, -1))\n",
    "\n",
    "    # loss = round(log_loss(val_label_o,y_pred_o),3)\n",
    "    # print(\"loss：\",loss)\n",
    "    # loss_list.append(loss)\n",
    "    print(\"完成第\", i, \"轮训练，测试集准确率：\", acc)"
   ],
   "id": "81f7470511fd5000",
   "outputs": [
    {
     "name": "stdout",
     "output_type": "stream",
     "text": [
      "开始训练\n"
     ]
    },
    {
     "ename": "NameError",
     "evalue": "name 'epoch' is not defined",
     "output_type": "error",
     "traceback": [
      "\u001B[1;31m---------------------------------------------------------------------------\u001B[0m",
      "\u001B[1;31mNameError\u001B[0m                                 Traceback (most recent call last)",
      "Cell \u001B[1;32mIn [5], line 14\u001B[0m\n\u001B[0;32m      9\u001B[0m train_acc_list \u001B[38;5;241m=\u001B[39m []\n\u001B[0;32m     13\u001B[0m \u001B[38;5;28mprint\u001B[39m(\u001B[38;5;124m\"\u001B[39m\u001B[38;5;124m开始训练\u001B[39m\u001B[38;5;124m\"\u001B[39m)\n\u001B[1;32m---> 14\u001B[0m \u001B[38;5;28;01mfor\u001B[39;00m i \u001B[38;5;129;01min\u001B[39;00m \u001B[38;5;28mrange\u001B[39m(\u001B[38;5;241m1\u001B[39m, \u001B[43mepoch\u001B[49m \u001B[38;5;241m+\u001B[39m \u001B[38;5;241m1\u001B[39m):\n\u001B[0;32m     15\u001B[0m     \u001B[38;5;66;03m# 模型训练\u001B[39;00m\n\u001B[0;32m     16\u001B[0m     \u001B[38;5;66;03m# rfc.fit(m_train, train_label)\u001B[39;00m\n\u001B[0;32m     17\u001B[0m     dc\u001B[38;5;241m.\u001B[39mfit(m_train, train_label)\n\u001B[0;32m     18\u001B[0m     \u001B[38;5;66;03m# # 训练集\u001B[39;00m\n\u001B[0;32m     19\u001B[0m     \u001B[38;5;66;03m# y_train = rfc.predict(m_train)\u001B[39;00m\n\u001B[0;32m     20\u001B[0m \n\u001B[0;32m     21\u001B[0m     \u001B[38;5;66;03m# 测试集\u001B[39;00m\n\u001B[0;32m     22\u001B[0m     \u001B[38;5;66;03m# y_pred = np.asarray(rfc.predict(m_val), dtype='int64')\u001B[39;00m\n",
      "\u001B[1;31mNameError\u001B[0m: name 'epoch' is not defined"
     ]
    }
   ],
   "execution_count": 5
  },
  {
   "metadata": {},
   "cell_type": "markdown",
   "source": "## 测试集得分",
   "id": "9d3121758bd018ac"
  },
  {
   "metadata": {
    "ExecuteTime": {
     "end_time": "2024-07-30T17:01:47.089715Z",
     "start_time": "2024-07-30T17:01:47.045700Z"
    }
   },
   "cell_type": "code",
   "source": [
    "y_pred = np.asarray(rfc.predict(m_val), dtype='int64')\n",
    "print('------------------测试集上得分：------------------------')\n",
    "print('*' * 5)\n",
    "print('测试集准确率得分:', round(accuracy_score(val_label, y_pred), 3))\n",
    "print('*' * 5)\n",
    "print('准确率、召回率、f1-值测试报告如下:\\n', classification_report(val_label, y_pred))\n",
    "\n",
    "result=classification_report(val_label, y_pred,output_dict=True)\n",
    "rfc_info={}\n",
    "rfc_info['accuracy']=result['accuracy']\n",
    "rfc_info['precision']=result['macro avg']['precision']\n",
    "rfc_info['recall']=result['macro avg']['recall']\n",
    "rfc_info['f1-score']=result['macro avg']['f1-score']\n"
   ],
   "id": "c39498ae0ac4e9c5",
   "outputs": [
    {
     "name": "stdout",
     "output_type": "stream",
     "text": [
      "------------------测试集上得分：------------------------\n",
      "*****\n",
      "测试集准确率得分: 0.937\n",
      "*****\n",
      "准确率、召回率、f1-值测试报告如下:\n",
      "               precision    recall  f1-score   support\n",
      "\n",
      "           0       0.95      0.88      0.91       144\n",
      "           1       1.00      1.00      1.00       150\n",
      "           2       0.83      0.82      0.83       157\n",
      "           3       0.98      0.99      0.98       158\n",
      "           4       0.99      0.93      0.96       164\n",
      "           5       1.00      1.00      1.00       143\n",
      "           6       0.75      0.85      0.80       158\n",
      "           7       1.00      1.00      1.00       132\n",
      "           8       0.99      0.92      0.95       156\n",
      "           9       0.93      1.00      0.97       138\n",
      "\n",
      "    accuracy                           0.94      1500\n",
      "   macro avg       0.94      0.94      0.94      1500\n",
      "weighted avg       0.94      0.94      0.94      1500\n",
      "\n"
     ]
    }
   ],
   "execution_count": 220
  },
  {
   "metadata": {},
   "cell_type": "markdown",
   "source": [
    "\n",
    "## 模型迭代准确率"
   ],
   "id": "5d59042758e6041a"
  },
  {
   "metadata": {
    "ExecuteTime": {
     "end_time": "2024-07-30T17:01:47.228645Z",
     "start_time": "2024-07-30T17:01:47.092244Z"
    }
   },
   "cell_type": "code",
   "source": [
    "# 设置Y轴范围\n",
    "plt.ylim(0, 1)\n",
    "# 训练准确率曲线\n",
    "show_data1 = train_acc_list\n",
    "# 测试准确率曲线\n",
    "show_data2 = acc_list\n",
    "x_data = list(range(1, len(show_data1) + 1))\n",
    "ln1, = plt.plot(x_data, show_data1, color='blue', linewidth=2.0, linestyle='--')\n",
    "ln2, = plt.plot(x_data, show_data2, color='red', linewidth=3.0, linestyle='-.')\n",
    "plt.legend(handles=[ln1, ln2], labels=['train_acc', 'val_acc'])\n",
    "plt.show()"
   ],
   "id": "3ae95868569bc621",
   "outputs": [
    {
     "data": {
      "text/plain": [
       "<Figure size 640x480 with 1 Axes>"
      ],
      "image/png": "[encoded data removed]"
     },
     "metadata": {},
     "output_type": "display_data"
    }
   ],
   "execution_count": 221
  },
  {
   "metadata": {},
   "cell_type": "markdown",
   "source": "## 保存模型",
   "id": "f6e24161fa71a7c5"
  },
  {
   "metadata": {
    "ExecuteTime": {
     "end_time": "2024-07-30T17:01:47.275027Z",
     "start_time": "2024-07-30T17:01:47.233040Z"
    }
   },
   "cell_type": "code",
   "source": [
    "\n",
    "# 保存模型\n",
    "dump(rfc, 'models_save/rfc_10class.joblib')\n",
    "# # 加载\n",
    "# rfc = load('models_save/rfc.joblib')\n",
    "# print(rfc)"
   ],
   "id": "25e73f227e3cc88d",
   "outputs": [
    {
     "data": {
      "text/plain": [
       "['models_save/rfc_10class.joblib']"
      ]
     },
     "execution_count": 222,
     "metadata": {},
     "output_type": "execute_result"
    }
   ],
   "execution_count": 222
  },
  {
   "metadata": {},
   "cell_type": "markdown",
   "source": "# SVM",
   "id": "d5136f685133cc7"
  },
  {
   "metadata": {
    "ExecuteTime": {
     "end_time": "2024-07-30T17:01:47.290744Z",
     "start_time": "2024-07-30T17:01:47.276511Z"
    }
   },
   "cell_type": "code",
   "source": "from sklearn import svm  # 引入SVM库",
   "id": "1b22aaf858289121",
   "outputs": [],
   "execution_count": 223
  },
  {
   "metadata": {},
   "cell_type": "markdown",
   "source": "# 读取数据",
   "id": "ab8c616e1520634e"
  },
  {
   "metadata": {
    "ExecuteTime": {
     "end_time": "2024-07-30T17:01:47.306354Z",
     "start_time": "2024-07-30T17:01:47.291868Z"
    }
   },
   "cell_type": "code",
   "source": [
    "data, label, label_count = load_data()\n",
    "# 生成训练集测试集,70%用作训练，30%用作测试\n",
    "train_data, train_label, val_data, val_label = create_train_data(data, label, 0.7)\n",
    "\n",
    "print(\"*\" * 10)\n",
    "print(\"训练集数量：\", len(train_label))\n",
    "print(\"测试集数量：\", len(val_label))\n",
    "# 使用机器学习算法需要对多维数据进行降维\n",
    "m_train = train_data.reshape(train_data.shape[0], train_data.shape[1] * train_data.shape[2])\n",
    "m_val = val_data.reshape(val_data.shape[0], val_data.shape[1] * val_data.shape[2])"
   ],
   "id": "dcedd266d9cbf494",
   "outputs": [
    {
     "name": "stdout",
     "output_type": "stream",
     "text": [
      "类别数量为： 10\n",
      "训练集shape (3500, 1, 4)\n",
      "训练集类别： Counter({7: 368, 9: 362, 5: 357, 0: 356, 1: 350, 8: 344, 2: 343, 6: 342, 3: 342, 4: 336})\n",
      "测试集shape (1500, 1, 4)\n",
      "测试集类别： Counter({4: 164, 3: 158, 6: 158, 2: 157, 8: 156, 1: 150, 0: 144, 5: 143, 9: 138, 7: 132})\n",
      "**********\n",
      "训练集数量： 3500\n",
      "测试集数量： 1500\n"
     ]
    }
   ],
   "execution_count": 224
  },
  {
   "metadata": {
    "ExecuteTime": {
     "end_time": "2024-07-30T17:01:47.570105Z",
     "start_time": "2024-07-30T17:01:47.308943Z"
    }
   },
   "cell_type": "code",
   "source": [
    "\n",
    "# 模型参数设置\n",
    "svm_model = svm.SVC(kernel='poly', gamma='scale', probability=True, coef0=1,degree=3,C=7)  # SVM模型的构建\n",
    "\n",
    "# 模型准确率列表\n",
    "acc_list = []\n",
    "train_acc_list = []\n",
    "print(\"开始训练\")\n",
    "# for i in range(1, epoch + 1):\n",
    "# 模型训练\n",
    "svm_model.fit(m_train, train_label)\n",
    "\n",
    "# 测试集\n",
    "y_pred = np.asarray(svm_model.predict(m_val), dtype='int64')\n",
    "\n",
    "# 计算准确率\n",
    "acc = round(accuracy_score(val_label, y_pred), 3)\n",
    "\n",
    "# 训练集\n",
    "# y_pred_train = np.asarray(svm_model.predict(m_train), dtype='int64')\n",
    "# train_acc = round(accuracy_score(train_label, y_pred_train), 3)\n",
    "\n",
    "acc_list.append(acc)\n",
    "# train_acc_list.append(train_acc)\n",
    "\n",
    "print(\"完成SVM训练，测试集准确率：\", acc)"
   ],
   "id": "f61094848c908169",
   "outputs": [
    {
     "name": "stdout",
     "output_type": "stream",
     "text": [
      "开始训练\n",
      "完成SVM训练，测试集准确率： 0.933\n"
     ]
    }
   ],
   "execution_count": 225
  },
  {
   "metadata": {
    "ExecuteTime": {
     "end_time": "2024-07-30T17:01:47.616629Z",
     "start_time": "2024-07-30T17:01:47.571885Z"
    }
   },
   "cell_type": "code",
   "source": [
    "y_pred_final = np.asarray(svm_model.predict(m_val), dtype='int64')\n",
    "print('------------------测试集上得分：------------------------')\n",
    "print('*' * 5)\n",
    "print('测试集准确率得分:', round(accuracy_score(val_label, y_pred_final), 3))\n",
    "print('*' * 5)\n",
    "print('准确率、召回率、f1-值测试报告如下:\\n', classification_report(val_label, y_pred_final,zero_division=0))\n",
    "\n",
    "result=classification_report(val_label, y_pred,output_dict=True,zero_division=0)\n",
    "svm_info={}\n",
    "svm_info['accuracy']=result['accuracy']\n",
    "svm_info['precision']=result['macro avg']['precision']\n",
    "svm_info['recall']=result['macro avg']['recall']\n",
    "svm_info['f1-score']=result['macro avg']['f1-score']\n"
   ],
   "id": "initial_id",
   "outputs": [
    {
     "name": "stdout",
     "output_type": "stream",
     "text": [
      "------------------测试集上得分：------------------------\n",
      "*****\n",
      "测试集准确率得分: 0.933\n",
      "*****\n",
      "准确率、召回率、f1-值测试报告如下:\n",
      "               precision    recall  f1-score   support\n",
      "\n",
      "           0       0.95      0.83      0.89       144\n",
      "           1       1.00      1.00      1.00       150\n",
      "           2       0.80      0.85      0.82       157\n",
      "           3       0.95      0.99      0.97       158\n",
      "           4       0.99      0.96      0.98       164\n",
      "           5       1.00      1.00      1.00       143\n",
      "           6       0.80      0.84      0.81       158\n",
      "           7       1.00      1.00      1.00       132\n",
      "           8       0.99      0.88      0.93       156\n",
      "           9       0.90      1.00      0.95       138\n",
      "\n",
      "    accuracy                           0.93      1500\n",
      "   macro avg       0.94      0.94      0.94      1500\n",
      "weighted avg       0.94      0.93      0.93      1500\n",
      "\n"
     ]
    }
   ],
   "execution_count": 226
  },
  {
   "metadata": {},
   "cell_type": "markdown",
   "source": "# 保存模型",
   "id": "648b446e749b89df"
  },
  {
   "metadata": {
    "ExecuteTime": {
     "end_time": "2024-07-30T17:01:47.631777Z",
     "start_time": "2024-07-30T17:01:47.618604Z"
    }
   },
   "cell_type": "code",
   "source": [
    "dump(svm_model, 'models_save/svm_10class.joblib')\n",
    "# # 加载\n",
    "# svm = load('models_save/svm.joblib')\n",
    "# print(svm)"
   ],
   "id": "1363a0af7c46929",
   "outputs": [
    {
     "data": {
      "text/plain": [
       "['models_save/svm_10class.joblib']"
      ]
     },
     "execution_count": 227,
     "metadata": {},
     "output_type": "execute_result"
    }
   ],
   "execution_count": 227
  },
  {
   "metadata": {},
   "cell_type": "markdown",
   "source": "# Gaussian Naive Bayes",
   "id": "3197e4c5648d24b"
  },
  {
   "metadata": {
    "ExecuteTime": {
     "end_time": "2024-07-30T17:01:47.646934Z",
     "start_time": "2024-07-30T17:01:47.634900Z"
    }
   },
   "cell_type": "code",
   "source": "from sklearn.naive_bayes import GaussianNB",
   "id": "d40afb610c32752f",
   "outputs": [],
   "execution_count": 228
  },
  {
   "metadata": {},
   "cell_type": "markdown",
   "source": "# 读取数据",
   "id": "d29167c4f1af8ac1"
  },
  {
   "metadata": {
    "ExecuteTime": {
     "end_time": "2024-07-30T17:01:47.662073Z",
     "start_time": "2024-07-30T17:01:47.649283Z"
    }
   },
   "cell_type": "code",
   "source": [
    "data, label, label_count = load_data()\n",
    "# 生成训练集测试集，70%用作训练，30%用作测试\n",
    "train_data, train_label, val_data, val_label = create_train_data(data, label, 0.7)\n",
    "\n",
    "print(\"*\"*10)\n",
    "print(\"训练集数量：\", len(train_label))\n",
    "print(\"测试集数量：\", len(val_label))\n"
   ],
   "id": "7f8a10d5a8cdc979",
   "outputs": [
    {
     "name": "stdout",
     "output_type": "stream",
     "text": [
      "类别数量为： 10\n",
      "训练集shape (3500, 1, 4)\n",
      "训练集类别： Counter({7: 368, 9: 362, 5: 357, 0: 356, 1: 350, 8: 344, 2: 343, 6: 342, 3: 342, 4: 336})\n",
      "测试集shape (1500, 1, 4)\n",
      "测试集类别： Counter({4: 164, 3: 158, 6: 158, 2: 157, 8: 156, 1: 150, 0: 144, 5: 143, 9: 138, 7: 132})\n",
      "**********\n",
      "训练集数量： 3500\n",
      "测试集数量： 1500\n"
     ]
    }
   ],
   "execution_count": 229
  },
  {
   "metadata": {
    "ExecuteTime": {
     "end_time": "2024-07-30T17:01:47.677106Z",
     "start_time": "2024-07-30T17:01:47.663080Z"
    }
   },
   "cell_type": "code",
   "source": [
    "# 模型参数设置\n",
    "gnb_model = GaussianNB()  # Gaussian Naive Bayes 模型的构建\n",
    "\n",
    "# 模型准确率列表\n",
    "acc_list = []\n",
    "train_acc_list = []\n",
    "print(\"开始训练\")\n",
    "\n",
    "# 模型训练\n",
    "gnb_model.fit(m_train, train_label)\n",
    "\n",
    "# 测试集\n",
    "y_pred = np.asarray(gnb_model.predict(m_val), dtype='int64')\n",
    "\n",
    "# 计算准确率\n",
    "acc = round(accuracy_score(val_label, y_pred), 3)\n",
    "\n",
    "# 训练集\n",
    "# y_pred_train = np.asarray(gnb_model.predict(m_train), dtype='int64')\n",
    "# train_acc = round(accuracy_score(train_label, y_pred_train), 3)\n",
    "\n",
    "acc_list.append(acc)\n",
    "# train_acc_list.append(train_acc)\n",
    "\n",
    "print(\"完成训练，测试集准确率：\", acc)"
   ],
   "id": "b913d8d49911e8b9",
   "outputs": [
    {
     "name": "stdout",
     "output_type": "stream",
     "text": [
      "开始训练\n",
      "完成训练，测试集准确率： 0.933\n"
     ]
    }
   ],
   "execution_count": 230
  },
  {
   "metadata": {
    "ExecuteTime": {
     "end_time": "2024-07-30T17:01:47.709273Z",
     "start_time": "2024-07-30T17:01:47.679039Z"
    }
   },
   "cell_type": "code",
   "source": [
    "y_pred_final = np.asarray(gnb_model.predict(m_val), dtype='int64')\n",
    "print('------------------测试集上得分：------------------------')\n",
    "print('*' * 5)\n",
    "print('测试集准确率得分:', round(accuracy_score(val_label, y_pred_final), 3))\n",
    "print('*' * 5)\n",
    "print('准确率、召回率、f1-值测试报告如下:\\n', classification_report(val_label, y_pred_final,zero_division=0))\n",
    "\n",
    "result=classification_report(val_label, y_pred,output_dict=True,zero_division=0)\n",
    "gb_info={}\n",
    "gb_info['accuracy']=result['accuracy']\n",
    "gb_info['precision']=result['macro avg']['precision']\n",
    "gb_info['recall']=result['macro avg']['recall']\n",
    "gb_info['f1-score']=result['macro avg']['f1-score']"
   ],
   "id": "f00aad4fa0b74a60",
   "outputs": [
    {
     "name": "stdout",
     "output_type": "stream",
     "text": [
      "------------------测试集上得分：------------------------\n",
      "*****\n",
      "测试集准确率得分: 0.933\n",
      "*****\n",
      "准确率、召回率、f1-值测试报告如下:\n",
      "               precision    recall  f1-score   support\n",
      "\n",
      "           0       0.90      0.87      0.88       144\n",
      "           1       1.00      1.00      1.00       150\n",
      "           2       0.85      0.79      0.82       157\n",
      "           3       0.98      0.99      0.99       158\n",
      "           4       0.99      0.93      0.96       164\n",
      "           5       1.00      1.00      1.00       143\n",
      "           6       0.74      0.86      0.80       158\n",
      "           7       1.00      1.00      1.00       132\n",
      "           8       0.99      0.91      0.95       156\n",
      "           9       0.93      1.00      0.96       138\n",
      "\n",
      "    accuracy                           0.93      1500\n",
      "   macro avg       0.94      0.93      0.94      1500\n",
      "weighted avg       0.94      0.93      0.93      1500\n",
      "\n"
     ]
    }
   ],
   "execution_count": 231
  },
  {
   "metadata": {},
   "cell_type": "markdown",
   "source": "# 保存模型",
   "id": "927c300879cb8d3b"
  },
  {
   "metadata": {
    "ExecuteTime": {
     "end_time": "2024-07-30T17:01:47.724679Z",
     "start_time": "2024-07-30T17:01:47.711361Z"
    }
   },
   "cell_type": "code",
   "source": "dump(gnb_model, 'models_save/gnb_10class_thisisbad.joblib')",
   "id": "b2bb85e6189ecb1",
   "outputs": [
    {
     "data": {
      "text/plain": [
       "['models_save/gnb_10class_thisisbad.joblib']"
      ]
     },
     "execution_count": 232,
     "metadata": {},
     "output_type": "execute_result"
    }
   ],
   "execution_count": 232
  },
  {
   "metadata": {},
   "cell_type": "markdown",
   "source": "# KNN",
   "id": "981ecac76efa1204"
  },
  {
   "metadata": {
    "ExecuteTime": {
     "end_time": "2024-07-30T17:01:47.740052Z",
     "start_time": "2024-07-30T17:01:47.726479Z"
    }
   },
   "cell_type": "code",
   "source": "from sklearn.neighbors import KNeighborsClassifier  ",
   "id": "f890b82debd6733e",
   "outputs": [],
   "execution_count": 233
  },
  {
   "metadata": {},
   "cell_type": "markdown",
   "source": "# 模型参数设置，选择KNN模型  ",
   "id": "1bf0247cbb4ce972"
  },
  {
   "metadata": {
    "ExecuteTime": {
     "end_time": "2024-07-30T17:01:47.817552Z",
     "start_time": "2024-07-30T17:01:47.742050Z"
    }
   },
   "cell_type": "code",
   "source": [
    "knn_model = KNeighborsClassifier(n_neighbors=5)  # 你可以根据需要调整邻居的数量  \n",
    "\n",
    "# 模型准确率列表  \n",
    "acc_list = []  \n",
    "train_acc_list = []  \n",
    "print(\"开始训练\")  \n",
    "# 模型拟合  \n",
    "knn_model.fit(m_train, train_label)  \n",
    "\n",
    "# 测试集  \n",
    "y_pred = knn_model.predict(m_val)  \n",
    "\n",
    "# 计算准确率  \n",
    "acc = round(accuracy_score(val_label, y_pred), 3)  \n",
    "\n",
    "# 训练集  \n",
    "# y_pred_train = knn_model.predict(m_train)  \n",
    "# train_acc = round(accuracy_score(train_label, y_pred_train), 3)  \n",
    "\n",
    "acc_list.append(acc)  \n",
    "# train_acc_list.append(train_acc)  \n",
    "\n",
    "print(\"完成训练，测试集准确率：\", acc)  \n",
    "print('------------------测试集上得分：------------------------')  \n",
    "print('*' * 5)  \n",
    "print('测试集准确率得分:', acc)  \n",
    "print('*' * 5)  \n",
    "print('准确率、召回率、f1-值测试报告如下:\\n', classification_report(val_label, y_pred,output_dict=False))  \n",
    "\n",
    "\n",
    "result=classification_report(val_label, y_pred,output_dict=True)\n",
    "knn_info={}\n",
    "knn_info['accuracy']=result['accuracy']\n",
    "knn_info['precision']=result['macro avg']['precision']\n",
    "knn_info['recall']=result['macro avg']['recall']\n",
    "knn_info['f1-score']=result['macro avg']['f1-score']\n"
   ],
   "id": "713569595d4d9032",
   "outputs": [
    {
     "name": "stdout",
     "output_type": "stream",
     "text": [
      "开始训练\n",
      "完成训练，测试集准确率： 0.944\n",
      "------------------测试集上得分：------------------------\n",
      "*****\n",
      "测试集准确率得分: 0.944\n",
      "*****\n",
      "准确率、召回率、f1-值测试报告如下:\n",
      "               precision    recall  f1-score   support\n",
      "\n",
      "           0       0.93      0.85      0.89       144\n",
      "           1       1.00      1.00      1.00       150\n",
      "           2       0.84      0.86      0.85       157\n",
      "           3       0.95      1.00      0.98       158\n",
      "           4       0.98      0.98      0.98       164\n",
      "           5       1.00      1.00      1.00       143\n",
      "           6       0.85      0.87      0.86       158\n",
      "           7       1.00      1.00      1.00       132\n",
      "           8       0.99      0.90      0.94       156\n",
      "           9       0.92      0.99      0.95       138\n",
      "\n",
      "    accuracy                           0.94      1500\n",
      "   macro avg       0.95      0.95      0.95      1500\n",
      "weighted avg       0.94      0.94      0.94      1500\n",
      "\n"
     ]
    }
   ],
   "execution_count": 234
  },
  {
   "metadata": {
    "ExecuteTime": {
     "end_time": "2024-07-30T17:01:47.832948Z",
     "start_time": "2024-07-30T17:01:47.819562Z"
    }
   },
   "cell_type": "code",
   "source": [
    "# 保存模型\n",
    "dump(knn_model, 'models_save/knn_10class.joblib')"
   ],
   "id": "e8dc3f52b5a527c7",
   "outputs": [
    {
     "data": {
      "text/plain": [
       "['models_save/knn_10class.joblib']"
      ]
     },
     "execution_count": 235,
     "metadata": {},
     "output_type": "execute_result"
    }
   ],
   "execution_count": 235
  },
  {
   "metadata": {
    "ExecuteTime": {
     "end_time": "2024-07-30T17:01:48.049020Z",
     "start_time": "2024-07-30T17:01:47.835344Z"
    }
   },
   "cell_type": "code",
   "source": [
    "results = {'KNN':knn_info,'GaussianNB':gb_info,'SVM':svm_info,'RandomForest':rfc_info,}\n",
    "\n",
    "model_names = list(results.keys())  \n",
    "accuracy = [results[model]['accuracy'] for model in model_names]  \n",
    "precision = [results[model]['precision'] for model in model_names]  \n",
    "recall = [results[model]['recall'] for model in model_names]  \n",
    "f1_score = [results[model]['f1-score'] for model in model_names]  \n",
    "\n",
    "# 设置 X 轴位置  \n",
    "x = np.arange(len(model_names))  \n",
    "\n",
    "# 设置宽度  \n",
    "width = 0.2  \n",
    "\n",
    "# 创建图形和轴  \n",
    "plt.figure(figsize=(10, 6))  \n",
    "\n",
    "# 绘制折线图  \n",
    "plt.plot(model_names, accuracy, marker='o', label='Accuracy', linestyle='dotted', color='blue')  \n",
    "plt.plot(model_names, precision, marker='o', label='Precision', linestyle=':', color='orange')  \n",
    "plt.plot(model_names, recall, marker='o', label='Recall', linestyle='-.', color='green')  \n",
    "plt.plot(model_names, f1_score, marker='o', label='F1 Score', linestyle='-', color='red')  \n",
    "\n",
    "# 添加标题和标签  \n",
    "plt.title('Model Performance Comparison')  \n",
    "plt.xlabel('Models')  \n",
    "plt.ylabel('Scores')  \n",
    "plt.ylim(0, 1)  \n",
    "\n",
    "# 图例  \n",
    "plt.legend()  \n",
    "\n",
    "# 显示数值标签  \n",
    "for i, (acc, prec, rec, f1) in enumerate(zip(accuracy, precision, recall, f1_score)):  \n",
    "    plt.text(i, acc + 0.02, f'{acc:.2f}', ha='center')  \n",
    "    plt.text(i, prec + 0.02, f'{prec:.2f}', ha='center')  \n",
    "    plt.text(i, rec + 0.02, f'{rec:.2f}', ha='center')  \n",
    "    plt.text(i, f1 + 0.02, f'{f1:.2f}', ha='center')  \n",
    "\n",
    "# 显示图形  \n",
    "plt.tight_layout()  \n",
    "plt.grid()  \n",
    "plt.show() "
   ],
   "id": "c7e743398f46503f",
   "outputs": [
    {
     "data": {
      "text/plain": [
       "<Figure size 1000x600 with 1 Axes>"
      ],
      "image/png": "[encoded data removed]"
     },
     "metadata": {},
     "output_type": "display_data"
    }
   ],
   "execution_count": 236
  }
 ],
 "metadata": {
  "kernelspec": {
   "display_name": "Python 3",
   "language": "python",
   "name": "python3"
  },
  "language_info": {
   "codemirror_mode": {
    "name": "ipython",
    "version": 2
   },
   "file_extension": ".py",
   "mimetype": "text/x-python",
   "name": "python",
   "nbconvert_exporter": "python",
   "pygments_lexer": "ipython2",
   "version": "2.7.6"
  }
 },
 "nbformat": 4,
 "nbformat_minor": 5
}
