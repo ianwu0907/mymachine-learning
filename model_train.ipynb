{
 "cells": [
  {
   "cell_type": "code",
   "id": "6ae1e7f921fd05e4",
   "metadata": {
    "collapsed": true,
    "ExecuteTime": {
     "end_time": "2024-07-29T09:44:50.990842Z",
     "start_time": "2024-07-29T09:44:50.980020Z"
    }
   },
   "source": [
    "import os\n",
    "import matplotlib.pyplot as plt\n",
    "from collections import Counter\n",
    "import numpy as np\n",
    "import tensorflow as tf"
   ],
   "outputs": [],
   "execution_count": 11
  },
  {
   "metadata": {},
   "cell_type": "markdown",
   "source": [
    "\n",
    "# 读取数据，构造训练集和测试集"
   ],
   "id": "714f7621411921bf"
  },
  {
   "metadata": {
    "ExecuteTime": {
     "end_time": "2024-07-29T09:44:51.057364Z",
     "start_time": "2024-07-29T09:44:51.047440Z"
    }
   },
   "cell_type": "code",
   "source": [
    "def load_data():\n",
    "    # 读取数据\n",
    "    x = np.load('train_data/train_data.npy')\n",
    "    y = np.load('train_data/label.npy')\n",
    "    num = len(Counter(y))\n",
    "    print(\"类别数量为：\", num)\n",
    "    return x, y, num\n"
   ],
   "id": "351d3fc7e3daec7a",
   "outputs": [],
   "execution_count": 12
  },
  {
   "metadata": {
    "ExecuteTime": {
     "end_time": "2024-07-29T09:44:51.081599Z",
     "start_time": "2024-07-29T09:44:51.072037Z"
    }
   },
   "cell_type": "code",
   "source": [
    "\n",
    "def create_train_data(x, y, ratio=0.8):\n",
    "    \"\"\"\n",
    "    x:数据\n",
    "    y:类别\n",
    "    ratio:生成训练集比率\n",
    "    \"\"\"\n",
    "    # 打乱顺序\n",
    "    # 读取data矩阵的第一维数（图片的个数）\n",
    "    num_example = x.shape[0]\n",
    "    # 产生一个num_example范围，步长为1的序列\n",
    "    arr = np.arange(num_example)\n",
    "    # 调用函数，打乱顺序\n",
    "    np.random.seed(99)\n",
    "    np.random.shuffle(arr)\n",
    "    # 按照打乱的顺序，重新排序\n",
    "    arr_data = x[arr]\n",
    "    arr_label = y[arr]\n",
    "    # 将数据集分为训练集80%、测试集20%\n",
    "    s = int(num_example * ratio)\n",
    "    x_train = arr_data[:s]\n",
    "    y_train = arr_label[:s]\n",
    "    x_val = arr_data[s:]\n",
    "    y_val = arr_label[s:]\n",
    "    print(\"训练集shape\", x_train.shape)\n",
    "    print(\"训练集类别：\", Counter(y_train))\n",
    "    print(\"测试集shape\", x_val.shape)\n",
    "    print(\"测试集类别：\", Counter(y_val))\n",
    "    return x_train, y_train, x_val, y_val\n"
   ],
   "id": "5ccd59021a5e3b72",
   "outputs": [],
   "execution_count": 13
  },
  {
   "metadata": {},
   "cell_type": "markdown",
   "source": [
    "\n",
    "# 读取数据"
   ],
   "id": "ce03cdfbc96319b5"
  },
  {
   "metadata": {
    "ExecuteTime": {
     "end_time": "2024-07-29T09:44:51.224312Z",
     "start_time": "2024-07-29T09:44:51.102240Z"
    }
   },
   "cell_type": "code",
   "source": [
    "data, label, label_count = load_data()\n",
    "# 生成训练集测试集,70%用作训练，30%用作测试\n",
    "train_data, train_label, val_data, val_label = create_train_data(data, label, 0.7)\n",
    "# # 从val_data和val_label中拿出最后1个元素作为测试组\n",
    "# test_data = val_data[-1:]\n",
    "# test_label = val_label[-1:]\n",
    "# \n",
    "# # 移除val_data和val_label中的最后1个元素\n",
    "# val_data = val_data[:-1]\n",
    "# val_label = val_label[:-1]\n",
    "print(\"*\" * 10)\n",
    "print(\"训练集数量：\", len(train_label))\n",
    "print(\"测试集数量：\", len(val_label))\n",
    "# print(\"测试组数量：\",len(test_label))"
   ],
   "id": "67f68f2110816791",
   "outputs": [
    {
     "name": "stdout",
     "output_type": "stream",
     "text": [
      "类别数量为： 4\n",
      "训练集shape (3919, 1000, 2)\n",
      "训练集类别： Counter({0: 989, 2: 987, 3: 979, 1: 964})\n",
      "测试集shape (1681, 1000, 2)\n",
      "测试集类别： Counter({1: 436, 3: 421, 2: 413, 0: 411})\n",
      "**********\n",
      "训练集数量： 3919\n",
      "测试集数量： 1681\n"
     ]
    }
   ],
   "execution_count": 14
  },
  {
   "metadata": {},
   "cell_type": "markdown",
   "source": [
    "\n",
    "# 数据集构建"
   ],
   "id": "784de51fe22888a4"
  },
  {
   "metadata": {
    "ExecuteTime": {
     "end_time": "2024-07-29T09:44:51.240497Z",
     "start_time": "2024-07-29T09:44:51.227144Z"
    }
   },
   "cell_type": "code",
   "source": [
    "# 使用机器学习算法需要对多维数据进行降维\n",
    "m_train = train_data.reshape(train_data.shape[0], train_data.shape[1] * train_data.shape[2])\n",
    "m_val = val_data.reshape(val_data.shape[0], val_data.shape[1] * val_data.shape[2])\n",
    "# m_test = test_data.reshape(test_data.shape[0],test_data.shape[1]*test_data.shape[2])\n",
    "# 设置训练迭代次数\n",
    "epoch = 20"
   ],
   "id": "39ab866ee79080d5",
   "outputs": [],
   "execution_count": 15
  },
  {
   "metadata": {},
   "cell_type": "markdown",
   "source": [
    "\n",
    "# 随机森林"
   ],
   "id": "3eb6b42317332698"
  },
  {
   "metadata": {
    "ExecuteTime": {
     "end_time": "2024-07-29T09:44:51.251247Z",
     "start_time": "2024-07-29T09:44:51.242959Z"
    }
   },
   "cell_type": "code",
   "source": [
    "\n",
    "from sklearn.ensemble import RandomForestClassifier\n",
    "from sklearn.metrics import roc_curve, roc_auc_score, classification_report, accuracy_score, log_loss\n",
    "from sklearn.model_selection import GridSearchCV, train_test_split\n",
    "from sklearn import model_selection\n",
    "from sklearn.preprocessing import OneHotEncoder\n",
    "from sklearn.preprocessing import normalize"
   ],
   "id": "6bdb4fd72f1a9154",
   "outputs": [],
   "execution_count": 16
  },
  {
   "metadata": {
    "ExecuteTime": {
     "end_time": "2024-07-29T09:45:47.883455Z",
     "start_time": "2024-07-29T09:44:51.253639Z"
    }
   },
   "cell_type": "code",
   "source": [
    "\n",
    "## 模型训练\n",
    "# 模型参数设置\n",
    "rfc = RandomForestClassifier(n_estimators=50, min_samples_split=5, min_samples_leaf=4, max_depth=5)\n",
    "\n",
    "# 模型准确率和损失值\n",
    "acc_list = []\n",
    "# loss_list = []\n",
    "train_acc_list = []\n",
    "print(\"开始训练\")\n",
    "for i in range(1, epoch + 1):\n",
    "    # 模型训练\n",
    "    rfc.fit(m_train, train_label)\n",
    "\n",
    "    # # 训练集\n",
    "    # y_train = rfc.predict(m_train)\n",
    "\n",
    "    # 测试集\n",
    "    y_pred = np.asarray(rfc.predict(m_val), dtype='int64')\n",
    "\n",
    "    # 计算准确率\n",
    "    acc = round(accuracy_score(val_label, y_pred), 3)\n",
    "\n",
    "    # 训练集\n",
    "    y_pred = np.asarray(rfc.predict(m_train), dtype='int64')\n",
    "    # 计算准确率\n",
    "    train_acc = round(accuracy_score(train_label, y_pred), 3)\n",
    "\n",
    "    # print('测试集准确率:', round(accuracy_score(val_label, y_pred),3))\n",
    "    acc_list.append(acc)\n",
    "    train_acc_list.append(train_acc)\n",
    "\n",
    "    # 计算损失值\n",
    "    # 使用one-hot编码计算损失值\n",
    "    # noe_hot = OneHotEncoder(sparse_output=False)\n",
    "    # \n",
    "    # y_pred_o = noe_hot.fit_transform(y_pred.reshape(1, -1))\n",
    "    # val_label_o = noe_hot.fit_transform(train_label.reshape(1, -1))\n",
    "\n",
    "    # loss = round(log_loss(val_label_o,y_pred_o),3)\n",
    "    # print(\"loss：\",loss)\n",
    "    # loss_list.append(loss)\n",
    "    print(\"完成第\", i, \"轮训练，测试集准确率：\", acc)"
   ],
   "id": "81f7470511fd5000",
   "outputs": [
    {
     "name": "stdout",
     "output_type": "stream",
     "text": [
      "开始训练\n",
      "完成第 1 轮训练，测试集准确率： 0.741\n",
      "完成第 2 轮训练，测试集准确率： 0.739\n",
      "完成第 3 轮训练，测试集准确率： 0.72\n",
      "完成第 4 轮训练，测试集准确率： 0.736\n",
      "完成第 5 轮训练，测试集准确率： 0.746\n",
      "完成第 6 轮训练，测试集准确率： 0.729\n",
      "完成第 7 轮训练，测试集准确率： 0.723\n",
      "完成第 8 轮训练，测试集准确率： 0.742\n",
      "完成第 9 轮训练，测试集准确率： 0.745\n",
      "完成第 10 轮训练，测试集准确率： 0.736\n",
      "完成第 11 轮训练，测试集准确率： 0.714\n",
      "完成第 12 轮训练，测试集准确率： 0.725\n",
      "完成第 13 轮训练，测试集准确率： 0.735\n",
      "完成第 14 轮训练，测试集准确率： 0.732\n",
      "完成第 15 轮训练，测试集准确率： 0.726\n",
      "完成第 16 轮训练，测试集准确率： 0.75\n",
      "完成第 17 轮训练，测试集准确率： 0.723\n",
      "完成第 18 轮训练，测试集准确率： 0.736\n",
      "完成第 19 轮训练，测试集准确率： 0.72\n",
      "完成第 20 轮训练，测试集准确率： 0.719\n"
     ]
    }
   ],
   "execution_count": 17
  },
  {
   "metadata": {},
   "cell_type": "markdown",
   "source": "## 测试集得分",
   "id": "9d3121758bd018ac"
  },
  {
   "metadata": {
    "ExecuteTime": {
     "end_time": "2024-07-29T09:45:47.925853Z",
     "start_time": "2024-07-29T09:45:47.884784Z"
    }
   },
   "cell_type": "code",
   "source": [
    "y_pred = np.asarray(rfc.predict(m_val), dtype='int64')\n",
    "print('------------------测试集上得分：------------------------')\n",
    "print('*' * 5)\n",
    "print('测试集准确率得分:', round(accuracy_score(val_label, y_pred), 3))\n",
    "print('*' * 5)\n",
    "print('准确率、召回率、f1-值测试报告如下:\\n', classification_report(val_label, y_pred))"
   ],
   "id": "c39498ae0ac4e9c5",
   "outputs": [
    {
     "name": "stdout",
     "output_type": "stream",
     "text": [
      "------------------测试集上得分：------------------------\n",
      "*****\n",
      "测试集准确率得分: 0.719\n",
      "*****\n",
      "准确率、召回率、f1-值测试报告如下:\n",
      "               precision    recall  f1-score   support\n",
      "\n",
      "           0       0.82      1.00      0.90       411\n",
      "           1       0.71      0.76      0.73       436\n",
      "           2       0.52      0.36      0.43       413\n",
      "           3       0.75      0.75      0.75       421\n",
      "\n",
      "    accuracy                           0.72      1681\n",
      "   macro avg       0.70      0.72      0.70      1681\n",
      "weighted avg       0.70      0.72      0.70      1681\n",
      "\n"
     ]
    }
   ],
   "execution_count": 18
  },
  {
   "metadata": {},
   "cell_type": "markdown",
   "source": [
    "\n",
    "## 模型迭代准确率"
   ],
   "id": "5d59042758e6041a"
  },
  {
   "metadata": {
    "ExecuteTime": {
     "end_time": "2024-07-29T09:45:48.024068Z",
     "start_time": "2024-07-29T09:45:47.927252Z"
    }
   },
   "cell_type": "code",
   "source": [
    "# 设置Y轴范围\n",
    "plt.ylim(0, 1)\n",
    "# 训练准确率曲线\n",
    "show_data1 = train_acc_list\n",
    "# 测试准确率曲线\n",
    "show_data2 = acc_list\n",
    "x_data = list(range(1, len(show_data1) + 1))\n",
    "ln1, = plt.plot(x_data, show_data1, color='blue', linewidth=2.0, linestyle='--')\n",
    "ln2, = plt.plot(x_data, show_data2, color='red', linewidth=3.0, linestyle='-.')\n",
    "plt.legend(handles=[ln1, ln2], labels=['train_acc', 'val_acc'])\n",
    "plt.show()"
   ],
   "id": "3ae95868569bc621",
   "outputs": [
    {
     "data": {
      "text/plain": [
       "<Figure size 640x480 with 1 Axes>"
      ],
      "image/png": "[encoded data removed]"
     },
     "metadata": {},
     "output_type": "display_data"
    }
   ],
   "execution_count": 19
  },
  {
   "metadata": {},
   "cell_type": "markdown",
   "source": "## 保存模型",
   "id": "f6e24161fa71a7c5"
  },
  {
   "metadata": {
    "ExecuteTime": {
     "end_time": "2024-07-29T09:45:48.053126Z",
     "start_time": "2024-07-29T09:45:48.025102Z"
    }
   },
   "cell_type": "code",
   "source": [
    "from joblib import dump, load\n",
    "\n",
    "# 保存模型\n",
    "dump(rfc, 'models_save/rfc.joblib')\n",
    "# # 加载\n",
    "# rfc = load('models_save/rfc.joblib')\n",
    "# print(rfc)"
   ],
   "id": "25e73f227e3cc88d",
   "outputs": [
    {
     "data": {
      "text/plain": [
       "['models_save/rfc.joblib']"
      ]
     },
     "execution_count": 20,
     "metadata": {},
     "output_type": "execute_result"
    }
   ],
   "execution_count": 20
  },
  {
   "metadata": {},
   "cell_type": "markdown",
   "source": "# SVM",
   "id": "d5136f685133cc7"
  },
  {
   "metadata": {
    "ExecuteTime": {
     "end_time": "2024-07-29T09:45:48.065197Z",
     "start_time": "2024-07-29T09:45:48.054327Z"
    }
   },
   "cell_type": "code",
   "source": "from sklearn import svm  # 引入SVM库",
   "id": "1b22aaf858289121",
   "outputs": [],
   "execution_count": 21
  },
  {
   "metadata": {},
   "cell_type": "markdown",
   "source": "# 读取数据",
   "id": "ab8c616e1520634e"
  },
  {
   "metadata": {
    "ExecuteTime": {
     "end_time": "2024-07-29T09:45:48.162201Z",
     "start_time": "2024-07-29T09:45:48.067254Z"
    }
   },
   "cell_type": "code",
   "source": [
    "data, label, label_count = load_data()\n",
    "# 生成训练集测试集,70%用作训练，30%用作测试\n",
    "train_data, train_label, val_data, val_label = create_train_data(data, label, 0.7)\n",
    "\n",
    "print(\"*\" * 10)\n",
    "print(\"训练集数量：\", len(train_label))\n",
    "print(\"测试集数量：\", len(val_label))\n",
    "# 使用机器学习算法需要对多维数据进行降维\n",
    "m_train = train_data.reshape(train_data.shape[0], train_data.shape[1] * train_data.shape[2])\n",
    "m_val = val_data.reshape(val_data.shape[0], val_data.shape[1] * val_data.shape[2])"
   ],
   "id": "dcedd266d9cbf494",
   "outputs": [
    {
     "name": "stdout",
     "output_type": "stream",
     "text": [
      "类别数量为： 4\n",
      "训练集shape (3919, 1000, 2)\n",
      "训练集类别： Counter({0: 989, 2: 987, 3: 979, 1: 964})\n",
      "测试集shape (1681, 1000, 2)\n",
      "测试集类别： Counter({1: 436, 3: 421, 2: 413, 0: 411})\n",
      "**********\n",
      "训练集数量： 3919\n",
      "测试集数量： 1681\n"
     ]
    }
   ],
   "execution_count": 22
  },
  {
   "metadata": {
    "ExecuteTime": {
     "end_time": "2024-07-29T09:47:30.645486Z",
     "start_time": "2024-07-29T09:45:48.164764Z"
    }
   },
   "cell_type": "code",
   "source": [
    "# 设置训练迭代次数\n",
    "epoch = 20\n",
    "# 模型参数设置\n",
    "svm_model = svm.SVC(kernel='rbf', gamma='scale', probability=True)  # SVM模型的构建\n",
    "\n",
    "# 模型准确率列表\n",
    "acc_list = []\n",
    "train_acc_list = []\n",
    "print(\"开始训练\")\n",
    "# for i in range(1, epoch + 1):\n",
    "# 模型训练\n",
    "svm_model.fit(m_train, train_label)\n",
    "\n",
    "# 测试集\n",
    "y_pred = np.asarray(svm_model.predict(m_val), dtype='int64')\n",
    "\n",
    "# 计算准确率\n",
    "acc = round(accuracy_score(val_label, y_pred), 3)\n",
    "\n",
    "# 训练集\n",
    "y_pred_train = np.asarray(svm_model.predict(m_train), dtype='int64')\n",
    "train_acc = round(accuracy_score(train_label, y_pred_train), 3)\n",
    "\n",
    "acc_list.append(acc)\n",
    "train_acc_list.append(train_acc)\n",
    "\n",
    "print(\"完成SVM训练，测试集准确率：\", acc)"
   ],
   "id": "f61094848c908169",
   "outputs": [
    {
     "name": "stdout",
     "output_type": "stream",
     "text": [
      "开始训练\n",
      "完成SVM训练，测试集准确率： 0.891\n"
     ]
    }
   ],
   "execution_count": 23
  },
  {
   "metadata": {
    "ExecuteTime": {
     "end_time": "2024-07-29T09:47:38.467543Z",
     "start_time": "2024-07-29T09:47:30.646636Z"
    }
   },
   "cell_type": "code",
   "source": [
    "y_pred_final = np.asarray(svm_model.predict(m_val), dtype='int64')\n",
    "print('------------------测试集上得分：------------------------')\n",
    "print('*' * 5)\n",
    "print('测试集准确率得分:', round(accuracy_score(val_label, y_pred_final), 3))\n",
    "print('*' * 5)\n",
    "print('准确率、召回率、f1-值测试报告如下:\\n', classification_report(val_label, y_pred_final))"
   ],
   "id": "initial_id",
   "outputs": [
    {
     "name": "stdout",
     "output_type": "stream",
     "text": [
      "------------------测试集上得分：------------------------\n",
      "*****\n",
      "测试集准确率得分: 0.891\n",
      "*****\n",
      "准确率、召回率、f1-值测试报告如下:\n",
      "               precision    recall  f1-score   support\n",
      "\n",
      "           0       1.00      1.00      1.00       411\n",
      "           1       0.84      0.96      0.90       436\n",
      "           2       0.88      0.77      0.82       413\n",
      "           3       0.85      0.83      0.84       421\n",
      "\n",
      "    accuracy                           0.89      1681\n",
      "   macro avg       0.89      0.89      0.89      1681\n",
      "weighted avg       0.89      0.89      0.89      1681\n",
      "\n"
     ]
    }
   ],
   "execution_count": 24
  },
  {
   "metadata": {
    "ExecuteTime": {
     "end_time": "2024-07-29T09:47:38.529131Z",
     "start_time": "2024-07-29T09:47:38.468762Z"
    }
   },
   "cell_type": "code",
   "source": [
    "from joblib import dump, load\n",
    "\n",
    "# 保存模型\n",
    "dump(svm_model, 'models_save/svm.joblib')\n",
    "# # 加载\n",
    "# svm = load('models_save/svm.joblib')\n",
    "# print(svm)"
   ],
   "id": "1363a0af7c46929",
   "outputs": [
    {
     "data": {
      "text/plain": [
       "['models_save/svm.joblib']"
      ]
     },
     "execution_count": 25,
     "metadata": {},
     "output_type": "execute_result"
    }
   ],
   "execution_count": 25
  }
 ],
 "metadata": {
  "kernelspec": {
   "display_name": "Python 3",
   "language": "python",
   "name": "python3"
  },
  "language_info": {
   "codemirror_mode": {
    "name": "ipython",
    "version": 2
   },
   "file_extension": ".py",
   "mimetype": "text/x-python",
   "name": "python",
   "nbconvert_exporter": "python",
   "pygments_lexer": "ipython2",
   "version": "2.7.6"
  }
 },
 "nbformat": 4,
 "nbformat_minor": 5
}
